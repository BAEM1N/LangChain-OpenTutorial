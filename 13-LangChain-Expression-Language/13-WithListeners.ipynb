{
  "cells": [
    {
      "cell_type": "markdown",
      "id": "635d8ebb",
      "metadata": {},
      "source": [
        "# WithListeners\n",
        "\n",
        "- Author: [Donghak Lee](https://github.com/stsr1284)\n",
        "- Design:\n",
        "- Peer Review: [Donghak Lee](https://github.com/stsr1284)\n",
        "- This is a part of [LangChain Open Tutorial](https://github.com/LangChain-OpenTutorial/LangChain-OpenTutorial)\n",
        "\n",
        "[![Open in Colab](https://colab.research.google.com/assets/colab-badge.svg)](https://colab.research.google.com/github/LangChain-OpenTutorial/LangChain-OpenTutorial/blob/main/99-TEMPLATE/00-BASE-TEMPLATE-EXAMPLE.ipynb) [![Open in GitHub](https://img.shields.io/badge/Open%20in%20GitHub-181717?style=flat-square&logo=github&logoColor=white)](https://github.com/LangChain-OpenTutorial/LangChain-OpenTutorial/blob/main/99-TEMPLATE/00-BASE-TEMPLATE-EXAMPLE.ipynb)\n",
        "\n",
        "## Overview\n",
        "\n",
        "이 튜토리얼은 `Runnable` 의 `with_listeners()`의 구현 및 활용을 다룹니다.\n",
        "\n",
        "`with_listeners`는 Runnable에 lifecycle listeners를 bind하여 new Runnable을 반환 합니다. 이를 통해서 데이터 흐름에 이벤트 리스너를 연결하여 실행 중 이벤트를 추적하거나 분석, 디버깅 작업을 수행할 수 있습니다.\n",
        "\n",
        "with_listeners() 함수는 Runnable 객체에 이벤트 리스너를 추가하는 기능을 제공합니다. 리스너는 특정 이벤트가 발생했을 때 호출되는 함수로, start, end, error 등의 이벤트를 감지하여 실행됩니다.\n",
        "\n",
        "이 함수는 다음과 같은 상황에서 유용합니다:\n",
        "\n",
        "- 데이터 처리 시작과 종료를 로깅하기\n",
        "\n",
        "- 에러 발생 시 알림을 트리거하기\n",
        "\n",
        "- 디버깅 정보 출력하기\n",
        "\n",
        "### Table of Contents\n",
        "\n",
        "- [Overview](#overview)\n",
        "- [Environement Setup](#environment-setup)\n",
        "- [with_listeners](#with_listeners)\n",
        "- [with_alisteners](#with_alisteners)\n",
        "\n",
        "### References\n",
        "\n",
        "- [LangChain with_listensers](https://python.langchain.com/v0.2/api_reference/core/runnables/langchain_core.runnables.base.Runnable.html#langchain_core.runnables.base.Runnable.with_listeners)\n",
        "----"
      ]
    },
    {
      "cell_type": "markdown",
      "id": "c6c7aba4",
      "metadata": {},
      "source": [
        "## Environment Setup\n",
        "\n",
        "Set up the environment. You may refer to [Environment Setup](https://wikidocs.net/257836) for more details.\n",
        "\n",
        "**[Note]**\n",
        "- `langchain-opentutorial` is a package that provides a set of easy-to-use environment setup, useful functions and utilities for tutorials. \n",
        "- You can checkout the [`langchain-opentutorial`](https://github.com/LangChain-OpenTutorial/langchain-opentutorial-pypi) for more details."
      ]
    },
    {
      "cell_type": "code",
      "execution_count": 50,
      "id": "21943adb",
      "metadata": {},
      "outputs": [],
      "source": [
        "%%capture --no-stderr\n",
        "!pip install langchain-opentutorial"
      ]
    },
    {
      "cell_type": "code",
      "execution_count": null,
      "id": "f25ec196",
      "metadata": {},
      "outputs": [],
      "source": [
        "# Install required packages\n",
        "from langchain_opentutorial import package\n",
        "\n",
        "package.install(\n",
        "    [\n",
        "        \"langchain_core\",\n",
        "        \"asyncio\",\n",
        "        \"time\",\n",
        "    ],\n",
        "    verbose=False,\n",
        "    upgrade=False,\n",
        ")"
      ]
    },
    {
      "cell_type": "code",
      "execution_count": 52,
      "id": "7f9065ea",
      "metadata": {},
      "outputs": [
        {
          "name": "stdout",
          "output_type": "stream",
          "text": [
            "Environment variables have been set successfully.\n"
          ]
        }
      ],
      "source": [
        "# Set environment variables\n",
        "from langchain_opentutorial import set_env\n",
        "\n",
        "set_env(\n",
        "    {\n",
        "        \"OPENAI_API_KEY\": \"\",\n",
        "        \"LANGCHAIN_API_KEY\": \"\",\n",
        "        \"LANGCHAIN_TRACING_V2\": \"true\",\n",
        "        \"LANGCHAIN_ENDPOINT\": \"https://api.smith.langchain.com\",\n",
        "        \"LANGCHAIN_PROJECT\": \"WithListeners\",\n",
        "    }\n",
        ")"
      ]
    },
    {
      "cell_type": "markdown",
      "id": "690a9ae0",
      "metadata": {},
      "source": [
        "You can alternatively set API keys such as `OPENAI_API_KEY` in a `.env` file and load them.\n",
        "\n",
        "[Note] This is not necessary if you've already set the required API keys in previous steps."
      ]
    },
    {
      "cell_type": "code",
      "execution_count": null,
      "id": "4f99b5b6",
      "metadata": {},
      "outputs": [],
      "source": [
        "# Load API keys from .env file\n",
        "from dotenv import load_dotenv\n",
        "\n",
        "load_dotenv(override=True)"
      ]
    },
    {
      "cell_type": "markdown",
      "id": "2b2fc536",
      "metadata": {},
      "source": [
        "## with_listeners\n",
        "\n",
        "Runnable.with_listeners()는 리스너 함수 목록을 받아서 새로운 Runnable 객체를 반환합니다. 리스너 함수는 start, end, error 이벤트에 대응하여 동작합니다.\n",
        "\n",
        "리스너 함수는 다음 구조를 가집니다:\n",
        "- on_start (Optional[Union[Callable[[Run], None], Callable[[Run, RunnableConfig], None]]]) \n",
        "    - Called before the Runnable starts running. Defaults to None.\n",
        "\n",
        "- on_end (Optional[Union[Callable[[Run], None], Callable[[Run, RunnableConfig], None]]]) \n",
        "    - Called after the Runnable finishes running. Defaults to None.\n",
        "\n",
        "- on_error (Optional[Union[Callable[[Run], None], Callable[[Run, RunnableConfig], None]]])\n",
        "    - Called if the Runnable throws an error. Defaults to None.\""
      ]
    },
    {
      "cell_type": "code",
      "execution_count": 54,
      "id": "fed852d1",
      "metadata": {},
      "outputs": [
        {
          "name": "stdout",
          "output_type": "stream",
          "text": [
            "Start: {'input': 'Hello, World!'}\n",
            "End: {'input': 'Hello, World!'}\n",
            "Start: {'input': 'Step 1 completed with message Hello, World!'}\n",
            "End: {'input': 'Step 1 completed with message Hello, World!'}\n",
            "Start: {'input': 'Step 2 completed with message Step 1 completed with message Hello, World!'}\n",
            "End: {'input': 'Step 2 completed with message Step 1 completed with message Hello, World!'}\n"
          ]
        }
      ],
      "source": [
        "from langchain_core.runnables import RunnableLambda\n",
        "import time\n",
        "\n",
        "# 각 Runnable에서 수행할 작업 정의\n",
        "def stepOne(message):\n",
        "    time.sleep(1)  # 1초 대기\n",
        "    return f\"Step 1 completed with message {message}\"\n",
        "\n",
        "def stepTwo(message):\n",
        "    time.sleep(2)  # 2초 대기\n",
        "    return f\"Step 2 completed with message {message}\"\n",
        "\n",
        "def stepThree(message):\n",
        "    time.sleep(1)  # 1초 대기\n",
        "    return f\"Step 3 completed with message {message}\"\n",
        "\n",
        "# 리스너 함수 정의\n",
        "def fnStart(runObj):\n",
        "    print(f\"Start: {runObj.inputs}\")\n",
        "\n",
        "def fnEnd(runObj):\n",
        "    print(f\"End: {runObj.inputs}\")\n",
        "\n",
        "def fnError(runObj):\n",
        "    print(f\"Error: {runObj.error}\")\n",
        "\n",
        "# 각 Runnable 정의\n",
        "runnable1 = RunnableLambda(stepOne).with_listeners(\n",
        "    on_start=fnStart,\n",
        "    on_end=fnEnd,\n",
        "    on_error=fnError\n",
        ")\n",
        "\n",
        "runnable2 = RunnableLambda(stepTwo).with_listeners(\n",
        "    on_start=fnStart,\n",
        "    on_end=fnEnd,\n",
        "    on_error=fnError\n",
        ")\n",
        "\n",
        "runnable3 = RunnableLambda(stepThree).with_listeners(\n",
        "    on_start=fnStart,\n",
        "    on_end=fnEnd,\n",
        "    on_error=fnError\n",
        ")\n",
        "\n",
        "# 체인 연결\n",
        "chain = runnable1 | runnable2 | runnable3\n",
        "\n",
        "# 실행\n",
        "output = chain.invoke(\"Hello, World!\")"
      ]
    },
    {
      "cell_type": "markdown",
      "id": "new-markdown-cell",
      "metadata": {},
      "source": [
        "## with_alisteners\n",
        "\n",
        "Bind asynchronous lifecycle listeners to a Runnable, returning a new Runnable\n",
        "\n",
        "on_start: Asynchronously called before the Runnable starts running. on_end: Asynchronously called after the Runnable finishes running. on_error: Asynchronously called if the Runnable throws an error.\n",
        "\n",
        "The Run object contains information about the run, including its id, type, input, output, error, start_time, end_time, and any tags or metadata added to the run."
      ]
    },
    {
      "cell_type": "code",
      "execution_count": 55,
      "id": "6a5a85f8",
      "metadata": {},
      "outputs": [
        {
          "name": "stdout",
          "output_type": "stream",
          "text": [
            "on start callback starts at 36\n",
            "on start callback starts at 36\n",
            "on start callback ends at 39\n",
            "on start callback ends at 39\n",
            "Runnable[2s]: starts at 39\n",
            "Runnable[3s]: starts at 39\n",
            "Runnable[2s]: ends at 41\n",
            "on end callback starts at 41\n",
            "Runnable[3s]: ends at 42\n",
            "on end callback starts at 42\n",
            "on end callback ends at 43\n",
            "on end callback ends at 44\n"
          ]
        }
      ],
      "source": [
        "import asyncio\n",
        "\n",
        "async def test_runnable(time_to_sleep: int):\n",
        "    print(f\"Runnable[{time_to_sleep}s]: starts at {time.strftime('%S')}\")\n",
        "    await asyncio.sleep(time_to_sleep)\n",
        "    print(f\"Runnable[{time_to_sleep}s]: ends at {time.strftime('%S')}\")\n",
        "\n",
        "async def fn_start(run_obj):\n",
        "    print(f\"on start callback starts at {time.strftime('%S')}\")\n",
        "    await asyncio.sleep(3)\n",
        "    print(f\"on start callback ends at {time.strftime('%S')}\")\n",
        "\n",
        "async def fn_end(run_obj):\n",
        "    print(f\"on end callback starts at {time.strftime('%S')}\")\n",
        "    await asyncio.sleep(2)\n",
        "    print(f\"on end callback ends at {time.strftime('%S')}\")\n",
        "\n",
        "runnable = RunnableLambda(test_runnable).with_alisteners(\n",
        "    on_start=fn_start,\n",
        "    on_end=fn_end\n",
        ")\n",
        "\n",
        "async def concurrent_runs():\n",
        "    await asyncio.gather(runnable.ainvoke(2), runnable.ainvoke(3))\n",
        "\n",
        "# Check if there's an existing event loop\n",
        "try:\n",
        "    loop = asyncio.get_running_loop()\n",
        "except RuntimeError:\n",
        "    loop = None\n",
        "\n",
        "if loop and loop.is_running():\n",
        "    # If there's an existing event loop, use it to run the coroutine\n",
        "    await concurrent_runs()\n",
        "else:\n",
        "    # Otherwise, create a new event loop and run the coroutine\n",
        "    asyncio.run(concurrent_runs())"
      ]
    }
  ],
  "metadata": {
    "kernelspec": {
      "display_name": "langchain-opentutorial-k6AU65mE-py3.11",
      "language": "python",
      "name": "python3"
    },
    "language_info": {
      "codemirror_mode": {
        "name": "ipython",
        "version": 3
      },
      "file_extension": ".py",
      "mimetype": "text/x-python",
      "name": "python",
      "nbconvert_exporter": "python",
      "pygments_lexer": "ipython3",
      "version": "3.11.11"
    }
  },
  "nbformat": 4,
  "nbformat_minor": 5
}
