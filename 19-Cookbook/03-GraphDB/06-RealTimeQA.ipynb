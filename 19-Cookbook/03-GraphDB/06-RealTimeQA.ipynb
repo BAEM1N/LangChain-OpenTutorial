{
 "cells": [
  {
   "cell_type": "markdown",
   "id": "635d8ebb",
   "metadata": {},
   "source": [
    "# Real-Time GraphRAG QA\n",
    "\n",
    "- Author: [Jongcheol Kim](https://github.com/greencode-99)\n",
    "- Design: \n",
    "- Peer Review: \n",
    "- This is a part of [LangChain Open Tutorial](https://github.com/LangChain-OpenTutorial/LangChain-OpenTutorial)\n",
    "\n",
    "[![Open in Colab](https://colab.research.google.com/assets/colab-badge.svg)](https://colab.research.google.com/github/langchain-ai/langchain-academy/blob/main/module-4/sub-graph.ipynb) [![Open in LangChain Academy](https://cdn.prod.website-files.com/65b8cd72835ceeacd4449a53/66e9eba12c7b7688aa3dbb5e_LCA-badge-green.svg)](https://academy.langchain.com/courses/take/intro-to-langgraph/lessons/58239937-lesson-2-sub-graphs)\n",
    "\n",
    "## Overview\n",
    "\n",
    "이 튜토리얼은 PDF 문서에서 지식을 추출하고 Neo4j 그래프 데이터베이스를 통해 자연어 질의를 가능하게 하는 GraphRAG QA 기능을 제공 합니다.\n",
    "사용자가 PDF 문서를 업로드한 다음, OpenAI의 GPT 모델(예: gpt-4o및 text-ada-002)을 사용하여 엔터티와 관계를 추출하기 위해 처리합니다.\n",
    "\n",
    "추출된 정보는 Neo4j 그래프 데이터베이스에 저장됩니다. 그런 다음 사용자는 자연어 질문을 하여 그래프와 실시간으로 상호 작용할 수 있으며, 이 질문은 Cypher 쿼리로 변환되어 그래프에서 답변을 검색합니다.\n",
    "\n",
    "특징\n",
    "- 실시간 GraphRAG : 문서에서 지식을 추출하고 실시간 쿼리를 가능하게 합니다.\n",
    "- 모듈식 및 구성 가능 : 사용자는 OpenAI 및 Neo4j에 대한 자체 자격 증명을 설정할 수 있습니다.\n",
    "- 자연어 인터페이스 : 일반 영어로 질문하면 그래프 데이터베이스에서 답변을 받습니다.\n",
    "\n",
    "\n",
    "### Table of Contents\n",
    "\n",
    "- [Overview](#overview)\n",
    "- [Environment Setup](#environment-setup)\n",
    "- [Neo4j Database Connection](#neo4j-database-connection)\n",
    "- [PDF Processing](#pdf-processing)\n",
    "- [Graph Transformation](#graph-transformation)\n",
    "- [Vector Index Creation](#vector-index-creation)\n",
    "- [QA Chain Setup](#qa-chain-setup)\n",
    "- [Usage Example](#usage-example)\n",
    "\n",
    "### References\n",
    "\n",
    "- [LangChain Documentation: Neo4j Integration](https://python.langchain.com/docs/integrations/retrievers/self_query/neo4j_self_query/#filter-k)\n",
    "- [Neo4j Graph Labs](https://neo4j.com/labs/genai-ecosystem/langchain/)\n",
    "- [LangChain Graph QA Chain](https://python.langchain.com/api_reference/community/chains/langchain_community.chains.graph_qa.base.GraphQAChain.html#graphqachain)\n",
    "\n",
    "----"
   ]
  },
  {
   "cell_type": "markdown",
   "id": "c6c7aba4",
   "metadata": {},
   "source": [
    "## Environment Setup\n",
    "\n",
    "Set up the environment. You may refer to [Environment Setup](https://wikidocs.net/257836) for more details.\n",
    "\n",
    "**[Note]**\n",
    "- `langchain-opentutorial` is a package that provides a set of easy-to-use environment setup, useful functions and utilities for tutorials. \n",
    "- You can checkout the [`langchain-opentutorial`](https://github.com/LangChain-OpenTutorial/langchain-opentutorial-pypi) for more details."
   ]
  },
  {
   "cell_type": "code",
   "execution_count": 1,
   "id": "21943adb",
   "metadata": {},
   "outputs": [],
   "source": [
    "%%capture --no-stderr\n",
    "%pip install langchain-opentutorial"
   ]
  },
  {
   "cell_type": "code",
   "execution_count": 2,
   "id": "f25ec196",
   "metadata": {},
   "outputs": [],
   "source": [
    "# Install required packages\n",
    "from langchain_opentutorial import package\n",
    "\n",
    "package.install(\n",
    "    [\n",
    "        \"langchain\",\n",
    "        \"langchain_neo4j\",\n",
    "        \"langchain_openai\",\n",
    "        \"langchain_core\",\n",
    "        \"langchain_text_splitters\",\n",
    "        \"langchain_experimental\",\n",
    "        \"pypdf\", \n",
    "        \"json-repair\"\n",
    "     ],\n",
    "    verbose=False,\n",
    "    upgrade=False,\n",
    ")"
   ]
  },
  {
   "cell_type": "code",
   "execution_count": 3,
   "id": "7f9065ea",
   "metadata": {},
   "outputs": [
    {
     "name": "stdout",
     "output_type": "stream",
     "text": [
      "Environment variables have been set successfully.\n"
     ]
    }
   ],
   "source": [
    "# Set environment variables\n",
    "from langchain_opentutorial import set_env\n",
    "\n",
    "set_env(\n",
    "    {\n",
    "        \"OPENAI_API_KEY\": \"\",\n",
    "        \"LANGCHAIN_API_KEY\": \"\",\n",
    "        \"LANGCHAIN_TRACING_V2\": \"true\",\n",
    "        \"LANGCHAIN_ENDPOINT\": \"https://api.smith.langchain.com\",\n",
    "        \"LANGCHAIN_PROJECT\": \"Real-Time GraphRAG QA\",\n",
    "        \"NEO4J_URL\": \"\",\n",
    "        \"NEO4J_USERNAME\": \"\",\n",
    "        \"NEO4J_PASSWORD\": \"\",\n",
    "    }\n",
    ")"
   ]
  },
  {
   "cell_type": "code",
   "execution_count": 4,
   "id": "345db77a",
   "metadata": {},
   "outputs": [
    {
     "data": {
      "text/plain": [
       "True"
      ]
     },
     "execution_count": 4,
     "metadata": {},
     "output_type": "execute_result"
    }
   ],
   "source": [
    "from dotenv import load_dotenv\n",
    "\n",
    "load_dotenv(override=True)"
   ]
  },
  {
   "cell_type": "markdown",
   "id": "neo4j-section",
   "metadata": {},
   "source": [
    "## Neo4j Database Connection\n",
    "\n",
    "Neo4j 데이터베이스에 연결하고 기본 컴포넌트들을 초기화합니다."
   ]
  },
  {
   "cell_type": "code",
   "execution_count": 5,
   "id": "ea4aa3fa",
   "metadata": {},
   "outputs": [
    {
     "name": "stdout",
     "output_type": "stream",
     "text": [
      "Neo4j 데이터베이스에 연결되었습니다.\n"
     ]
    }
   ],
   "source": [
    "import os\n",
    "from langchain_openai import ChatOpenAI\n",
    "from langchain_openai import OpenAIEmbeddings\n",
    "from langchain_neo4j.graphs.neo4j_graph import Neo4jGraph\n",
    "\n",
    "\n",
    "# OpenAI API 키 설정\n",
    "OPENAI_API_KEY = os.getenv(\"OPENAI_API_KEY\")\n",
    "if not OPENAI_API_KEY:\n",
    "    raise ValueError(\"OPENAI_API_KEY가 설정되지 않았습니다.\")\n",
    "\n",
    "# Neo4j 연결 정보\n",
    "NEO4J_URL = os.getenv(\"NEO4J_URL\")\n",
    "NEO4J_USERNAME = os.getenv(\"NEO4J_USERNAME\")\n",
    "NEO4J_PASSWORD = os.getenv(\"NEO4J_PASSWORD\")\n",
    "\n",
    "# LangChain 컴포넌트 초기화\n",
    "embeddings = OpenAIEmbeddings()\n",
    "llm = ChatOpenAI(model_name=\"gpt-4o\")\n",
    "\n",
    "\n",
    "def connect_to_neo4j():\n",
    "    try:\n",
    "        graph = Neo4jGraph(\n",
    "            url=NEO4J_URL, username=NEO4J_USERNAME, password=NEO4J_PASSWORD\n",
    "        )\n",
    "        print(\"Neo4j 데이터베이스에 연결되었습니다.\")\n",
    "        return graph\n",
    "    except Exception as e:\n",
    "        print(f\"Neo4j 연결 실패: {e}\")\n",
    "        return None\n",
    "\n",
    "\n",
    "graph = connect_to_neo4j()"
   ]
  },
  {
   "cell_type": "markdown",
   "id": "pdf-processing",
   "metadata": {},
   "source": [
    "## PDF Processing\n",
    "\n",
    "PDF 문서를 처리하고 텍스트를 추출하는 함수들을 정의합니다."
   ]
  },
  {
   "cell_type": "code",
   "execution_count": 6,
   "id": "d4f8855c",
   "metadata": {},
   "outputs": [],
   "source": [
    "from langchain_community.document_loaders import PyPDFLoader\n",
    "from langchain_text_splitters import RecursiveCharacterTextSplitter\n",
    "from langchain.schema import Document\n",
    "\n",
    "\n",
    "def process_pdf(file_path):\n",
    "    # PDF 로드 및 분할\n",
    "    loader = PyPDFLoader(file_path)\n",
    "    pages = loader.load_and_split()\n",
    "\n",
    "    # 텍스트 분할\n",
    "    text_splitter = RecursiveCharacterTextSplitter(chunk_size=200, chunk_overlap=40)\n",
    "    docs = text_splitter.split_documents(pages)\n",
    "\n",
    "    # 문서 전처리\n",
    "    lc_docs = []\n",
    "    for doc in docs:\n",
    "        lc_docs.append(\n",
    "            Document(\n",
    "                page_content=doc.page_content.replace(\"\\n\", \"\"),\n",
    "                metadata={\"source\": file_path},\n",
    "            )\n",
    "        )\n",
    "\n",
    "    return lc_docs"
   ]
  },
  {
   "cell_type": "markdown",
   "id": "graph-transform",
   "metadata": {},
   "source": [
    "## Graph Transformation\n",
    "\n",
    "추출된 텍스트를 그래프 형태로 변환하는 함수를 정의합니다."
   ]
  },
  {
   "cell_type": "code",
   "execution_count": 7,
   "id": "ed22e36d",
   "metadata": {},
   "outputs": [],
   "source": [
    "from langchain_experimental.graph_transformers import LLMGraphTransformer\n",
    "\n",
    "def transform_to_graph(docs, graph):\n",
    "    # 그래프 데이터베이스 초기화\n",
    "    cypher = \"\"\"\n",
    "    MATCH (n)\n",
    "    DETACH DELETE n;\n",
    "    \"\"\"\n",
    "    graph.query(cypher)\n",
    "\n",
    "    # 허용된 노드와 관계 정의\n",
    "    allowed_nodes = [\n",
    "        \"Device\",\n",
    "        \"PowerSource\",\n",
    "        \"OperatingSystem\",\n",
    "        \"ConnectionStatus\",\n",
    "        \"Software\",\n",
    "        \"Action\",\n",
    "    ]\n",
    "    allowed_relationships = [\n",
    "        \"USES_POWER\",\n",
    "        \"OPERATES_ON\",\n",
    "        \"HAS_STATUS\",\n",
    "        \"REQUIRES\",\n",
    "        \"PERFORMS\",\n",
    "    ]\n",
    "\n",
    "    # 문서를 그래프로 변환\n",
    "    transformer = LLMGraphTransformer(\n",
    "        llm=llm,\n",
    "        allowed_nodes=allowed_nodes,\n",
    "        allowed_relationships=allowed_relationships,\n",
    "        node_properties=False,\n",
    "        relationship_properties=False,\n",
    "    )\n",
    "\n",
    "    graph_documents = transformer.convert_to_graph_documents(docs)\n",
    "    graph.add_graph_documents(graph_documents, include_source=True)\n",
    "\n",
    "    return graph"
   ]
  },
  {
   "cell_type": "markdown",
   "id": "vector-index",
   "metadata": {},
   "source": [
    "## Vector Index Creation\n",
    "\n",
    "벡터 인덱스를 생성하는 함수를 정의합니다."
   ]
  },
  {
   "cell_type": "code",
   "execution_count": 8,
   "id": "3607f42c",
   "metadata": {},
   "outputs": [],
   "source": [
    "from langchain_neo4j.vectorstores.neo4j_vector import Neo4jVector\n",
    "\n",
    "\n",
    "def create_vector_index():\n",
    "    index = Neo4jVector.from_existing_graph(\n",
    "        embedding=embeddings,\n",
    "        url=NEO4J_URL,\n",
    "        username=NEO4J_USERNAME,\n",
    "        password=NEO4J_PASSWORD,\n",
    "        database=\"neo4j\",\n",
    "        node_label=\"Patient\",\n",
    "        text_node_properties=[\"id\", \"text\"],\n",
    "        embedding_node_property=\"embedding\",\n",
    "        index_name=\"vector_index\",\n",
    "        keyword_index_name=\"entity_index\",\n",
    "        search_type=\"hybrid\",\n",
    "    )\n",
    "    return index"
   ]
  },
  {
   "cell_type": "markdown",
   "id": "qa-chain",
   "metadata": {},
   "source": [
    "## QA Chain Setup\n",
    "\n",
    "질의응답 체인을 설정하는 함수를 정의합니다."
   ]
  },
  {
   "cell_type": "code",
   "execution_count": 36,
   "id": "2bc16adf",
   "metadata": {},
   "outputs": [],
   "source": [
    "from langchain_neo4j.chains.graph_qa.cypher import GraphCypherQAChain\n",
    "from langchain_core.prompts import PromptTemplate\n",
    "\n",
    "def setup_qa_chain(graph):\n",
    "    template = \"\"\"\n",
    "    Generate a Cypher query to find information about the question.\n",
    "    Use only these relationships that exist in the database: MENTIONS, PERFORMS, USES_POWER, HAS_STATUS, OPERATES_ON, REQUIRES\n",
    "    \n",
    "    Example query structure:\n",
    "    MATCH (d:Document)-[:MENTIONS]->(a:Action)\n",
    "    WHERE toLower(d.text) CONTAINS 'keyword'\n",
    "    RETURN d.text as answer\n",
    "    \n",
    "    Question: {question}\n",
    "    \"\"\"\n",
    "    \n",
    "    question_prompt = PromptTemplate(\n",
    "        template=template,\n",
    "        input_variables=[\"question\"]\n",
    "    )\n",
    "    \n",
    "    qa = GraphCypherQAChain.from_llm(\n",
    "        llm=llm,\n",
    "        graph=graph,\n",
    "        cypher_prompt=question_prompt,\n",
    "        verbose=True,\n",
    "        return_intermediate_steps=True,\n",
    "        allow_dangerous_requests=True,\n",
    "        top_k=3  # 상위 3개의 관련 결과 반환\n",
    "\n",
    "    )\n",
    "    \n",
    "    return qa"
   ]
  },
  {
   "cell_type": "code",
   "execution_count": 37,
   "id": "cc5cdded",
   "metadata": {},
   "outputs": [],
   "source": [
    "def ask_question(qa, question):\n",
    "    try:\n",
    "        # 기본 검색 쿼리\n",
    "        base_query = \"\"\"\n",
    "        MATCH (d:Document)-[:MENTIONS]->(a)\n",
    "        WHERE toLower(d.text) CONTAINS toLower($keyword)\n",
    "        RETURN DISTINCT d.text as answer\n",
    "        LIMIT 1\n",
    "        \"\"\"\n",
    "        \n",
    "        # 먼저 전체 구문으로 검색\n",
    "        result = graph.query(base_query, {'keyword': question.lower()})\n",
    "        \n",
    "        # 결과가 없으면 키워드로 분리해서 검색\n",
    "        if not result:\n",
    "            keywords = question.lower().split()\n",
    "            for keyword in keywords:\n",
    "                if len(keyword) > 3:  # 짧은 단어 제외\n",
    "                    result = graph.query(base_query, {'keyword': keyword})\n",
    "                    if result:\n",
    "                        break\n",
    "        \n",
    "        if result and len(result) > 0:\n",
    "            return result[0]['answer']\n",
    "            \n",
    "        # 여전히 결과가 없으면 QA 체인 사용\n",
    "        qa_result = qa.invoke({\"query\": question})\n",
    "        if qa_result and 'result' in qa_result:\n",
    "            return qa_result['result']\n",
    "            \n",
    "        return \"Unable to find an answer. Please try rephrasing your question.\"\n",
    "        \n",
    "    except Exception as e:\n",
    "        print(f\"Error: {str(e)}\")\n",
    "        return \"An error occurred while processing your question.\"\n"
   ]
  },
  {
   "cell_type": "markdown",
   "id": "usage-example",
   "metadata": {},
   "source": [
    "## Usage Example\n",
    "\n",
    "시스템을 실제로 사용하는 예시입니다."
   ]
  },
  {
   "cell_type": "code",
   "execution_count": 11,
   "id": "f3c13095",
   "metadata": {},
   "outputs": [],
   "source": [
    "# PDF 파일 경로 설정\n",
    "pdf_path = \"data/bluetooth_notebook_mouse_5000.pdf\"\n",
    "\n",
    "# PDF 처리\n",
    "docs = process_pdf(pdf_path)"
   ]
  },
  {
   "cell_type": "code",
   "execution_count": 20,
   "id": "298eec44",
   "metadata": {},
   "outputs": [],
   "source": [
    "# 그래프 변환\n",
    "graph = transform_to_graph(docs, graph)"
   ]
  },
  {
   "cell_type": "code",
   "execution_count": 38,
   "id": "4abd09e3",
   "metadata": {},
   "outputs": [
    {
     "name": "stdout",
     "output_type": "stream",
     "text": [
      "Neo4j 데이터베이스 현재 상태:\n",
      "=== 노드 타입 및 개수 ===\n",
      "[{'labels': ['Document'], 'count': 27}, {'labels': ['Software'], 'count': 24}, {'labels': ['Powersource'], 'count': 3}, {'labels': ['Device'], 'count': 13}, {'labels': ['Action'], 'count': 18}, {'labels': ['Operatingsystem'], 'count': 3}, {'labels': ['Connectionstatus'], 'count': 7}]\n",
      "\n",
      "=== 관계 타입 및 개수 ===\n",
      "[{'type': 'MENTIONS', 'count': 99}, {'type': 'USES_POWER', 'count': 3}, {'type': 'REQUIRES', 'count': 13}, {'type': 'PERFORMS', 'count': 18}, {'type': 'OPERATES_ON', 'count': 9}, {'type': 'HAS_STATUS', 'count': 9}]\n",
      "\n",
      "=== 그래프 구조 샘플 ===\n",
      "[{'n': {'text': 'www.microsoft.com/hardwareEnglish - EnEspañol (latinoamérica) - XXportuguês (Brasil) - X cFrançais (canada) - XdX182903901bkt.indd   2-3 5/21/2012   9:40:30 AM', 'source': 'data/bluetooth_notebook_mouse_5000.pdf', 'id': '5283bb653fe2319d093ee1b57d4d9948'}, 'r': ({'text': 'www.microsoft.com/hardwareEnglish - EnEspañol (latinoamérica) - XXportuguês (Brasil) - X cFrançais (canada) - XdX182903901bkt.indd   2-3 5/21/2012   9:40:30 AM', 'source': 'data/bluetooth_notebook_mouse_5000.pdf', 'id': '5283bb653fe2319d093ee1b57d4d9948'}, 'MENTIONS', {'id': 'Www.Microsoft.Com/Hardware'}), 'm': {'id': 'Www.Microsoft.Com/Hardware'}}, {'n': {'text': 'www.microsoft.com/hardwareEnglish - EnEspañol (latinoamérica) - XXportuguês (Brasil) - X cFrançais (canada) - XdX182903901bkt.indd   2-3 5/21/2012   9:40:30 AM', 'source': 'data/bluetooth_notebook_mouse_5000.pdf', 'id': '5283bb653fe2319d093ee1b57d4d9948'}, 'r': ({'text': 'www.microsoft.com/hardwareEnglish - EnEspañol (latinoamérica) - XXportuguês (Brasil) - X cFrançais (canada) - XdX182903901bkt.indd   2-3 5/21/2012   9:40:30 AM', 'source': 'data/bluetooth_notebook_mouse_5000.pdf', 'id': '5283bb653fe2319d093ee1b57d4d9948'}, 'MENTIONS', {'id': 'English'}), 'm': {'id': 'English'}}, {'n': {'text': 'www.microsoft.com/hardwareEnglish - EnEspañol (latinoamérica) - XXportuguês (Brasil) - X cFrançais (canada) - XdX182903901bkt.indd   2-3 5/21/2012   9:40:30 AM', 'source': 'data/bluetooth_notebook_mouse_5000.pdf', 'id': '5283bb653fe2319d093ee1b57d4d9948'}, 'r': ({'text': 'www.microsoft.com/hardwareEnglish - EnEspañol (latinoamérica) - XXportuguês (Brasil) - X cFrançais (canada) - XdX182903901bkt.indd   2-3 5/21/2012   9:40:30 AM', 'source': 'data/bluetooth_notebook_mouse_5000.pdf', 'id': '5283bb653fe2319d093ee1b57d4d9948'}, 'MENTIONS', {'id': 'Español (Latinoamérica)'}), 'm': {'id': 'Español (Latinoamérica)'}}]\n"
     ]
    }
   ],
   "source": [
    "# 데이터 확인\n",
    "def inspect_neo4j_data(graph):\n",
    "    # 모든 노드 조회\n",
    "    nodes_query = \"\"\"\n",
    "    MATCH (n)\n",
    "    RETURN DISTINCT labels(n) as labels, count(*) as count\n",
    "    \"\"\"\n",
    "    print(\"=== 노드 타입 및 개수 ===\")\n",
    "    nodes = graph.query(nodes_query)\n",
    "    print(nodes)\n",
    "    \n",
    "    # 모든 관계 조회\n",
    "    rels_query = \"\"\"\n",
    "    MATCH ()-[r]->()\n",
    "    RETURN DISTINCT type(r) as type, count(*) as count\n",
    "    \"\"\"\n",
    "    print(\"\\n=== 관계 타입 및 개수 ===\")\n",
    "    relationships = graph.query(rels_query)\n",
    "    print(relationships)\n",
    "    \n",
    "    # 전체 그래프 구조 샘플 조회\n",
    "    sample_query = \"\"\"\n",
    "    MATCH (n)-[r]->(m)\n",
    "    RETURN n, r, m\n",
    "    LIMIT 3\n",
    "    \"\"\"\n",
    "    print(\"\\n=== 그래프 구조 샘플 ===\")\n",
    "    sample = graph.query(sample_query)\n",
    "    print(sample)\n",
    "\n",
    "# 실행\n",
    "print(\"Neo4j 데이터베이스 현재 상태:\")\n",
    "inspect_neo4j_data(graph)"
   ]
  },
  {
   "cell_type": "code",
   "execution_count": 22,
   "id": "b64ca94d",
   "metadata": {},
   "outputs": [],
   "source": [
    "# 벡터 인덱스 생성\n",
    "index = create_vector_index()"
   ]
  },
  {
   "cell_type": "code",
   "execution_count": 23,
   "id": "601352ae",
   "metadata": {},
   "outputs": [],
   "source": [
    "# QA 체인 설정\n",
    "qa = setup_qa_chain(graph)"
   ]
  },
  {
   "cell_type": "code",
   "execution_count": 39,
   "id": "3a43a518",
   "metadata": {},
   "outputs": [
    {
     "name": "stdout",
     "output_type": "stream",
     "text": [
      "\n",
      "Question: What happens when you press and hold the connect button?\n",
      "Answer: control panel, and in category view, locate hardware and sound, and then select add a device.c. When the mouse is listed, select  it, and follow the instructions.\n"
     ]
    }
   ],
   "source": [
    "# 질문하기\n",
    "# question = \"What power source does the mouse use?\"\n",
    "\n",
    "question = \"What happens when you press and hold the connect button?\"\n",
    "answer = ask_question(qa, question)\n",
    "print(f\"\\nQuestion: {question}\")\n",
    "print(f\"Answer: {answer}\")"
   ]
  },
  {
   "cell_type": "code",
   "execution_count": 40,
   "id": "6fe8f130",
   "metadata": {},
   "outputs": [
    {
     "name": "stdout",
     "output_type": "stream",
     "text": [
      "\n",
      "Testing multiple questions:\n",
      "\n",
      "Q: What happens when you press and hold the connect button?\n",
      "A: control panel, and in category view, locate hardware and sound, and then select add a device.c. When the mouse is listed, select  it, and follow the instructions.\n",
      "\n",
      "Q: What type of batteries does this mouse use?\n",
      "A: type control panel, select control panel from the search results, and then select add devices and printers .WindoWs 7: On your computer, from the start menu, select\n",
      "\n",
      "Q: How do I connect to Windows 8?\n",
      "A: 2  To connect the mouse to your computer:a. Press and hold the connect button until the light on the top of the mouse flashes red and green.b. WindoWs 8: On your computer, press the Windows key,\n",
      "\n",
      "Q: Where is the connect button located?\n",
      "A: 2  To connect the mouse to your computer:a. Press and hold the connect button until the light on the top of the mouse flashes red and green.b. WindoWs 8: On your computer, press the Windows key,\n"
     ]
    }
   ],
   "source": [
    "# 테스트\n",
    "def test_qa():\n",
    "    questions = [\n",
    "        \"What happens when you press and hold the connect button?\",\n",
    "        \"What type of batteries does this mouse use?\",\n",
    "        \"How do I connect to Windows 8?\",\n",
    "        \"Where is the connect button located?\"\n",
    "    ]\n",
    "    \n",
    "    print(\"\\nTesting multiple questions:\")\n",
    "    for q in questions:\n",
    "        print(f\"\\nQ: {q}\")\n",
    "        print(f\"A: {ask_question(qa, q)}\")\n",
    "\n",
    "# 실행\n",
    "test_qa()"
   ]
  },
  {
   "cell_type": "code",
   "execution_count": 30,
   "id": "3a63e946",
   "metadata": {},
   "outputs": [
    {
     "name": "stdout",
     "output_type": "stream",
     "text": [
      "\n",
      "데이터베이스 내용 확인:\n",
      "\n",
      "Query: MATCH (d:Document) WHERE toLower(d.text) CONTAINS 'connect button' RETURN d.text LIMIT 1\n",
      "Result: [{'d.text': '2  To connect the mouse to your computer:a. Press and hold the connect button until the light on the top of the mouse flashes red and green.b. WindoWs 8: On your computer, press the Windows key,'}]\n",
      "\n",
      "Query: MATCH (a:Action) WHERE toLower(a.id) CONTAINS 'connect' RETURN a.id\n",
      "Result: [{'a.id': 'Connect'}]\n",
      "\n",
      "Query: MATCH (d:Document)-[:MENTIONS]->(a) RETURN DISTINCT labels(a) as node_types\n",
      "Result: [{'node_types': ['Software']}, {'node_types': ['Action']}, {'node_types': ['Powersource']}, {'node_types': ['Device']}, {'node_types': ['Operatingsystem']}, {'node_types': ['Connectionstatus']}]\n"
     ]
    }
   ],
   "source": [
    "# 디버깅을 위한 데이터베이스 상태 확인\n",
    "def check_database_content():\n",
    "    queries = [\n",
    "        \"MATCH (d:Document) WHERE toLower(d.text) CONTAINS 'connect button' RETURN d.text LIMIT 1\",\n",
    "        \"MATCH (a:Action) WHERE toLower(a.id) CONTAINS 'connect' RETURN a.id\",\n",
    "        \"MATCH (d:Document)-[:MENTIONS]->(a) RETURN DISTINCT labels(a) as node_types\"\n",
    "    ]\n",
    "    \n",
    "    print(\"\\n데이터베이스 내용 확인:\")\n",
    "    for query in queries:\n",
    "        result = graph.query(query)\n",
    "        print(f\"\\nQuery: {query}\")\n",
    "        print(f\"Result: {result}\")\n",
    "\n",
    "check_database_content()"
   ]
  }
 ],
 "metadata": {
  "kernelspec": {
   "display_name": "Python 3",
   "language": "python",
   "name": "python3"
  },
  "language_info": {
   "codemirror_mode": {
    "name": "ipython",
    "version": 3
   },
   "file_extension": ".py",
   "mimetype": "text/x-python",
   "name": "python",
   "nbconvert_exporter": "python",
   "pygments_lexer": "ipython3",
   "version": "3.11.11"
  }
 },
 "nbformat": 4,
 "nbformat_minor": 5
}
