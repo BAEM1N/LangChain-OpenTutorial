{
 "cells": [
  {
   "cell_type": "markdown",
   "metadata": {},
   "source": [
    "#  05-FAQRAGSystem\n",
    "\n",
    "- Author: [Taylor(Jihyun Kim)](https://github.com/Taylor0819)\n",
    "- Design: \n",
    "- Peer Review: \n",
    "- This is a part of [LangChain Open Tutorial](https://github.com/LangChain-OpenTutorial/LangChain-OpenTutorial)\n",
    "\n",
    "[![Open in Colab](https://colab.research.google.com/assets/colab-badge.svg)](https://colab.research.google.com/github/LangChain-OpenTutorial/LangChain-OpenTutorial/blob/main/99-TEMPLATE/00-BASE-TEMPLATE-EXAMPLE.ipynb) [![Open in GitHub](https://img.shields.io/badge/Open%20in%20GitHub-181717?style=flat-square&logo=github&logoColor=white)](https://github.com/LangChain-OpenTutorial/LangChain-OpenTutorial/blob/main/99-TEMPLATE/00-BASE-TEMPLATE-EXAMPLE.ipynb)\n",
    "\n",
    "## Overview (손보기)\n",
    "In this tutorial, you’ll learn how to build a `Neo4j` graph using the Titanic dataset and run Cypher queries through the LangChain library. Aimed at beginners, it covers:\n",
    "\n",
    "- Data Loading & Preprocessing: Convert the Titanic CSV to a Pandas DataFrame, handle missing values, and prepare fields for graph modeling.\n",
    "- Graph Modeling in Neo4j: Create passenger nodes and relationships (e.g., SAME_TICKET) to represent key Titanic connections.\n",
    "- Running Cypher Queries: Retrieve passenger info, filter by class or survival, and calculate statistics.\n",
    "\n",
    "\n",
    "### Table of Contents\n",
    "\n",
    "- [Overview](#overview)\n",
    "- [Environement Setup](#environment-setup)\n",
    "- [Load Titanic data](#load-titanic-data)\n",
    "- [Consider the Data with Arrows.app](#consider-the-data-with-arrows.app)\n",
    "- [Data Restructure](#data-preprocessing)\n",
    "- [Neo4j Database Connection](#neo4j-database-connection)\n",
    "- [Usage Example](usage-example)\n",
    "\n",
    "\n",
    "### References\n",
    "\n",
    "- [LangChain Neo4j](https://python.langchain.com/docs/integrations/graphs/neo4j_cypher)\n",
    "- [Neo4j Arrows](https://neo4j.com/labs/arrows)\n",
    "----"
   ]
  },
  {
   "cell_type": "markdown",
   "metadata": {},
   "source": [
    "## Environment Setup\n",
    "Set up the environment. You may refer to [Environment Setup](https://wikidocs.net/257836) for more details.\n",
    "\n",
    "**[Note]** \n",
    "\n",
    "- `langchain-opentutorial` is a package that provides a set of easy-to-use environment setup, useful functions and utilities for tutorials.\n",
    "- You can checkout the [`langchain-opentutorial`](https://github.com/LangChain-OpenTutorial/langchain-opentutorial-pypi) for more details.\n"
   ]
  },
  {
   "cell_type": "code",
   "execution_count": 537,
   "metadata": {},
   "outputs": [],
   "source": [
    "%%capture --no-stderr\n",
    "%pip install langchain-opentutorial"
   ]
  },
  {
   "cell_type": "code",
   "execution_count": 573,
   "metadata": {},
   "outputs": [],
   "source": [
    "# Install required packages\n",
    "from langchain_opentutorial import package\n",
    "\n",
    "package.install(\n",
    "    [\"langsmith\", \"langchain_neo4j\", \"langchain_openai\", \"langgraph\"],\n",
    "    verbose=False,\n",
    "    upgrade=False,\n",
    ")"
   ]
  },
  {
   "cell_type": "code",
   "execution_count": 539,
   "metadata": {},
   "outputs": [
    {
     "name": "stdout",
     "output_type": "stream",
     "text": [
      "Environment variables have been set successfully.\n"
     ]
    }
   ],
   "source": [
    "# Set environment variables\n",
    "from langchain_opentutorial import set_env\n",
    "\n",
    "set_env(\n",
    "    {\n",
    "        \"OPENAI_API_KEY\": \"\",\n",
    "        \"LANGCHAIN_API_KEY\": \"\",\n",
    "        \"LANGCHAIN_TRACING_V2\": \"true\",\n",
    "        \"LANGCHAIN_ENDPOINT\": \"https://api.smith.langchain.com\",\n",
    "        \"LANGCHAIN_PROJECT\": \"05-FAQRAGSystem\",\n",
    "        \"NEO4J_URI\": \"\",\n",
    "        \"NEO4J_USERNAME\": \"\",\n",
    "        \"NEO4J_PASSWORD\": \"\",\n",
    "    }\n",
    ")"
   ]
  },
  {
   "cell_type": "code",
   "execution_count": 540,
   "metadata": {},
   "outputs": [
    {
     "data": {
      "text/plain": [
       "True"
      ]
     },
     "execution_count": 540,
     "metadata": {},
     "output_type": "execute_result"
    }
   ],
   "source": [
    "from dotenv import load_dotenv\n",
    "\n",
    "load_dotenv(override=True)"
   ]
  },
  {
   "cell_type": "code",
   "execution_count": 541,
   "metadata": {},
   "outputs": [],
   "source": [
    "import os\n",
    "import nest_asyncio\n",
    "\n",
    "# Allow async\n",
    "nest_asyncio.apply()"
   ]
  },
  {
   "cell_type": "markdown",
   "metadata": {},
   "source": [
    "## Load Titanic Data\n",
    "\n",
    "### Data Preparation\n",
    "\n",
    "In this tutorial, we will use the following csv file:\n",
    "\n",
    "- Download Link: [Kaggle Titanic Dataset](https://www.kaggle.com/datasets/brendan45774/test-file/data)\n",
    "- Author : brendan45774 (kaggle ID)\n",
    "- File name: \"tested.csv\"\n",
    "- File path: \"../data/tested.csv\"\n",
    "\n",
    "There are two ways to obtain the dataset:\n",
    "\n",
    "1. Download directly from the Kaggle link above\n",
    "2. Use the Python code below to automatically download via Kaggle API"
   ]
  },
  {
   "cell_type": "code",
   "execution_count": 542,
   "metadata": {},
   "outputs": [
    {
     "name": "stdout",
     "output_type": "stream",
     "text": [
      "File downloaded and extracted to ../data\n",
      "Temporary zip file deleted: ../data/data.zip\n"
     ]
    }
   ],
   "source": [
    "# Download and save sample CSV file to ./data directory\n",
    "import requests\n",
    "import zipfile\n",
    "\n",
    "\n",
    "def download_csv(url, zip_path, extract_dir):\n",
    "    \"\"\"\n",
    "    Downloads a CSV file from the given URL and saves it to the specified path.\n",
    "\n",
    "        Args:\n",
    "        url (str): The URL of the CSV file to download\n",
    "        zip_path (str): The full path (including file name) where the zip file will be temporarily saved\n",
    "        extract_dir (str): The directory path where the contents will be extracted\n",
    "    \"\"\"\n",
    "    try:\n",
    "        # Ensure the directory exists\n",
    "        os.makedirs(os.path.dirname(zip_path), exist_ok=True)\n",
    "\n",
    "        # Download the file\n",
    "        response = requests.get(url, stream=True)\n",
    "        response.raise_for_status()  # Raise an error for bad status codes\n",
    "\n",
    "        # Save the file to the specified path\n",
    "        with open(zip_path, \"wb\") as file:\n",
    "            for chunk in response.iter_content(chunk_size=8192):\n",
    "                file.write(chunk)\n",
    "\n",
    "        # Extract the zip file\n",
    "        with zipfile.ZipFile(zip_path, \"r\") as zip_ref:\n",
    "            zip_ref.extractall(extract_dir)\n",
    "\n",
    "        print(f\"File downloaded and extracted to {extract_dir}\")\n",
    "\n",
    "        # Delete the temporary zip file (optional)\n",
    "        os.remove(zip_path)\n",
    "        print(f\"Temporary zip file deleted: {zip_path}\")\n",
    "\n",
    "    except Exception as e:\n",
    "        print(f\"An error occurred: {e}\")\n",
    "        print(f\"CSV downloaded and saved to: {zip_path}\")\n",
    "\n",
    "\n",
    "# Configuration for the PDF file\n",
    "url = \"https://www.kaggle.com/api/v1/datasets/download/yasserh/titanic-dataset\"\n",
    "zip_path = \"../data/data.zip\"\n",
    "extract_dir = \"../data\"\n",
    "\n",
    "# Download the PDF\n",
    "download_csv(url, zip_path, extract_dir)"
   ]
  },
  {
   "cell_type": "code",
   "execution_count": 543,
   "metadata": {},
   "outputs": [
    {
     "name": "stdout",
     "output_type": "stream",
     "text": [
      "=== DataFrame Info ===\n",
      "<class 'pandas.core.frame.DataFrame'>\n",
      "RangeIndex: 891 entries, 0 to 890\n",
      "Data columns (total 12 columns):\n",
      " #   Column       Non-Null Count  Dtype  \n",
      "---  ------       --------------  -----  \n",
      " 0   PassengerId  891 non-null    int64  \n",
      " 1   Survived     891 non-null    int64  \n",
      " 2   Pclass       891 non-null    int64  \n",
      " 3   Name         891 non-null    object \n",
      " 4   Sex          891 non-null    object \n",
      " 5   Age          714 non-null    float64\n",
      " 6   SibSp        891 non-null    int64  \n",
      " 7   Parch        891 non-null    int64  \n",
      " 8   Ticket       891 non-null    object \n",
      " 9   Fare         891 non-null    float64\n",
      " 10  Cabin        204 non-null    object \n",
      " 11  Embarked     889 non-null    object \n",
      "dtypes: float64(2), int64(5), object(5)\n",
      "memory usage: 83.7+ KB\n",
      "=== Sample data ===\n"
     ]
    },
    {
     "data": {
      "text/html": [
       "<div>\n",
       "<style scoped>\n",
       "    .dataframe tbody tr th:only-of-type {\n",
       "        vertical-align: middle;\n",
       "    }\n",
       "\n",
       "    .dataframe tbody tr th {\n",
       "        vertical-align: top;\n",
       "    }\n",
       "\n",
       "    .dataframe thead th {\n",
       "        text-align: right;\n",
       "    }\n",
       "</style>\n",
       "<table border=\"1\" class=\"dataframe\">\n",
       "  <thead>\n",
       "    <tr style=\"text-align: right;\">\n",
       "      <th></th>\n",
       "      <th>PassengerId</th>\n",
       "      <th>Survived</th>\n",
       "      <th>Pclass</th>\n",
       "      <th>Name</th>\n",
       "      <th>Sex</th>\n",
       "      <th>Age</th>\n",
       "      <th>SibSp</th>\n",
       "      <th>Parch</th>\n",
       "      <th>Ticket</th>\n",
       "      <th>Fare</th>\n",
       "      <th>Cabin</th>\n",
       "      <th>Embarked</th>\n",
       "    </tr>\n",
       "  </thead>\n",
       "  <tbody>\n",
       "    <tr>\n",
       "      <th>0</th>\n",
       "      <td>1</td>\n",
       "      <td>0</td>\n",
       "      <td>3</td>\n",
       "      <td>Braund, Mr. Owen Harris</td>\n",
       "      <td>male</td>\n",
       "      <td>22.0</td>\n",
       "      <td>1</td>\n",
       "      <td>0</td>\n",
       "      <td>A/5 21171</td>\n",
       "      <td>7.2500</td>\n",
       "      <td>NaN</td>\n",
       "      <td>S</td>\n",
       "    </tr>\n",
       "    <tr>\n",
       "      <th>1</th>\n",
       "      <td>2</td>\n",
       "      <td>1</td>\n",
       "      <td>1</td>\n",
       "      <td>Cumings, Mrs. John Bradley (Florence Briggs Th...</td>\n",
       "      <td>female</td>\n",
       "      <td>38.0</td>\n",
       "      <td>1</td>\n",
       "      <td>0</td>\n",
       "      <td>PC 17599</td>\n",
       "      <td>71.2833</td>\n",
       "      <td>C85</td>\n",
       "      <td>C</td>\n",
       "    </tr>\n",
       "    <tr>\n",
       "      <th>2</th>\n",
       "      <td>3</td>\n",
       "      <td>1</td>\n",
       "      <td>3</td>\n",
       "      <td>Heikkinen, Miss. Laina</td>\n",
       "      <td>female</td>\n",
       "      <td>26.0</td>\n",
       "      <td>0</td>\n",
       "      <td>0</td>\n",
       "      <td>STON/O2. 3101282</td>\n",
       "      <td>7.9250</td>\n",
       "      <td>NaN</td>\n",
       "      <td>S</td>\n",
       "    </tr>\n",
       "    <tr>\n",
       "      <th>3</th>\n",
       "      <td>4</td>\n",
       "      <td>1</td>\n",
       "      <td>1</td>\n",
       "      <td>Futrelle, Mrs. Jacques Heath (Lily May Peel)</td>\n",
       "      <td>female</td>\n",
       "      <td>35.0</td>\n",
       "      <td>1</td>\n",
       "      <td>0</td>\n",
       "      <td>113803</td>\n",
       "      <td>53.1000</td>\n",
       "      <td>C123</td>\n",
       "      <td>S</td>\n",
       "    </tr>\n",
       "    <tr>\n",
       "      <th>4</th>\n",
       "      <td>5</td>\n",
       "      <td>0</td>\n",
       "      <td>3</td>\n",
       "      <td>Allen, Mr. William Henry</td>\n",
       "      <td>male</td>\n",
       "      <td>35.0</td>\n",
       "      <td>0</td>\n",
       "      <td>0</td>\n",
       "      <td>373450</td>\n",
       "      <td>8.0500</td>\n",
       "      <td>NaN</td>\n",
       "      <td>S</td>\n",
       "    </tr>\n",
       "  </tbody>\n",
       "</table>\n",
       "</div>"
      ],
      "text/plain": [
       "   PassengerId  Survived  Pclass  \\\n",
       "0            1         0       3   \n",
       "1            2         1       1   \n",
       "2            3         1       3   \n",
       "3            4         1       1   \n",
       "4            5         0       3   \n",
       "\n",
       "                                                Name     Sex   Age  SibSp  \\\n",
       "0                            Braund, Mr. Owen Harris    male  22.0      1   \n",
       "1  Cumings, Mrs. John Bradley (Florence Briggs Th...  female  38.0      1   \n",
       "2                             Heikkinen, Miss. Laina  female  26.0      0   \n",
       "3       Futrelle, Mrs. Jacques Heath (Lily May Peel)  female  35.0      1   \n",
       "4                           Allen, Mr. William Henry    male  35.0      0   \n",
       "\n",
       "   Parch            Ticket     Fare Cabin Embarked  \n",
       "0      0         A/5 21171   7.2500   NaN        S  \n",
       "1      0          PC 17599  71.2833   C85        C  \n",
       "2      0  STON/O2. 3101282   7.9250   NaN        S  \n",
       "3      0            113803  53.1000  C123        S  \n",
       "4      0            373450   8.0500   NaN        S  "
      ]
     },
     "execution_count": 543,
     "metadata": {},
     "output_type": "execute_result"
    }
   ],
   "source": [
    "import pandas as pd\n",
    "\n",
    "file_path = \"./data/Titanic-Dataset.csv\"\n",
    "\n",
    "# Read Titanic.csv file\n",
    "df = pd.read_csv(\"../data/Titanic-Dataset.csv\")\n",
    "\n",
    "# This includes checking data structure, sample data\n",
    "print(\"=== DataFrame Info ===\")\n",
    "df.info()\n",
    "\n",
    "print(\"=== Sample data ===\")\n",
    "df.head()"
   ]
  },
  {
   "cell_type": "markdown",
   "metadata": {},
   "source": [
    "### Column Descriptions\n",
    "Key column descriptions:\n",
    "- `PassengerId` : Unique identifier for each passenger\n",
    "- `Survived` : Survival status (0 = No, 1 = Yes)\n",
    "- `Pclass` : Ticket class (1, 2, 3)\n",
    "- `Name` : Passenger name\n",
    "- `Sex` : Gender\n",
    "- `Age` : Age in years\n",
    "- `SibSp` : Number of siblings/spouses aboard\n",
    "- `Parch` : Number of parents/children aboard\n",
    "- `Ticket` : Ticket number\n",
    "- `Fare` : Passenger fare\n",
    "- `Cabin` : Cabin number\n",
    "- `Embarked` : Port of embarkation (C = Cherbourg, Q = Queenstown, S = Southampton)"
   ]
  },
  {
   "cell_type": "markdown",
   "metadata": {},
   "source": [
    "# Consider the data with Arrows.app\n",
    "When converting a complete tabular dataset like a passenger manifest into a graph, it may seem simple to create nodes for person, tickets, and departure points while turning the remaining columns into properties. \n",
    "\n",
    "However, the flexibility of the graph structure requires careful consideration of how to categorize data into nodes, relationships, or properties. The way the data is structured may vary depending on the types of queries you plan to run on the graph.\n",
    "\n",
    "To assist with this, Neo4j provides `Arrows.app`, a tool that allows you to visualize relationships across the graph before uploading any specific data. With [arrows.app](https://arrows.app), you can explore and experiment with different ways to model the data. To demonstrate this, I will present an example graph that represents a complex data structure."
   ]
  },
  {
   "cell_type": "markdown",
   "metadata": {},
   "source": [
    "### Defining the Relationship Categories\n",
    "The first step was to define the categories of relationships we were interested in.\n",
    "Here are the three relationships I had to define: MARRIED_TO, SIBLING_TO, PARENT_OF.\n",
    "![explanation-01](../assets/05-faqragsystem-flow-explanation-01.png)\n"
   ]
  },
  {
   "cell_type": "markdown",
   "metadata": {},
   "source": [
    "Both MARRIED_TO and SIBLING_TO would imply the same relationship in the other direction between the same nodes. \n",
    "\n",
    "PARENT_OF would imply a reverse relationship of CHILD_OF."
   ]
  },
  {
   "cell_type": "markdown",
   "metadata": {},
   "source": [
    "## Data Restructure\n",
    "Our main goal is to analyze family relationships. Let’s assume that most traveling families shared the same ticket number, but we also want to avoid mistakenly matching children as spouses of their parents. \n",
    "\n",
    "To handle this, we’ll rely on age data to distinguish adult relationships from child relationships. Fortunately, the passenger manifest provides relatively complete ticket and age columns, which will help us create more accurate relationships—such as MARRIED_TO, SIBLING_TO, or PARENT_OF—without mixing up parents and children."
   ]
  },
  {
   "cell_type": "code",
   "execution_count": 544,
   "metadata": {},
   "outputs": [],
   "source": [
    "# Optional: parse last names from \"Name\" if helpful\n",
    "df[\"LastName\"] = df[\"Name\"].apply(lambda x: x.split(\",\")[0].strip())\n",
    "\n",
    "# Drop rows where Age is null\n",
    "df.dropna(subset=[\"Age\"], inplace=True)\n",
    "\n",
    "# Convert \"Ticket\" to a string type to maintain consistency\n",
    "df[\"Ticket\"] = df[\"Ticket\"].astype(str)"
   ]
  },
  {
   "cell_type": "code",
   "execution_count": 545,
   "metadata": {},
   "outputs": [
    {
     "data": {
      "text/html": [
       "<div>\n",
       "<style scoped>\n",
       "    .dataframe tbody tr th:only-of-type {\n",
       "        vertical-align: middle;\n",
       "    }\n",
       "\n",
       "    .dataframe tbody tr th {\n",
       "        vertical-align: top;\n",
       "    }\n",
       "\n",
       "    .dataframe thead th {\n",
       "        text-align: right;\n",
       "    }\n",
       "</style>\n",
       "<table border=\"1\" class=\"dataframe\">\n",
       "  <thead>\n",
       "    <tr style=\"text-align: right;\">\n",
       "      <th></th>\n",
       "      <th>PassengerId</th>\n",
       "      <th>Survived</th>\n",
       "      <th>Pclass</th>\n",
       "      <th>Name</th>\n",
       "      <th>Sex</th>\n",
       "      <th>Age</th>\n",
       "      <th>SibSp</th>\n",
       "      <th>Parch</th>\n",
       "      <th>Ticket</th>\n",
       "      <th>Fare</th>\n",
       "      <th>Cabin</th>\n",
       "      <th>Embarked</th>\n",
       "      <th>LastName</th>\n",
       "    </tr>\n",
       "  </thead>\n",
       "  <tbody>\n",
       "    <tr>\n",
       "      <th>0</th>\n",
       "      <td>1</td>\n",
       "      <td>0</td>\n",
       "      <td>3</td>\n",
       "      <td>Braund, Mr. Owen Harris</td>\n",
       "      <td>male</td>\n",
       "      <td>22.0</td>\n",
       "      <td>1</td>\n",
       "      <td>0</td>\n",
       "      <td>A/5 21171</td>\n",
       "      <td>7.2500</td>\n",
       "      <td>NaN</td>\n",
       "      <td>S</td>\n",
       "      <td>Braund</td>\n",
       "    </tr>\n",
       "    <tr>\n",
       "      <th>1</th>\n",
       "      <td>2</td>\n",
       "      <td>1</td>\n",
       "      <td>1</td>\n",
       "      <td>Cumings, Mrs. John Bradley (Florence Briggs Th...</td>\n",
       "      <td>female</td>\n",
       "      <td>38.0</td>\n",
       "      <td>1</td>\n",
       "      <td>0</td>\n",
       "      <td>PC 17599</td>\n",
       "      <td>71.2833</td>\n",
       "      <td>C85</td>\n",
       "      <td>C</td>\n",
       "      <td>Cumings</td>\n",
       "    </tr>\n",
       "    <tr>\n",
       "      <th>2</th>\n",
       "      <td>3</td>\n",
       "      <td>1</td>\n",
       "      <td>3</td>\n",
       "      <td>Heikkinen, Miss. Laina</td>\n",
       "      <td>female</td>\n",
       "      <td>26.0</td>\n",
       "      <td>0</td>\n",
       "      <td>0</td>\n",
       "      <td>STON/O2. 3101282</td>\n",
       "      <td>7.9250</td>\n",
       "      <td>NaN</td>\n",
       "      <td>S</td>\n",
       "      <td>Heikkinen</td>\n",
       "    </tr>\n",
       "    <tr>\n",
       "      <th>3</th>\n",
       "      <td>4</td>\n",
       "      <td>1</td>\n",
       "      <td>1</td>\n",
       "      <td>Futrelle, Mrs. Jacques Heath (Lily May Peel)</td>\n",
       "      <td>female</td>\n",
       "      <td>35.0</td>\n",
       "      <td>1</td>\n",
       "      <td>0</td>\n",
       "      <td>113803</td>\n",
       "      <td>53.1000</td>\n",
       "      <td>C123</td>\n",
       "      <td>S</td>\n",
       "      <td>Futrelle</td>\n",
       "    </tr>\n",
       "    <tr>\n",
       "      <th>4</th>\n",
       "      <td>5</td>\n",
       "      <td>0</td>\n",
       "      <td>3</td>\n",
       "      <td>Allen, Mr. William Henry</td>\n",
       "      <td>male</td>\n",
       "      <td>35.0</td>\n",
       "      <td>0</td>\n",
       "      <td>0</td>\n",
       "      <td>373450</td>\n",
       "      <td>8.0500</td>\n",
       "      <td>NaN</td>\n",
       "      <td>S</td>\n",
       "      <td>Allen</td>\n",
       "    </tr>\n",
       "  </tbody>\n",
       "</table>\n",
       "</div>"
      ],
      "text/plain": [
       "   PassengerId  Survived  Pclass  \\\n",
       "0            1         0       3   \n",
       "1            2         1       1   \n",
       "2            3         1       3   \n",
       "3            4         1       1   \n",
       "4            5         0       3   \n",
       "\n",
       "                                                Name     Sex   Age  SibSp  \\\n",
       "0                            Braund, Mr. Owen Harris    male  22.0      1   \n",
       "1  Cumings, Mrs. John Bradley (Florence Briggs Th...  female  38.0      1   \n",
       "2                             Heikkinen, Miss. Laina  female  26.0      0   \n",
       "3       Futrelle, Mrs. Jacques Heath (Lily May Peel)  female  35.0      1   \n",
       "4                           Allen, Mr. William Henry    male  35.0      0   \n",
       "\n",
       "   Parch            Ticket     Fare Cabin Embarked   LastName  \n",
       "0      0         A/5 21171   7.2500   NaN        S     Braund  \n",
       "1      0          PC 17599  71.2833   C85        C    Cumings  \n",
       "2      0  STON/O2. 3101282   7.9250   NaN        S  Heikkinen  \n",
       "3      0            113803  53.1000  C123        S   Futrelle  \n",
       "4      0            373450   8.0500   NaN        S      Allen  "
      ]
     },
     "execution_count": 545,
     "metadata": {},
     "output_type": "execute_result"
    }
   ],
   "source": [
    "#\n",
    "df.head()"
   ]
  },
  {
   "cell_type": "markdown",
   "metadata": {},
   "source": [
    "### Generate Relationship Edges\n",
    "1. Sibling Relationships\n",
    "2. Marriage Relationships\n",
    "3. Parent-Child Relationships"
   ]
  },
  {
   "cell_type": "markdown",
   "metadata": {},
   "source": [
    "# Neo4j Database Connection\n",
    "First, install the Neo4j graph database. This tutorial is based on Neo4j Desktop .\n",
    "\n",
    "[Neo4j Desktop Installation link](https://neo4j.com/docs/operations-manual/current/installation/)\n",
    "\n",
    "[Note] \n",
    "You can set up Neo4j in several ways \n",
    "\n",
    "1. [`Neo4j Desktop`](https://neo4j.com/docs/operations-manual/current/installation/) :  A desktop application for local development\n",
    "\n",
    "2. [`Neo4j Sandbox` ](https://neo4j.com/sandbox/) : A free, cloud-based platform for working with graph databases\n",
    "\n",
    "3. [`Docker` ](https://neo4j.com/docs/operations-manual/current/docker/) : Run Neo4j in a container using the official Neo4j Docker image"
   ]
  },
  {
   "cell_type": "code",
   "execution_count": 546,
   "metadata": {},
   "outputs": [],
   "source": [
    "import os\n",
    "\n",
    "os.environ[\"NEO4J_URI\"] = \"bolt://localhost:7687\"\n",
    "os.environ[\"NEO4J_USERNAME\"] = \"taylor\"\n",
    "os.environ[\"NEO4J_PASSWORD\"] = \"titanic12\""
   ]
  },
  {
   "cell_type": "markdown",
   "metadata": {},
   "source": [
    "### Define Neo4j Credentials\n",
    "[how to import csv file](https://neo4j.com/docs/getting-started/appendix/tutorials/guide-import-desktop-csv/#csv-location)\n",
    "\n",
    "We will import a CSV file into the Neo4j Desktop by adding it to the `import` folder.\n",
    "\n",
    "You can open a finder window by hovering over the three dots to the right side of the started DBMS and select Open folder, then Import\n",
    "![explanation-02](../assets/05-faqragsystem-flow-explanation-02.png)"
   ]
  },
  {
   "cell_type": "markdown",
   "metadata": {},
   "source": [
    "You can directly drag & drop files into this folder to add them\n",
    "![explanation-03](../assets/05-faqragsystem-flow-explanation-03.png)\n"
   ]
  },
  {
   "cell_type": "markdown",
   "metadata": {},
   "source": [
    "Let's verify the data import using Neo4j Browser\n",
    "![explanation-04](../assets/05-faqragsystem-flow-explanation-04.png)"
   ]
  },
  {
   "cell_type": "markdown",
   "metadata": {},
   "source": [
    "We will use a simple Cypher query to verify that the data has been successfully added:\n",
    "\n",
    "This query will count the number of rows in the tested.csv file and return the total count. If the data is accessible and correctly loaded, you will see the total row count in the result.\n",
    "\n",
    "`LOAD CSV FROM 'file:///tested.csv' AS row\n",
    "RETURN count(row);`\n",
    "\n",
    "![explanation-05](../assets/05-faqragsystem-flow-explanation-05.png)\n",
    "![explanation-06](../assets/05-faqragsystem-flow-explanation-06.png)\n",
    "\n",
    "It has been successfully loaded!\n"
   ]
  },
  {
   "cell_type": "code",
   "execution_count": 547,
   "metadata": {},
   "outputs": [
    {
     "name": "stderr",
     "output_type": "stream",
     "text": [
      "Received notification from DBMS server: {severity: WARNING} {code: Neo.ClientNotification.Statement.FeatureDeprecationWarning} {category: DEPRECATION} {title: This feature is deprecated and will be removed in future versions.} {description: The procedure has a deprecated field. ('config' used by 'apoc.meta.graphSample' is deprecated.)} {position: line: 1, column: 1, offset: 0} for query: \"CALL apoc.meta.graphSample() YIELD nodes, relationships RETURN nodes, [rel in relationships | {name:apoc.any.property(rel, 'type'), count: apoc.any.property(rel, 'count')}] AS relationships\"\n"
     ]
    },
    {
     "name": "stdout",
     "output_type": "stream",
     "text": [
      "Neo4j 연결 성공!\n"
     ]
    }
   ],
   "source": [
    "# Neo4j 그래프 연결 시도\n",
    "from langchain_neo4j import Neo4jGraph\n",
    "\n",
    "uri = os.environ[\"NEO4J_URI\"]\n",
    "username = os.environ[\"NEO4J_USERNAME\"]\n",
    "password = os.environ[\"NEO4J_PASSWORD\"]\n",
    "\n",
    "try:\n",
    "    graph = Neo4jGraph(\n",
    "        url=uri, username=username, password=password, enhanced_schema=True\n",
    "    )\n",
    "    print(\"Neo4j 연결 성공!\")\n",
    "except Exception as e:\n",
    "    print(f\"연결 오류: {str(e)}\")"
   ]
  },
  {
   "cell_type": "markdown",
   "metadata": {},
   "source": [
    "    \"\"\"\n",
    "    Titanic 승객(노드) 생성:\n",
    "    id (PK), name, age, sex, survived, sibsp, parch, ticket, fare, embarked 등\n",
    "    \"\"\""
   ]
  },
  {
   "cell_type": "markdown",
   "metadata": {},
   "source": [
    "### Why We Create Passenger Nodes\n",
    "\n",
    "We create Passenger nodes to represent each Titanic passenger in the graph database. This enables us to:\n",
    "- Assign properties (e.g., age, ticket, survived) directly to a node.\n",
    "- Connect these person with relationships to other entities (e.g., SIBLING_OF, MARRIED_TO, PARENT_OF) once we identify family links or other relevant data points.\n",
    "- Query the graph to analyze connections, run aggregations on survivor counts, family group structures, or other correlations inherent in the Titanic dataset.\n",
    "\n",
    "By modeling person as nodes, Neo4j can leverage its graph capabilities (like path finding, pattern matching, or graph algorithms) to deliver deeper insights than a traditional relational or tabular approach might."
   ]
  },
  {
   "cell_type": "code",
   "execution_count": 548,
   "metadata": {},
   "outputs": [
    {
     "name": "stderr",
     "output_type": "stream",
     "text": [
      "Received notification from DBMS server: {severity: WARNING} {code: Neo.ClientNotification.Statement.FeatureDeprecationWarning} {category: DEPRECATION} {title: This feature is deprecated and will be removed in future versions.} {description: The procedure has a deprecated field. ('config' used by 'apoc.meta.graphSample' is deprecated.)} {position: line: 1, column: 1, offset: 0} for query: \"CALL apoc.meta.graphSample() YIELD nodes, relationships RETURN nodes, [rel in relationships | {name:apoc.any.property(rel, 'type'), count: apoc.any.property(rel, 'count')}] AS relationships\"\n"
     ]
    },
    {
     "name": "stdout",
     "output_type": "stream",
     "text": [
      "Ticket node count: [{'ticketCount': 0}]\n",
      "Node properties:\n",
      "- **Passenger**\n",
      "  - `name`: STRING Example: \"Braund, Mr. Owen Harris\"\n",
      "  - `lastName`: STRING Example: \"Braund\"\n",
      "  - `age`: FLOAT Min: 0.42, Max: 80.0\n",
      "  - `sex`: STRING Available options: ['male', 'female']\n",
      "  - `survived`: INTEGER Min: 0, Max: 1\n",
      "  - `sibsp`: INTEGER Min: 0, Max: 5\n",
      "  - `parch`: INTEGER Min: 0, Max: 6\n",
      "  - `ticket`: STRING Example: \"A/5 21171\"\n",
      "  - `pclass`: INTEGER Min: 1, Max: 3\n",
      "  - `fare`: FLOAT Min: 0.0, Max: 512.3292\n",
      "  - `embarked`: STRING Available options: ['S', 'C', 'Q', 'NaN']\n",
      "  - `family`: INTEGER Min: 0, Max: 7\n",
      "  - `passengerId`: INTEGER Min: 1, Max: 891\n",
      "Relationship properties:\n",
      "\n",
      "The relationships:\n",
      "\n"
     ]
    }
   ],
   "source": [
    "cypher = \"\"\"\n",
    "UNWIND $person AS row\n",
    "MERGE (p:Passenger { passengerId: toInteger(row.PassengerId) })\n",
    "ON CREATE SET\n",
    "    p.name      = row.Name,\n",
    "    p.lastName  = row.LastName,\n",
    "    p.age       = CASE WHEN row.Age <> '' THEN toFloat(row.Age) ELSE null END,\n",
    "    p.sex       = row.Sex,\n",
    "    p.survived  = row.Survived,\n",
    "    p.sibsp     = CASE WHEN row.SibSp <> '' THEN toInteger(row.SibSp) ELSE 0 END,\n",
    "    p.parch     = CASE WHEN row.Parch <> '' THEN toInteger(row.Parch) ELSE 0 END,\n",
    "    p.family    = CASE\n",
    "                     WHEN row.SibSp <> '' AND row.Parch <> ''\n",
    "                     THEN toInteger(row.SibSp) + toInteger(row.Parch)\n",
    "                     ELSE 0\n",
    "                  END,\n",
    "    p.ticket    = row.Ticket,\n",
    "    p.pclass    = CASE WHEN row.Pclass <> '' THEN toInteger(row.Pclass) ELSE null END,\n",
    "    p.fare      = CASE WHEN row.Fare <> '' THEN toFloat(row.Fare) ELSE null END,\n",
    "    p.embarked  = row.Embarked\n",
    "RETURN count(*) AS total\n",
    "\"\"\"\n",
    "\n",
    "params = {\"person\": df.to_dict(\"records\")}\n",
    "\n",
    "graph.query(cypher, params)\n",
    "\n",
    "# 확인 쿼리 (Python에서)\n",
    "result = graph.query(\"MATCH (t:Ticket) RETURN count(t) AS ticketCount\")\n",
    "print(\"Ticket node count:\", result)\n",
    "\n",
    "graph.refresh_schema()\n",
    "print(graph.schema)"
   ]
  },
  {
   "cell_type": "markdown",
   "metadata": {},
   "source": [
    "Verifying Nodes in Neo4j Browser\n",
    "\n",
    "Cypher query:\n",
    "MATCH (n:Passenger) RETURN n LIMIT 10\n",
    "![explanation-07](../assets/05-faqragsystem-flow-explanation-07.png)\n",
    "The nodes have been successfully created!"
   ]
  },
  {
   "cell_type": "code",
   "execution_count": 549,
   "metadata": {},
   "outputs": [
    {
     "name": "stdout",
     "output_type": "stream",
     "text": [
      "Ticket node count: [{'ticketCount': 542}]\n"
     ]
    }
   ],
   "source": [
    "ticket_node_query = \"\"\"\n",
    "UNWIND $person AS row\n",
    "MERGE (t:Ticket {ticketNo: row.Ticket})\n",
    "\"\"\"\n",
    "params = {\"person\": df.to_dict(\"records\")}\n",
    "\n",
    "# 실제 실행\n",
    "graph.query(ticket_node_query, params)\n",
    "\n",
    "# 확인 쿼리 (Python에서)\n",
    "result = graph.query(\"MATCH (t:Ticket) RETURN count(t) AS ticketCount\")\n",
    "print(\"Ticket node count:\", result)"
   ]
  },
  {
   "cell_type": "code",
   "execution_count": 550,
   "metadata": {},
   "outputs": [
    {
     "name": "stdout",
     "output_type": "stream",
     "text": [
      "TRAVELED_ON relationships created: [{'totalEdges': 714}]\n"
     ]
    }
   ],
   "source": [
    "travel_on_query = \"\"\"\n",
    "UNWIND $person AS row\n",
    "MATCH (p:Passenger { passengerId: toInteger(row.PassengerId) })\n",
    "MATCH (t:Ticket { ticketNo: row.Ticket })\n",
    "MERGE (p)-[:TRAVELED_ON]->(t)\n",
    "RETURN count(*) AS totalEdges\n",
    "\"\"\"\n",
    "# 실행\n",
    "rel_result = graph.query(travel_on_query, params)\n",
    "print(\"TRAVELED_ON relationships created:\", rel_result)"
   ]
  },
  {
   "cell_type": "code",
   "execution_count": 551,
   "metadata": {},
   "outputs": [
    {
     "name": "stderr",
     "output_type": "stream",
     "text": [
      "Received notification from DBMS server: {severity: WARNING} {code: Neo.ClientNotification.Statement.FeatureDeprecationWarning} {category: DEPRECATION} {title: This feature is deprecated and will be removed in future versions.} {description: The procedure has a deprecated field. ('config' used by 'apoc.meta.graphSample' is deprecated.)} {position: line: 1, column: 1, offset: 0} for query: \"CALL apoc.meta.graphSample() YIELD nodes, relationships RETURN nodes, [rel in relationships | {name:apoc.any.property(rel, 'type'), count: apoc.any.property(rel, 'count')}] AS relationships\"\n"
     ]
    },
    {
     "name": "stdout",
     "output_type": "stream",
     "text": [
      "Node properties:\n",
      "- **Passenger**\n",
      "  - `name`: STRING Example: \"Braund, Mr. Owen Harris\"\n",
      "  - `lastName`: STRING Example: \"Braund\"\n",
      "  - `age`: FLOAT Min: 0.42, Max: 80.0\n",
      "  - `sex`: STRING Available options: ['male', 'female']\n",
      "  - `survived`: INTEGER Min: 0, Max: 1\n",
      "  - `sibsp`: INTEGER Min: 0, Max: 5\n",
      "  - `parch`: INTEGER Min: 0, Max: 6\n",
      "  - `ticket`: STRING Example: \"A/5 21171\"\n",
      "  - `pclass`: INTEGER Min: 1, Max: 3\n",
      "  - `fare`: FLOAT Min: 0.0, Max: 512.3292\n",
      "  - `embarked`: STRING Available options: ['S', 'C', 'Q', 'NaN']\n",
      "  - `family`: INTEGER Min: 0, Max: 7\n",
      "  - `passengerId`: INTEGER Min: 1, Max: 891\n",
      "- **Ticket**\n",
      "  - `ticketNo`: STRING Example: \"350035\"\n",
      "Relationship properties:\n",
      "\n",
      "The relationships:\n",
      "(:Passenger)-[:TRAVELED_ON]->(:Ticket)\n"
     ]
    }
   ],
   "source": [
    "graph.refresh_schema()\n",
    "print(graph.schema)"
   ]
  },
  {
   "cell_type": "markdown",
   "metadata": {},
   "source": [
    "### Why Create These Relationships?\n",
    "\n",
    "1.\t`MARRIED_TO` \n",
    "Infers a couple is married if they share the same Ticket, have the same LastName, have sibsp = 1 (i.e., exactly one sibling/spouse count in the data), differ in sex, and a few additional age-based checks.\n",
    "\n",
    "2.\t`SIBLING_OF` \n",
    "Among those not married, uses SibSp, LastName, Ticket, and other constraints (e.g., (p2).parch = 1 or 2) to guess they’re siblings if they appear to have the same “family” context but are not recognized as spouses.\n",
    "\n",
    "3. `PARENT_OF` (and/or `CHILD_OF` )\n",
    "If the passenger has parch >= 1 (parents/children on board), is older than some threshold, or specifically older than the potential child, create PARENT_OF edges.\n",
    "\n",
    "These queries are heuristics to reconstruct plausible family connections from partial data. They rely on simplified assumptions—such as “If two people share a ticket, they might be family,” “If a passenger’s sibsp=1, that single sibling/spouse is probably a spouse rather than a child,” etc. You can refine or alter the logic to fit your own inference approach."
   ]
  },
  {
   "cell_type": "markdown",
   "metadata": {},
   "source": [
    "### Key Idea\n",
    "< `MARRIED_TO` >\n",
    "\n",
    "\t1. TRAVELED_ON 관계로 티켓이 같은 승객(person, other)을 찾는다.\n",
    "\n",
    "\t2. ORDER BY other.age DESC 한 뒤 collect(other)로 **가족 목록(familyMembers)**을 만든다.\n",
    "\n",
    "\t3. familyMembers[0] (가장 나이 많은 사람)을 “배우자 후보”나 “가족 대표”로 간주.\n",
    "\n",
    "\t4. FOREACH(... CREATE ...) 구문을 써서, 조건에 해당하는 승객에게만 관계를 생성.\n",
    "\n",
    "    5. p2 = familyMembers[0] → “가장 나이 많은(또는 첫 번째) 사람만 배우자 후보로 본다”\n",
    "\t\n",
    "\t6. (size(familyMembers) = 1 OR p1.age > familyMembers[1].age) → “가족이 한 명이거나, 두 번째로 나이 많은 사람보다 p1이 더 많으면…??” 등 복잡한 조건.\n",
    "\n",
    "티켓 공유 + 동일 family + sibsp=1이면 서로 배우자, “가족 내 나이순”을 통해 첫 번째만 배우자로 처리.\n",
    "\n"
   ]
  },
  {
   "cell_type": "code",
   "execution_count": 552,
   "metadata": {},
   "outputs": [
    {
     "name": "stderr",
     "output_type": "stream",
     "text": [
      "Received notification from DBMS server: {severity: WARNING} {code: Neo.ClientNotification.Statement.FeatureDeprecationWarning} {category: DEPRECATION} {title: This feature is deprecated and will be removed in future versions.} {description: The procedure has a deprecated field. ('config' used by 'apoc.meta.graphSample' is deprecated.)} {position: line: 1, column: 1, offset: 0} for query: \"CALL apoc.meta.graphSample() YIELD nodes, relationships RETURN nodes, [rel in relationships | {name:apoc.any.property(rel, 'type'), count: apoc.any.property(rel, 'count')}] AS relationships\"\n"
     ]
    },
    {
     "name": "stdout",
     "output_type": "stream",
     "text": [
      "Node properties:\n",
      "- **Passenger**\n",
      "  - `name`: STRING Example: \"Braund, Mr. Owen Harris\"\n",
      "  - `lastName`: STRING Example: \"Braund\"\n",
      "  - `age`: FLOAT Min: 0.42, Max: 80.0\n",
      "  - `sex`: STRING Available options: ['male', 'female']\n",
      "  - `survived`: INTEGER Min: 0, Max: 1\n",
      "  - `sibsp`: INTEGER Min: 0, Max: 5\n",
      "  - `parch`: INTEGER Min: 0, Max: 6\n",
      "  - `ticket`: STRING Example: \"A/5 21171\"\n",
      "  - `pclass`: INTEGER Min: 1, Max: 3\n",
      "  - `fare`: FLOAT Min: 0.0, Max: 512.3292\n",
      "  - `embarked`: STRING Available options: ['S', 'C', 'Q', 'NaN']\n",
      "  - `family`: INTEGER Min: 0, Max: 7\n",
      "  - `passengerId`: INTEGER Min: 1, Max: 891\n",
      "- **Ticket**\n",
      "  - `ticketNo`: STRING Example: \"350035\"\n",
      "Relationship properties:\n",
      "\n",
      "The relationships:\n",
      "(:Passenger)-[:TRAVELED_ON]->(:Ticket)\n",
      "(:Passenger)-[:MARRIED_TO]->(:Passenger)\n"
     ]
    }
   ],
   "source": [
    "# MARRIED_TO\n",
    "married_query = \"\"\"\n",
    "MATCH (person:Passenger)\n",
    "WHERE person.age IS NOT NULL\n",
    "MATCH (person)-[:TRAVELED_ON]->(ticket:Ticket)<-[:TRAVELED_ON]-(other:Passenger)\n",
    "WHERE other.age IS NOT NULL\n",
    "  AND person.family = other.family\n",
    "WITH person, other\n",
    "ORDER BY other.age DESC\n",
    "WITH person AS p1, collect(other) AS familyMembers\n",
    "WITH p1, familyMembers,\n",
    "     [p2 IN familyMembers\n",
    "        WHERE p1.sibsp = 1\n",
    "          AND p2.sibsp = 1\n",
    "          AND p2.family >= 1\n",
    "          AND p2.sex <> p1.sex\n",
    "          AND p2 = familyMembers[0]\n",
    "          AND (size(familyMembers) = 1 OR p1.age > familyMembers[1].age)\n",
    "     ] AS spouses\n",
    "FOREACH (p IN spouses | CREATE (p1)-[:MARRIED_TO]->(p))\n",
    "\"\"\"\n",
    "\n",
    "graph.query(married_query)\n",
    "graph.refresh_schema()\n",
    "print(graph.schema)"
   ]
  },
  {
   "cell_type": "markdown",
   "metadata": {},
   "source": [
    "1.\t우선 “이미 MARRIED_TO가 아닌 사람들끼리” 형제(SIBLING_OF) 추론\n",
    "2.\t남은 후보 중에서 나이차(p1.age > p2.age)를 이용해 부모-자식(PARENT_OF) 결정\n",
    "3.\t순서대로 FOREACH(...) 문을 써서 관계 생성"
   ]
  },
  {
   "cell_type": "code",
   "execution_count": 553,
   "metadata": {},
   "outputs": [
    {
     "name": "stderr",
     "output_type": "stream",
     "text": [
      "Received notification from DBMS server: {severity: WARNING} {code: Neo.ClientNotification.Statement.FeatureDeprecationWarning} {category: DEPRECATION} {title: This feature is deprecated and will be removed in future versions.} {description: The procedure has a deprecated field. ('config' used by 'apoc.meta.graphSample' is deprecated.)} {position: line: 1, column: 1, offset: 0} for query: \"CALL apoc.meta.graphSample() YIELD nodes, relationships RETURN nodes, [rel in relationships | {name:apoc.any.property(rel, 'type'), count: apoc.any.property(rel, 'count')}] AS relationships\"\n"
     ]
    },
    {
     "name": "stdout",
     "output_type": "stream",
     "text": [
      "Node properties:\n",
      "- **Passenger**\n",
      "  - `name`: STRING Example: \"Braund, Mr. Owen Harris\"\n",
      "  - `lastName`: STRING Example: \"Braund\"\n",
      "  - `age`: FLOAT Min: 0.42, Max: 80.0\n",
      "  - `sex`: STRING Available options: ['male', 'female']\n",
      "  - `survived`: INTEGER Min: 0, Max: 1\n",
      "  - `sibsp`: INTEGER Min: 0, Max: 5\n",
      "  - `parch`: INTEGER Min: 0, Max: 6\n",
      "  - `ticket`: STRING Example: \"A/5 21171\"\n",
      "  - `pclass`: INTEGER Min: 1, Max: 3\n",
      "  - `fare`: FLOAT Min: 0.0, Max: 512.3292\n",
      "  - `embarked`: STRING Available options: ['S', 'C', 'Q', 'NaN']\n",
      "  - `family`: INTEGER Min: 0, Max: 7\n",
      "  - `passengerId`: INTEGER Min: 1, Max: 891\n",
      "- **Ticket**\n",
      "  - `ticketNo`: STRING Example: \"350035\"\n",
      "Relationship properties:\n",
      "\n",
      "The relationships:\n",
      "(:Passenger)-[:TRAVELED_ON]->(:Ticket)\n",
      "(:Passenger)-[:MARRIED_TO]->(:Passenger)\n",
      "(:Passenger)-[:SIBLING_OF]->(:Passenger)\n",
      "(:Passenger)-[:PARENT_OF]->(:Passenger)\n"
     ]
    }
   ],
   "source": [
    "# SIBLING_OF & PARENT_OF\n",
    "\n",
    "sibling_parent_query = \"\"\"\n",
    "    MATCH (person:Passenger)\n",
    "    WHERE person.age IS NOT NULL\n",
    "    MATCH (person:Passenger)-[:TRAVELED_ON]->(ticket:Ticket)<-[:TRAVELED_ON]-(other:Passenger)\n",
    "    WHERE other.age IS NOT NULL AND person.family = other.family\n",
    "    WITH person, other\n",
    "    ORDER BY other.age DESC\n",
    "    WITH person as p1, collect(other) as familyMembers\n",
    "    WITH p1, familyMembers, [p2 in familyMembers WHERE\n",
    "    NOT (p2)-[:MARRIED_TO]->() AND\n",
    "    NOT (p1)-[:MARRIED_TO]->() AND\n",
    "    p2.sibsp >= 1 AND\n",
    "    p2.sibsp = p1.sibsp AND\n",
    "    p2.family >= 1 AND\n",
    "    (p2.parch = 1 OR p2.parch = 2) AND\n",
    "    NOT p2 = familyMembers [0] AND\n",
    "    NOT p1 = familyMembers [0] \n",
    "    ] as siblings\n",
    "    WITH p1, familyMembers, siblings, [p2 in familyMembers WHERE\n",
    "    NOT (p2)-[:MARRIED_TO]->() AND\n",
    "    NOT p2 IN siblings AND\n",
    "    NOT p1 IN siblings AND \n",
    "    p2.family >= 1 AND\n",
    "    (p2.parch = 1 OR p2.parch = 2) AND\n",
    "    p1.parch >= 1 AND\n",
    "    p1.age > p2.age\n",
    "    ] as children\n",
    "FOREACH (p in siblings | CREATE (p1)-[:SIBLING_OF]->(p))\n",
    "FOREACH (p in children | CREATE (p1)-[:PARENT_OF]->(p))\n",
    "\"\"\"\n",
    "\n",
    "graph.query(sibling_parent_query)\n",
    "graph.refresh_schema()\n",
    "print(graph.schema)"
   ]
  },
  {
   "cell_type": "markdown",
   "metadata": {},
   "source": [
    "# Usage Example\n",
    "query를통해... titanic 데이터 알아보기\n",
    "랭그래프로 조회가 되지않는(쿼리가 잘못 생성된 경우 ) recursion을 통해 조회가 될때까지 처리하는 로직 만들기 \n",
    "+ agent가 cypher 만들고 그거에 대해 설명해주는것도 추가 "
   ]
  },
  {
   "cell_type": "code",
   "execution_count": 559,
   "metadata": {},
   "outputs": [],
   "source": [
    "from langchain_openai import ChatOpenAI\n",
    "\n",
    "llm = ChatOpenAI(model=\"gpt-4o\", temperature=0, api_key=os.getenv(\"OPENAI_API_KEY\"))"
   ]
  },
  {
   "cell_type": "markdown",
   "metadata": {},
   "source": [
    "PROMPT SETUP\n",
    "\n",
    "Our schema + usage instructions referencing the Titanic relationships"
   ]
  },
  {
   "cell_type": "code",
   "execution_count": 563,
   "metadata": {},
   "outputs": [
    {
     "name": "stdout",
     "output_type": "stream",
     "text": [
      "input_variables=['question', 'schema'] input_types={} partial_variables={} template='\\nYou have a Neo4j database with a \\'Passenger\\' node label, which includes properties:\\n- Passenger [ id, name, age, sex, survived, sibsp, parch, ticket, pclass, fare, embarked ]\\n\\nSchema: \\n{schema}\\n\\nRelationships (inferred from the Titanic blog):\\n- :SIBLING_OF\\n- :MARRIED_TO\\n- :PARENT_OF\\n\\nRules:\\n- If the user mentions siblings, brother, or sister, use :SIBLING_OF.\\n- If the user mentions spouse, married, husband, or wife, use :MARRIED_TO.\\n- If the user mentions parent, child, mother, or father, use :PARENT_OF\\n- Do not invent new relationship names. Only use the 4 types above if relevant.\\n- The node label is only \\'Passenger\\'. Do not invent new labels.\\n- Use MATCH (p:Passenger) to reference person. \\n- Return your Cypher query in a single code block.\\n\\nExamples : \\n\\n**Example 1**  \\n**Natural language**: \"Find me all the spouses of Mr. John Smith.\"  \\n**Cypher**: \"MATCH (p:Passenger {{name: \"John Smith\"}})-[:MARRIED_TO]->(spouse:Passenger)\\nRETURN spouse.name AS spouseName\"\\n\\nThe question is:\\n{question}\\n\\n'\n",
      "\n",
      "\n",
      "\u001b[1m> Entering new GraphCypherQAChain chain...\u001b[0m\n",
      "Generated Cypher:\n",
      "\u001b[32;1m\u001b[1;3mcypher\n",
      "MATCH (p:Passenger)-[:SIBLING_OF]->(sibling:Passenger)\n",
      "RETURN p.name AS passengerName, COUNT(sibling) AS siblingCount\n",
      "ORDER BY siblingCount DESC\n",
      "LIMIT 1\n",
      "\u001b[0m\n",
      "Full Context:\n",
      "\u001b[32;1m\u001b[1;3m[{'passengerName': 'Panula, Master. Juha Niilo', 'siblingCount': 4}]\u001b[0m\n",
      "\n",
      "\u001b[1m> Finished chain.\u001b[0m\n"
     ]
    },
    {
     "data": {
      "text/plain": [
       "{'query': 'Which passenger has the most siblings?',\n",
       " 'result': 'Panula, Master. Juha Niilo has the most siblings, with a sibling count of 4.'}"
      ]
     },
     "execution_count": 563,
     "metadata": {},
     "output_type": "execute_result"
    }
   ],
   "source": [
    "from langchain_core.prompts.prompt import PromptTemplate\n",
    "from langchain_neo4j import GraphCypherQAChain\n",
    "\n",
    "schema = graph.schema\n",
    "\n",
    "TITANIC_SCHEMA_PROMPT = \"\"\"\n",
    "You have a Neo4j database with a 'Passenger' node label, which includes properties:\n",
    "- Passenger [ id, name, age, sex, survived, sibsp, parch, ticket, pclass, fare, embarked ]\n",
    "\n",
    "Schema: \n",
    "{schema}\n",
    "\n",
    "Relationships (inferred from the Titanic blog):\n",
    "- :SIBLING_OF\n",
    "- :MARRIED_TO\n",
    "- :PARENT_OF\n",
    "\n",
    "Rules:\n",
    "- If the user mentions siblings, brother, or sister, use :SIBLING_OF.\n",
    "- If the user mentions spouse, married, husband, or wife, use :MARRIED_TO.\n",
    "- If the user mentions parent, child, mother, or father, use :PARENT_OF\n",
    "- Do not invent new relationship names. Only use the 4 types above if relevant.\n",
    "- The node label is only 'Passenger'. Do not invent new labels.\n",
    "- Use MATCH (p:Passenger) to reference person. \n",
    "- Return your Cypher query in a single code block.\n",
    "\n",
    "Examples : \n",
    "\n",
    "**Example 1**  \n",
    "**Natural language**: \"Find me all the spouses of Mr. John Smith.\"  \n",
    "**Cypher**: \"MATCH (p:Passenger {{name: \"John Smith\"}})-[:MARRIED_TO]->(spouse:Passenger)\n",
    "RETURN spouse.name AS spouseName\"\n",
    "\n",
    "The question is:\n",
    "{question}\n",
    "\n",
    "\"\"\"\n",
    "\n",
    "CYPHER_GENERATION_PROMPT = PromptTemplate(\n",
    "    input_variables=[\"schema\", \"question\"], template=TITANIC_SCHEMA_PROMPT\n",
    ")\n",
    "print(CYPHER_GENERATION_PROMPT)\n",
    "\n",
    "chain = GraphCypherQAChain.from_llm(\n",
    "    ChatOpenAI(model=\"gpt-4o\", temperature=0, api_key=os.getenv(\"OPENAI_API_KEY\")),\n",
    "    graph=graph,\n",
    "    verbose=True,\n",
    "    cypher_prompt=CYPHER_GENERATION_PROMPT,\n",
    "    allow_dangerous_requests=True,\n",
    ")\n",
    "\n",
    "chain.invoke({\"query\": \"Which passenger has the most siblings?\"})"
   ]
  },
  {
   "cell_type": "code",
   "execution_count": 572,
   "metadata": {},
   "outputs": [
    {
     "name": "stdout",
     "output_type": "stream",
     "text": [
      "\n",
      "\n",
      "\u001b[1m> Entering new GraphCypherQAChain chain...\u001b[0m\n",
      "Generated Cypher:\n",
      "\u001b[32;1m\u001b[1;3mcypher\n",
      "MATCH (p:Passenger)\n",
      "WITH \n",
      "  p.pclass AS class, \n",
      "  p.sex AS sex, \n",
      "  CASE \n",
      "    WHEN p.age < 18 THEN 'child' \n",
      "    ELSE 'adult' \n",
      "  END AS ageGroup, \n",
      "  p.survived AS survived\n",
      "RETURN \n",
      "  class, \n",
      "  sex, \n",
      "  ageGroup, \n",
      "  COUNT(*) AS total, \n",
      "  SUM(survived) AS survivedCount, \n",
      "  ROUND(100.0 * SUM(survived) / COUNT(*), 2) AS survivalRate\n",
      "ORDER BY survivalRate DESC\n",
      "\u001b[0m\n",
      "Full Context:\n",
      "\u001b[32;1m\u001b[1;3m[{'class': 2, 'sex': 'female', 'ageGroup': 'child', 'total': 12, 'survivedCount': 12, 'survivalRate': 100.0}, {'class': 1, 'sex': 'male', 'ageGroup': 'child', 'total': 4, 'survivedCount': 4, 'survivalRate': 100.0}, {'class': 1, 'sex': 'female', 'ageGroup': 'adult', 'total': 77, 'survivedCount': 75, 'survivalRate': 97.4}, {'class': 2, 'sex': 'female', 'ageGroup': 'adult', 'total': 62, 'survivedCount': 56, 'survivalRate': 90.32}, {'class': 1, 'sex': 'female', 'ageGroup': 'child', 'total': 8, 'survivedCount': 7, 'survivalRate': 87.5}, {'class': 2, 'sex': 'male', 'ageGroup': 'child', 'total': 11, 'survivedCount': 9, 'survivalRate': 81.82}, {'class': 3, 'sex': 'female', 'ageGroup': 'child', 'total': 35, 'survivedCount': 19, 'survivalRate': 54.29}, {'class': 3, 'sex': 'female', 'ageGroup': 'adult', 'total': 67, 'survivedCount': 28, 'survivalRate': 41.79}, {'class': 1, 'sex': 'male', 'ageGroup': 'adult', 'total': 97, 'survivedCount': 36, 'survivalRate': 37.11}, {'class': 3, 'sex': 'male', 'ageGroup': 'child', 'total': 43, 'survivedCount': 10, 'survivalRate': 23.26}]\u001b[0m\n",
      "\n",
      "\u001b[1m> Finished chain.\u001b[0m\n"
     ]
    },
    {
     "data": {
      "text/plain": [
       "{'query': 'Tell me about the conditions that will give me the highest chance of survival.',\n",
       " 'result': 'Being a female child in the second class gives the highest chance of survival, with a survival rate of 100.0%.'}"
      ]
     },
     "execution_count": 572,
     "metadata": {},
     "output_type": "execute_result"
    }
   ],
   "source": [
    "chain.invoke(\n",
    "    {\n",
    "        \"query\": \"Tell me about the conditions that will give me the highest chance of survival.\"\n",
    "    }\n",
    ")"
   ]
  },
  {
   "cell_type": "code",
   "execution_count": 570,
   "metadata": {},
   "outputs": [
    {
     "name": "stdout",
     "output_type": "stream",
     "text": [
      "\n",
      "\n",
      "\u001b[1m> Entering new GraphCypherQAChain chain...\u001b[0m\n"
     ]
    },
    {
     "name": "stderr",
     "output_type": "stream",
     "text": [
      "Received notification from DBMS server: {severity: WARNING} {code: Neo.ClientNotification.Statement.AggregationSkippedNull} {category: UNRECOGNIZED} {title: The query contains an aggregation function that skips null values.} {description: null value eliminated in set function.} {position: None} for query: \"cypher\\nMATCH (p:Passenger)\\nOPTIONAL MATCH (p)-[:PARENT_OF]->(child:Passenger)\\nWITH p, COUNT(child) AS childrenCount\\nRETURN \\n  CASE \\n    WHEN childrenCount > 0 THEN 'With Children' \\n    ELSE 'Without Children' \\n  END AS group, \\n  AVG(p.survived) AS survivalRate\\nORDER BY group\\n\"\n"
     ]
    },
    {
     "name": "stdout",
     "output_type": "stream",
     "text": [
      "Generated Cypher:\n",
      "\u001b[32;1m\u001b[1;3mcypher\n",
      "MATCH (p:Passenger)\n",
      "OPTIONAL MATCH (p)-[:PARENT_OF]->(child:Passenger)\n",
      "WITH p, COUNT(child) AS childrenCount\n",
      "RETURN \n",
      "  CASE \n",
      "    WHEN childrenCount > 0 THEN 'With Children' \n",
      "    ELSE 'Without Children' \n",
      "  END AS group, \n",
      "  AVG(p.survived) AS survivalRate\n",
      "ORDER BY group\n",
      "\u001b[0m\n",
      "Full Context:\n",
      "\u001b[32;1m\u001b[1;3m[{'group': 'With Children', 'survivalRate': 0.5081967213114754}, {'group': 'Without Children', 'survivalRate': 0.3966309341500764}]\u001b[0m\n",
      "\n",
      "\u001b[1m> Finished chain.\u001b[0m\n"
     ]
    },
    {
     "data": {
      "text/plain": [
       "{'query': '자녀가 있는 경우와 없는 경우에 더 생존 확률이 높은 경우는 어떤거야?',\n",
       " 'result': '자녀가 있는 경우의 생존 확률이 0.5081967213114754로, 자녀가 없는 경우의 생존 확률 0.3966309341500764보다 더 높습니다.'}"
      ]
     },
     "execution_count": 570,
     "metadata": {},
     "output_type": "execute_result"
    }
   ],
   "source": [
    "chain.invoke(\n",
    "    {\"query\": \"자녀가 있는 경우와 없는 경우에 더 생존 확률이 높은 경우는 어떤거야?\"}\n",
    ")"
   ]
  },
  {
   "cell_type": "markdown",
   "metadata": {},
   "source": [
    "### Usage Example using Langgraph\n",
    "**Why Use langgraph?** \n",
    "\n",
    "Sometimes, natural language can’t be directly or accurately converted to a valid Cypher query on the first try. The query might fail for various reasons:\n",
    "1.\tNonexistent Columns or Properties\n",
    "2.\tTypos in relationship labels or node labels\n",
    "3.\tLogical Mistakes leading to syntax errors\n",
    "\n",
    "Instead of manually fixing the query, we can automate the process:\n",
    "1.\tAsk an LLM to generate a query from a user’s question.\n",
    "2.\tTry running the query against `Neo4j` .\n",
    "3.\tIf it fails, capture the error message and feed it back to the LLM so it can revise the query.\n",
    "4.\tRetry until a valid query is produced or we exceed the maximum number of attempts.\n",
    "\n",
    "This iterative approach significantly improves robustness when handling open-ended user questions.\n"
   ]
  },
  {
   "cell_type": "code",
   "execution_count": 617,
   "metadata": {},
   "outputs": [],
   "source": [
    "from langgraph.graph import MessagesState\n",
    "\n",
    "\n",
    "def agent_node(state: MessagesState):\n",
    "    \"\"\"\n",
    "    This node tries to parse the last user question,\n",
    "    pass it to chain.invoke() -> which attempts to build & run the Cypher query.\n",
    "    \"\"\"\n",
    "    # The last message in \"messages\" is typically the user's request\n",
    "    user_msg = state[\"messages\"][-1]  # [ (role, content), (role, content) ]\n",
    "    user_text = user_msg.content\n",
    "\n",
    "    try:\n",
    "        # Attempt to run the chain\n",
    "        response = chain.invoke({\"query\": user_text})\n",
    "\n",
    "        # If successful, store the response as a new assistant message\n",
    "        final_anwser = response[\"result\"]  # from chain\n",
    "    \n",
    "        # We'll mark success by returning \"success\" or just go to END\n",
    "        return {\"answer\": final_anwser, \"steps\": [\"end\"]}\n",
    "\n",
    "    except Exception as e:\n",
    "        # Move to the cypher_rewriter node\n",
    "        return {\"error_message\": str(e), \"steps\": [\"cypher_rewriter_node\"]}"
   ]
  },
  {
   "cell_type": "code",
   "execution_count": 628,
   "metadata": {},
   "outputs": [],
   "source": [
    "def cypher_rewriter_node(state: MessagesState):\n",
    "    \"\"\"\n",
    "    If agent_node fails, we come here. We'll do a short \"system\" style or user style prompt\n",
    "    to help fix the query, then go back to agent_node.\n",
    "    \"\"\"\n",
    "    # Retrieve the original user query\n",
    "    print(state[\"messages\"])\n",
    "    user_msg = state[\"messages\"][-2]\n",
    "    user_text = user_msg.content\n",
    "\n",
    "    CYPHER_REWRITE_PROMPT = '''\n",
    "    Your previous query caused the following error in Neo4j:{error_message}\n",
    "    Please modify the query to fix the error.\n",
    "    Original question: {user_text}\n",
    "    Schema: {graph.schema}\n",
    "    '''\n",
    "\n",
    "    CYPHER_GENERATION_PROMPT = PromptTemplate(\n",
    "        input_variables=[\"schema\", \"user_text\",\"error_message\"], template=CYPHER_REWRITE_PROMPT\n",
    "    )\n",
    "\n",
    "    cypher_rewrite_chain = GraphCypherQAChain.from_llm(\n",
    "    ChatOpenAI(model=\"gpt-4o\", temperature=0, api_key=os.getenv(\"OPENAI_API_KEY\")),\n",
    "    graph=graph,\n",
    "    verbose=True,\n",
    "    cypher_prompt=CYPHER_GENERATION_PROMPT,\n",
    "    allow_dangerous_requests=True,\n",
    ")\n",
    "\n",
    "    try :\n",
    "        # Attempt to run the chain\n",
    "        response = cypher_rewrite_chain.invoke({\"query\": user_text})\n",
    "        final_anwser = response[\"result\"]\n",
    "        return {\"answer\": final_anwser, \"steps\": [\"end\"]}\n",
    "    except : \n",
    "        return {\"error_message\": str(e), \"steps\": [\"cypher_rewriter_node\"]}\n"
   ]
  },
  {
   "cell_type": "code",
   "execution_count": 629,
   "metadata": {},
   "outputs": [],
   "source": [
    "# Build the Workflow\n",
    "from langgraph.graph import StateGraph, START, END\n",
    "from langgraph.prebuilt import tools_condition\n",
    "\n",
    "workflow = StateGraph(MessagesState)\n",
    "\n",
    "# Define your nodes in the workflow\n",
    "workflow.add_node(\"agent_node\", agent_node)\n",
    "workflow.add_node(\"cypher_rewriter\", cypher_rewriter_node)\n",
    "\n",
    "# Start edge: from START to agent_node\n",
    "workflow.add_edge(START, \"agent_node\")\n",
    "\n",
    "# From agent_node:\n",
    "# - on success or completion, go to END\n",
    "workflow.add_edge(\"agent_node\", END)\n",
    "# - on error, jump to cypher_rewriter\n",
    "workflow.add_edge(\"agent_node\", \"cypher_rewriter\")\n",
    "\n",
    "# From cypher_rewriter, go back to agent_node\n",
    "workflow.add_edge(\"cypher_rewriter\", END)\n",
    "# Also from cypher_rewriter, if done, go to END\n",
    "\n",
    "app = workflow.compile()"
   ]
  },
  {
   "cell_type": "code",
   "execution_count": 626,
   "metadata": {},
   "outputs": [
    {
     "data": {
      "image/png": "[encoded data removed]",
      "text/plain": [
       "<IPython.core.display.Image object>"
      ]
     },
     "metadata": {},
     "output_type": "display_data"
    }
   ],
   "source": [
    "from IPython.display import Image, display\n",
    "from langchain_core.runnables.graph import MermaidDrawMethod\n",
    "\n",
    "# Visualize the compiled StateGraph as a Mermaid diagram\n",
    "display(\n",
    "    Image(\n",
    "        app.get_graph().draw_mermaid_png(\n",
    "            draw_method=MermaidDrawMethod.API,\n",
    "        )\n",
    "    )\n",
    ")"
   ]
  },
  {
   "cell_type": "code",
   "execution_count": 630,
   "metadata": {},
   "outputs": [
    {
     "name": "stdout",
     "output_type": "stream",
     "text": [
      "================================\u001b[1m Human Message \u001b[0m=================================\n",
      "\n",
      "return the number of people with children aboard that died or survived\n",
      "\n",
      "\n",
      "\u001b[1m> Entering new GraphCypherQAChain chain...\u001b[0m\n",
      "[HumanMessage(content='return the number of people with children aboard that died or survived', additional_kwargs={}, response_metadata={}, id='928cf2cb-63f6-44d6-9d58-30cf6f44812f')]\n"
     ]
    },
    {
     "ename": "IndexError",
     "evalue": "list index out of range",
     "output_type": "error",
     "traceback": [
      "\u001b[0;31m---------------------------------------------------------------------------\u001b[0m",
      "\u001b[0;31mIndexError\u001b[0m                                Traceback (most recent call last)",
      "Cell \u001b[0;32mIn[630], line 20\u001b[0m\n\u001b[1;32m      5\u001b[0m config \u001b[38;5;241m=\u001b[39m RunnableConfig(\n\u001b[1;32m      6\u001b[0m     recursion_limit\u001b[38;5;241m=\u001b[39m\u001b[38;5;241m10\u001b[39m,\n\u001b[1;32m      7\u001b[0m     configurable\u001b[38;5;241m=\u001b[39m{\n\u001b[1;32m      8\u001b[0m         \u001b[38;5;124m\"\u001b[39m\u001b[38;5;124mthread_id\u001b[39m\u001b[38;5;124m\"\u001b[39m: \u001b[38;5;124m\"\u001b[39m\u001b[38;5;124mtest_123\u001b[39m\u001b[38;5;124m\"\u001b[39m,\n\u001b[1;32m      9\u001b[0m     },\n\u001b[1;32m     10\u001b[0m )\n\u001b[1;32m     12\u001b[0m initial_state \u001b[38;5;241m=\u001b[39m MessagesState(\n\u001b[1;32m     13\u001b[0m     messages\u001b[38;5;241m=\u001b[39m[\n\u001b[1;32m     14\u001b[0m         HumanMessage(\n\u001b[0;32m   (...)\u001b[0m\n\u001b[1;32m     17\u001b[0m     ]\n\u001b[1;32m     18\u001b[0m )\n\u001b[0;32m---> 20\u001b[0m \u001b[38;5;28;43;01mfor\u001b[39;49;00m\u001b[43m \u001b[49m\u001b[43mchunk\u001b[49m\u001b[43m \u001b[49m\u001b[38;5;129;43;01min\u001b[39;49;00m\u001b[43m \u001b[49m\u001b[43mapp\u001b[49m\u001b[38;5;241;43m.\u001b[39;49m\u001b[43mstream\u001b[49m\u001b[43m(\u001b[49m\u001b[43minitial_state\u001b[49m\u001b[43m,\u001b[49m\u001b[43m \u001b[49m\u001b[43mstream_mode\u001b[49m\u001b[38;5;241;43m=\u001b[39;49m\u001b[38;5;124;43m\"\u001b[39;49m\u001b[38;5;124;43mvalues\u001b[39;49m\u001b[38;5;124;43m\"\u001b[39;49m\u001b[43m)\u001b[49m\u001b[43m:\u001b[49m\n\u001b[1;32m     21\u001b[0m \u001b[43m    \u001b[49m\u001b[38;5;66;43;03m# 마지막 메시지 출력\u001b[39;49;00m\n\u001b[1;32m     22\u001b[0m \u001b[43m    \u001b[49m\u001b[43mchunk\u001b[49m\u001b[43m[\u001b[49m\u001b[38;5;124;43m\"\u001b[39;49m\u001b[38;5;124;43mmessages\u001b[39;49m\u001b[38;5;124;43m\"\u001b[39;49m\u001b[43m]\u001b[49m\u001b[43m[\u001b[49m\u001b[38;5;241;43m-\u001b[39;49m\u001b[38;5;241;43m1\u001b[39;49m\u001b[43m]\u001b[49m\u001b[38;5;241;43m.\u001b[39;49m\u001b[43mpretty_print\u001b[49m\u001b[43m(\u001b[49m\u001b[43m)\u001b[49m\n",
      "File \u001b[0;32m~/Library/Caches/pypoetry/virtualenvs/langchain-opentutorial-jPP3Iqy--py3.11/lib/python3.11/site-packages/langgraph/pregel/__init__.py:1656\u001b[0m, in \u001b[0;36mPregel.stream\u001b[0;34m(self, input, config, stream_mode, output_keys, interrupt_before, interrupt_after, debug, subgraphs)\u001b[0m\n\u001b[1;32m   1650\u001b[0m     \u001b[38;5;66;03m# Similarly to Bulk Synchronous Parallel / Pregel model\u001b[39;00m\n\u001b[1;32m   1651\u001b[0m     \u001b[38;5;66;03m# computation proceeds in steps, while there are channel updates\u001b[39;00m\n\u001b[1;32m   1652\u001b[0m     \u001b[38;5;66;03m# channel updates from step N are only visible in step N+1\u001b[39;00m\n\u001b[1;32m   1653\u001b[0m     \u001b[38;5;66;03m# channels are guaranteed to be immutable for the duration of the step,\u001b[39;00m\n\u001b[1;32m   1654\u001b[0m     \u001b[38;5;66;03m# with channel updates applied only at the transition between steps\u001b[39;00m\n\u001b[1;32m   1655\u001b[0m     \u001b[38;5;28;01mwhile\u001b[39;00m loop\u001b[38;5;241m.\u001b[39mtick(input_keys\u001b[38;5;241m=\u001b[39m\u001b[38;5;28mself\u001b[39m\u001b[38;5;241m.\u001b[39minput_channels):\n\u001b[0;32m-> 1656\u001b[0m \u001b[43m        \u001b[49m\u001b[38;5;28;43;01mfor\u001b[39;49;00m\u001b[43m \u001b[49m\u001b[43m_\u001b[49m\u001b[43m \u001b[49m\u001b[38;5;129;43;01min\u001b[39;49;00m\u001b[43m \u001b[49m\u001b[43mrunner\u001b[49m\u001b[38;5;241;43m.\u001b[39;49m\u001b[43mtick\u001b[49m\u001b[43m(\u001b[49m\n\u001b[1;32m   1657\u001b[0m \u001b[43m            \u001b[49m\u001b[43mloop\u001b[49m\u001b[38;5;241;43m.\u001b[39;49m\u001b[43mtasks\u001b[49m\u001b[38;5;241;43m.\u001b[39;49m\u001b[43mvalues\u001b[49m\u001b[43m(\u001b[49m\u001b[43m)\u001b[49m\u001b[43m,\u001b[49m\n\u001b[1;32m   1658\u001b[0m \u001b[43m            \u001b[49m\u001b[43mtimeout\u001b[49m\u001b[38;5;241;43m=\u001b[39;49m\u001b[38;5;28;43mself\u001b[39;49m\u001b[38;5;241;43m.\u001b[39;49m\u001b[43mstep_timeout\u001b[49m\u001b[43m,\u001b[49m\n\u001b[1;32m   1659\u001b[0m \u001b[43m            \u001b[49m\u001b[43mretry_policy\u001b[49m\u001b[38;5;241;43m=\u001b[39;49m\u001b[38;5;28;43mself\u001b[39;49m\u001b[38;5;241;43m.\u001b[39;49m\u001b[43mretry_policy\u001b[49m\u001b[43m,\u001b[49m\n\u001b[1;32m   1660\u001b[0m \u001b[43m            \u001b[49m\u001b[43mget_waiter\u001b[49m\u001b[38;5;241;43m=\u001b[39;49m\u001b[43mget_waiter\u001b[49m\u001b[43m,\u001b[49m\n\u001b[1;32m   1661\u001b[0m \u001b[43m        \u001b[49m\u001b[43m)\u001b[49m\u001b[43m:\u001b[49m\n\u001b[1;32m   1662\u001b[0m \u001b[43m            \u001b[49m\u001b[38;5;66;43;03m# emit output\u001b[39;49;00m\n\u001b[1;32m   1663\u001b[0m \u001b[43m            \u001b[49m\u001b[38;5;28;43;01myield from\u001b[39;49;00m\u001b[43m \u001b[49m\u001b[43moutput\u001b[49m\u001b[43m(\u001b[49m\u001b[43m)\u001b[49m\n\u001b[1;32m   1664\u001b[0m \u001b[38;5;66;03m# emit output\u001b[39;00m\n",
      "File \u001b[0;32m~/Library/Caches/pypoetry/virtualenvs/langchain-opentutorial-jPP3Iqy--py3.11/lib/python3.11/site-packages/langgraph/pregel/runner.py:167\u001b[0m, in \u001b[0;36mPregelRunner.tick\u001b[0;34m(self, tasks, reraise, timeout, retry_policy, get_waiter)\u001b[0m\n\u001b[1;32m    165\u001b[0m t \u001b[38;5;241m=\u001b[39m tasks[\u001b[38;5;241m0\u001b[39m]\n\u001b[1;32m    166\u001b[0m \u001b[38;5;28;01mtry\u001b[39;00m:\n\u001b[0;32m--> 167\u001b[0m     \u001b[43mrun_with_retry\u001b[49m\u001b[43m(\u001b[49m\n\u001b[1;32m    168\u001b[0m \u001b[43m        \u001b[49m\u001b[43mt\u001b[49m\u001b[43m,\u001b[49m\n\u001b[1;32m    169\u001b[0m \u001b[43m        \u001b[49m\u001b[43mretry_policy\u001b[49m\u001b[43m,\u001b[49m\n\u001b[1;32m    170\u001b[0m \u001b[43m        \u001b[49m\u001b[43mconfigurable\u001b[49m\u001b[38;5;241;43m=\u001b[39;49m\u001b[43m{\u001b[49m\n\u001b[1;32m    171\u001b[0m \u001b[43m            \u001b[49m\u001b[43mCONFIG_KEY_SEND\u001b[49m\u001b[43m:\u001b[49m\u001b[43m \u001b[49m\u001b[43mpartial\u001b[49m\u001b[43m(\u001b[49m\u001b[43mwriter\u001b[49m\u001b[43m,\u001b[49m\u001b[43m \u001b[49m\u001b[43mt\u001b[49m\u001b[43m)\u001b[49m\u001b[43m,\u001b[49m\n\u001b[1;32m    172\u001b[0m \u001b[43m            \u001b[49m\u001b[43mCONFIG_KEY_CALL\u001b[49m\u001b[43m:\u001b[49m\u001b[43m \u001b[49m\u001b[43mpartial\u001b[49m\u001b[43m(\u001b[49m\u001b[43mcall\u001b[49m\u001b[43m,\u001b[49m\u001b[43m \u001b[49m\u001b[43mt\u001b[49m\u001b[43m)\u001b[49m\u001b[43m,\u001b[49m\n\u001b[1;32m    173\u001b[0m \u001b[43m        \u001b[49m\u001b[43m}\u001b[49m\u001b[43m,\u001b[49m\n\u001b[1;32m    174\u001b[0m \u001b[43m    \u001b[49m\u001b[43m)\u001b[49m\n\u001b[1;32m    175\u001b[0m     \u001b[38;5;28mself\u001b[39m\u001b[38;5;241m.\u001b[39mcommit(t, \u001b[38;5;28;01mNone\u001b[39;00m)\n\u001b[1;32m    176\u001b[0m \u001b[38;5;28;01mexcept\u001b[39;00m \u001b[38;5;167;01mException\u001b[39;00m \u001b[38;5;28;01mas\u001b[39;00m exc:\n",
      "File \u001b[0;32m~/Library/Caches/pypoetry/virtualenvs/langchain-opentutorial-jPP3Iqy--py3.11/lib/python3.11/site-packages/langgraph/pregel/retry.py:40\u001b[0m, in \u001b[0;36mrun_with_retry\u001b[0;34m(task, retry_policy, configurable)\u001b[0m\n\u001b[1;32m     38\u001b[0m     task\u001b[38;5;241m.\u001b[39mwrites\u001b[38;5;241m.\u001b[39mclear()\n\u001b[1;32m     39\u001b[0m     \u001b[38;5;66;03m# run the task\u001b[39;00m\n\u001b[0;32m---> 40\u001b[0m     \u001b[38;5;28;01mreturn\u001b[39;00m \u001b[43mtask\u001b[49m\u001b[38;5;241;43m.\u001b[39;49m\u001b[43mproc\u001b[49m\u001b[38;5;241;43m.\u001b[39;49m\u001b[43minvoke\u001b[49m\u001b[43m(\u001b[49m\u001b[43mtask\u001b[49m\u001b[38;5;241;43m.\u001b[39;49m\u001b[43minput\u001b[49m\u001b[43m,\u001b[49m\u001b[43m \u001b[49m\u001b[43mconfig\u001b[49m\u001b[43m)\u001b[49m\n\u001b[1;32m     41\u001b[0m \u001b[38;5;28;01mexcept\u001b[39;00m ParentCommand \u001b[38;5;28;01mas\u001b[39;00m exc:\n\u001b[1;32m     42\u001b[0m     ns: \u001b[38;5;28mstr\u001b[39m \u001b[38;5;241m=\u001b[39m config[CONF][CONFIG_KEY_CHECKPOINT_NS]\n",
      "File \u001b[0;32m~/Library/Caches/pypoetry/virtualenvs/langchain-opentutorial-jPP3Iqy--py3.11/lib/python3.11/site-packages/langgraph/utils/runnable.py:408\u001b[0m, in \u001b[0;36mRunnableSeq.invoke\u001b[0;34m(self, input, config, **kwargs)\u001b[0m\n\u001b[1;32m    404\u001b[0m config \u001b[38;5;241m=\u001b[39m patch_config(\n\u001b[1;32m    405\u001b[0m     config, callbacks\u001b[38;5;241m=\u001b[39mrun_manager\u001b[38;5;241m.\u001b[39mget_child(\u001b[38;5;124mf\u001b[39m\u001b[38;5;124m\"\u001b[39m\u001b[38;5;124mseq:step:\u001b[39m\u001b[38;5;132;01m{\u001b[39;00mi\u001b[38;5;241m+\u001b[39m\u001b[38;5;241m1\u001b[39m\u001b[38;5;132;01m}\u001b[39;00m\u001b[38;5;124m\"\u001b[39m)\n\u001b[1;32m    406\u001b[0m )\n\u001b[1;32m    407\u001b[0m \u001b[38;5;28;01mif\u001b[39;00m i \u001b[38;5;241m==\u001b[39m \u001b[38;5;241m0\u001b[39m:\n\u001b[0;32m--> 408\u001b[0m     \u001b[38;5;28minput\u001b[39m \u001b[38;5;241m=\u001b[39m \u001b[43mstep\u001b[49m\u001b[38;5;241;43m.\u001b[39;49m\u001b[43minvoke\u001b[49m\u001b[43m(\u001b[49m\u001b[38;5;28;43minput\u001b[39;49m\u001b[43m,\u001b[49m\u001b[43m \u001b[49m\u001b[43mconfig\u001b[49m\u001b[43m,\u001b[49m\u001b[43m \u001b[49m\u001b[38;5;241;43m*\u001b[39;49m\u001b[38;5;241;43m*\u001b[39;49m\u001b[43mkwargs\u001b[49m\u001b[43m)\u001b[49m\n\u001b[1;32m    409\u001b[0m \u001b[38;5;28;01melse\u001b[39;00m:\n\u001b[1;32m    410\u001b[0m     \u001b[38;5;28minput\u001b[39m \u001b[38;5;241m=\u001b[39m step\u001b[38;5;241m.\u001b[39minvoke(\u001b[38;5;28minput\u001b[39m, config)\n",
      "File \u001b[0;32m~/Library/Caches/pypoetry/virtualenvs/langchain-opentutorial-jPP3Iqy--py3.11/lib/python3.11/site-packages/langgraph/utils/runnable.py:184\u001b[0m, in \u001b[0;36mRunnableCallable.invoke\u001b[0;34m(self, input, config, **kwargs)\u001b[0m\n\u001b[1;32m    182\u001b[0m \u001b[38;5;28;01melse\u001b[39;00m:\n\u001b[1;32m    183\u001b[0m     context\u001b[38;5;241m.\u001b[39mrun(_set_config_context, config)\n\u001b[0;32m--> 184\u001b[0m     ret \u001b[38;5;241m=\u001b[39m \u001b[43mcontext\u001b[49m\u001b[38;5;241;43m.\u001b[39;49m\u001b[43mrun\u001b[49m\u001b[43m(\u001b[49m\u001b[38;5;28;43mself\u001b[39;49m\u001b[38;5;241;43m.\u001b[39;49m\u001b[43mfunc\u001b[49m\u001b[43m,\u001b[49m\u001b[43m \u001b[49m\u001b[38;5;28;43minput\u001b[39;49m\u001b[43m,\u001b[49m\u001b[43m \u001b[49m\u001b[38;5;241;43m*\u001b[39;49m\u001b[38;5;241;43m*\u001b[39;49m\u001b[43mkwargs\u001b[49m\u001b[43m)\u001b[49m\n\u001b[1;32m    185\u001b[0m \u001b[38;5;28;01mif\u001b[39;00m \u001b[38;5;28misinstance\u001b[39m(ret, Runnable) \u001b[38;5;129;01mand\u001b[39;00m \u001b[38;5;28mself\u001b[39m\u001b[38;5;241m.\u001b[39mrecurse:\n\u001b[1;32m    186\u001b[0m     \u001b[38;5;28;01mreturn\u001b[39;00m ret\u001b[38;5;241m.\u001b[39minvoke(\u001b[38;5;28minput\u001b[39m, config)\n",
      "Cell \u001b[0;32mIn[628], line 8\u001b[0m, in \u001b[0;36mcypher_rewriter_node\u001b[0;34m(state)\u001b[0m\n\u001b[1;32m      6\u001b[0m \u001b[38;5;66;03m# Retrieve the original user query\u001b[39;00m\n\u001b[1;32m      7\u001b[0m \u001b[38;5;28mprint\u001b[39m(state[\u001b[38;5;124m\"\u001b[39m\u001b[38;5;124mmessages\u001b[39m\u001b[38;5;124m\"\u001b[39m])\n\u001b[0;32m----> 8\u001b[0m user_msg \u001b[38;5;241m=\u001b[39m \u001b[43mstate\u001b[49m\u001b[43m[\u001b[49m\u001b[38;5;124;43m\"\u001b[39;49m\u001b[38;5;124;43mmessages\u001b[39;49m\u001b[38;5;124;43m\"\u001b[39;49m\u001b[43m]\u001b[49m\u001b[43m[\u001b[49m\u001b[38;5;241;43m-\u001b[39;49m\u001b[38;5;241;43m2\u001b[39;49m\u001b[43m]\u001b[49m\n\u001b[1;32m      9\u001b[0m user_text \u001b[38;5;241m=\u001b[39m user_msg\u001b[38;5;241m.\u001b[39mcontent\n\u001b[1;32m     11\u001b[0m CYPHER_REWRITE_PROMPT \u001b[38;5;241m=\u001b[39m \u001b[38;5;124m'''\u001b[39m\n\u001b[1;32m     12\u001b[0m \u001b[38;5;124mYour previous query caused the following error in Neo4j:\u001b[39m\u001b[38;5;132;01m{error_message}\u001b[39;00m\n\u001b[1;32m     13\u001b[0m \u001b[38;5;124mPlease modify the query to fix the error.\u001b[39m\n\u001b[1;32m     14\u001b[0m \u001b[38;5;124mOriginal question: \u001b[39m\u001b[38;5;132;01m{user_text}\u001b[39;00m\n\u001b[1;32m     15\u001b[0m \u001b[38;5;124mSchema: \u001b[39m\u001b[38;5;132;01m{graph.schema}\u001b[39;00m\n\u001b[1;32m     16\u001b[0m \u001b[38;5;124m\u001b[39m\u001b[38;5;124m'''\u001b[39m\n",
      "\u001b[0;31mIndexError\u001b[0m: list index out of range",
      "\u001b[0mDuring task with name 'cypher_rewriter' and id '97b29e91-f40a-37ec-f139-45096fec9a27'"
     ]
    }
   ],
   "source": [
    "from langchain_core.runnables import RunnableConfig\n",
    "from langchain_core.messages import HumanMessage\n",
    "\n",
    "# Config settings with checkpoint configuration\n",
    "config = RunnableConfig(\n",
    "    recursion_limit=10,\n",
    "    configurable={\n",
    "        \"thread_id\": \"test_123\",\n",
    "    },\n",
    ")\n",
    "\n",
    "initial_state = MessagesState(\n",
    "    messages=[\n",
    "        HumanMessage(\n",
    "            content=\"return the number of people with children aboard that died or survived\"\n",
    "        )\n",
    "    ]\n",
    ")\n",
    "\n",
    "for chunk in app.stream(initial_state, stream_mode=\"values\"):\n",
    "    # 마지막 메시지 출력\n",
    "    chunk[\"messages\"][-1].pretty_print()"
   ]
  }
 ],
 "metadata": {
  "kernelspec": {
   "display_name": "langchain-opentutorial-jPP3Iqy--py3.11",
   "language": "python",
   "name": "python3"
  },
  "language_info": {
   "codemirror_mode": {
    "name": "ipython",
    "version": 3
   },
   "file_extension": ".py",
   "mimetype": "text/x-python",
   "name": "python",
   "nbconvert_exporter": "python",
   "pygments_lexer": "ipython3",
   "version": "3.11.11"
  }
 },
 "nbformat": 4,
 "nbformat_minor": 2
}
