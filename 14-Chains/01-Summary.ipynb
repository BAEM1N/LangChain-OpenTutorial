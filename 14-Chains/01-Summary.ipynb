{
 "cells": [
  {
   "cell_type": "markdown",
   "id": "a5c6d6d7",
   "metadata": {},
   "source": [
    "# Summarization\n",
    "\n",
    "- Author: [Erika Park](https://www.linkedin.com/in/yeonseo-park-094193198/)\n",
    "- Peer Review: \n",
    "- Proofread:\n",
    "- This is a part of [LangChain Open Tutorial](https://github.com/LangChain-OpenTutorial/LangChain-OpenTutorial)\n",
    "\n",
    "[![Open in Colab](https://colab.research.google.com/assets/colab-badge.svg)](https://colab.research.google.com/github/LangChain-OpenTutorial/LangChain-OpenTutorial/blob/main/01-Basic/05-Using-OpenAIAPI-MultiModal.ipynb) [![Open in GitHub](https://img.shields.io/badge/Open%20in%20GitHub-181717?style=flat-square&logo=github&logoColor=white)](https://github.com/LangChain-OpenTutorial/LangChain-OpenTutorial/blob/main/01-Basic/05-Using-OpenAIAPI-MultiModal.ipynb)\n",
    "\n",
    "## Overview\n",
    "\n",
    "### Key Summarization Techniques\n",
    "\n",
    "In this tutorial, we will explore various document summarization techniques, discussing their approaches and applications.\n",
    "\n",
    "- Stuff: Summarizing the entire document at once by feeding it directly into the LLM's context window. This is the simplest and most straightforward method.\n",
    "\n",
    "- Map-Reduce: Splitting a document into multiple chunks, summarizing each chunk individually (map), and then merging the summaries into a final summary (reduce).\n",
    "\n",
    "- Map-Refine: Splitting a document into chunks, summarizing each one, and then progressively refining the summary by referencing previous summaries.\n",
    "\n",
    "- Chain of Density: Repeatedly summarizing a document while filling in missing entities, progressively improving the summary quality.\n",
    "\n",
    "- Clustering-Map-Refine: Dividing a document into N clusters, summarizing a central document from each cluster, and then refining the cluster summaries for a comprehensive result.\n",
    "\n",
    "\n",
    "### Core Principles of Document Summarization\n",
    "\n",
    "A central question when building a summarizer is: How should the document be presented to the LLM's context window? The primary approaches include:\n",
    "\n",
    "1. `Stuff` (Full Input): Placing the entire document into the context window at once. Simple but limited when handling long documents.\n",
    "\n",
    "2. `Map-Reduce` (Chunk and Merge): Splitting the document into multiple chunks, summarizing each chunk, and then merging the results into a final summary. Useful for handling large datasets.\n",
    "\n",
    "3.`Refine` (Sequential Improvement): Processing the document sequentially and refining the summary by merging previous summaries with new content, making it effective for detailed summarization needs.\n",
    "\n",
    "By the end of this tutorial, you will understand how to use these techniques effectively and choose the right method for your specific summarization scenarios.\n",
    "\n",
    "\n",
    "\n",
    "> **Document Used for Practice**\n",
    "> \n",
    "> Artificial Intelligence Index Report 2024 (Standford University)\n",
    "> - Authors: Erik Brynjolfsson, John Etchemendy, Juan Carlos Niebles, Vanessa Parli, Yoav Shoham, Russell Wald (Stanford University); Katrina Ligett (Hebrew University); Terah Lyons (JPMorgan Chase & Co.); James Manyika (Google, University of Oxford); Juan Carlos Niebles (Salesforce); Yoav Shoham (AI21 Labs)\n",
    "> - Link: https://arxiv.org/abs/2405.19522\n",
    "> - File Name: \"Artificial Intelligence Index Report.pdf\"\n",
    ">\n",
    ">_Please copy the downloaded file to the data folder for practice._\n",
    "\n",
    "\n",
    "### Table of Contents\n",
    "\n",
    "- [Overview](#overview)\n",
    "- [Environment Setup](#environment-setup)\n",
    "\n",
    "\n",
    "### References\n",
    "\n",
    "- [LangChain Summarize Text](https://python.langchain.com/v0.2/docs/tutorials/summarization/)\n",
    "\n",
    "----"
   ]
  },
  {
   "cell_type": "markdown",
   "id": "8cc9a740",
   "metadata": {},
   "source": [
    "## Environment Setup\n",
    "\n",
    "Set up the environment. You may refer to [Environment Setup](https://wikidocs.net/257836) for more details.\n",
    "\n",
    "**[Note]**\n",
    "- `langchain-opentutorial` is a package that provides a set of easy-to-use environment setup, useful functions, and utilities for tutorials. \n",
    "- You can checkout out the [`langchain-opentutorial`](https://github.com/LangChain-OpenTutorial/langchain-opentutorial-pypi) for more details."
   ]
  },
  {
   "cell_type": "code",
   "execution_count": 1,
   "id": "7bb1977e",
   "metadata": {},
   "outputs": [],
   "source": [
    "%%capture --no-stderr\n",
    "%pip install langchain-opentutorial"
   ]
  },
  {
   "cell_type": "code",
   "execution_count": 2,
   "id": "e589b45a",
   "metadata": {},
   "outputs": [],
   "source": [
    "# Install required packages\n",
    "from langchain_opentutorial import package\n",
    "\n",
    "package.install(\n",
    "    [\n",
    "        \"langchain\",\n",
    "        \"langchain_community\",\n",
    "        \"langchain_openai\",\n",
    "        \"langchain_core\",\n",
    "        \"langchain_upstage\",\n",
    "        \"scikit-learn\",\n",
    "        \"matplotlib\",\n",
    "        \"seaborn\",\n",
    "        \"numpy\"\n",
    "    ],\n",
    "    verbose=False,\n",
    "    upgrade=False,\n",
    ")"
   ]
  },
  {
   "cell_type": "code",
   "execution_count": 3,
   "id": "6e2f1289",
   "metadata": {},
   "outputs": [
    {
     "name": "stdout",
     "output_type": "stream",
     "text": [
      "Environment variables have been set successfully.\n"
     ]
    }
   ],
   "source": [
    "# Set environment variables\n",
    "from langchain_opentutorial import set_env\n",
    "\n",
    "set_env(\n",
    "    {\n",
    "        # \"OPENAI_API_KEY\": \"\",\n",
    "        # \"LANGCHAIN_API_KEY\": \"\",\n",
    "        \"LANGCHAIN_TRACING_V2\": \"true\",\n",
    "        \"LANGCHAIN_ENDPOINT\": \"https://api.smith.langchain.com\",\n",
    "        \"LANGCHAIN_PROJECT\": \"Chain_Summary\",\n",
    "    }\n",
    ")"
   ]
  },
  {
   "cell_type": "markdown",
   "id": "6cb18c70",
   "metadata": {},
   "source": [
    "You can alternatively set API keys such as `OPENAI_API_KEY` in a `.env` file and load them.\n",
    "\n",
    "[Note] This is not necessary if you've already set the required API keys in previous steps."
   ]
  },
  {
   "cell_type": "code",
   "execution_count": 4,
   "id": "4303b812",
   "metadata": {},
   "outputs": [
    {
     "data": {
      "text/plain": [
       "True"
      ]
     },
     "execution_count": 4,
     "metadata": {},
     "output_type": "execute_result"
    }
   ],
   "source": [
    "# Configuration file to manage the API KEY as an environment variable\n",
    "from dotenv import load_dotenv\n",
    "\n",
    "# Load API KEY information\n",
    "load_dotenv(override=True)"
   ]
  },
  {
   "cell_type": "markdown",
   "id": "231e2e5f",
   "metadata": {},
   "source": [
    "## Stuff\n",
    "\n",
    "The `stuff documents chain` (where \"stuff\" means \"to fill\" or \"for filling\") is the simplest type of document chain. It takes a list of documents, inserts them all into the prompt, and then sends that prompt to the LLM.\n",
    "\n",
    "In other words, the `context` input directly receives `Document` objects. When using a retriever to search a vector_store, it returns a `List[Document]`. This chain automatically converts the documents into a format suitable for the LLM without requiring manual conversion to strings.\n",
    "\n",
    "This chain is suitable for applications where documents are small, and only a few are passed in most calls."
   ]
  },
  {
   "cell_type": "code",
   "execution_count": 5,
   "id": "2ce28f89",
   "metadata": {},
   "outputs": [
    {
     "name": "stdout",
     "output_type": "stream",
     "text": [
      "Total characters: 6235\n",
      "\n",
      "========= Preview =========\n",
      "\n",
      "Title: 5 Generative AI Trends To Watch Out For In 2025\n",
      "\n",
      "Content:\n",
      "As businesses navigate an increasingly digital landscape, generative AI is becoming the cornerstone of enterprise applications. \n",
      "This transformation promises to enhance operational efficiency, drive innovation and reshape how organizations interact with technology. \n",
      "Understanding these shifts is crucial for executives and technology leaders who aim to stay competitive in a rapidly evolving market.\n",
      "Here are five key generative AI tr\n"
     ]
    }
   ],
   "source": [
    "# Loading the text data\n",
    "from langchain_community.document_loaders import TextLoader\n",
    "\n",
    "# Load news data\n",
    "loader = TextLoader(\"data/01-summary-news.txt\")\n",
    "docs = loader.load()\n",
    "print(f\"Total characters: {len(docs[0].page_content)}\")\n",
    "print(\"\\n========= Preview =========\\n\")\n",
    "print(docs[0].page_content[:500])"
   ]
  },
  {
   "cell_type": "markdown",
   "id": "db46d1cc",
   "metadata": {},
   "source": [
    "The following prompt is designed to generate concise and effective summaries by guiding the language model with clear instructions. "
   ]
  },
  {
   "cell_type": "code",
   "execution_count": 6,
   "id": "c6dcf878",
   "metadata": {},
   "outputs": [
    {
     "name": "stdout",
     "output_type": "stream",
     "text": [
      "Summarize the following text clearly and concisely.\n",
      "\n",
      "When summarizing, keep the following in mind:\n",
      "- Include key events, facts, and critical information.\n",
      "- Omit unnecessary details.\n",
      "- Limit the summary to five sentences.\n",
      "\n",
      "Text to summarize:\n",
      "\u001b[33;1m\u001b[1;3m{context}\u001b[0m\n",
      "\n",
      "Summary:\n"
     ]
    }
   ],
   "source": [
    "from langchain_core.prompts import PromptTemplate\n",
    "\n",
    "prompt = PromptTemplate(\n",
    "    input_variables=[\"context\"],\n",
    "    template=(\n",
    "        \"Summarize the following text clearly and concisely.\\n\\n\"\n",
    "        \"When summarizing, keep the following in mind:\\n\"\n",
    "        \"- Include key events, facts, and critical information.\\n\"\n",
    "        \"- Omit unnecessary details.\\n\"\n",
    "        \"- Limit the summary to five sentences.\\n\\n\"\n",
    "        \"Text to summarize:\\n{context}\\n\\n\"\n",
    "        \"Summary:\"\n",
    "        )\n",
    "    )\n",
    "prompt.pretty_print()"
   ]
  },
  {
   "cell_type": "markdown",
   "id": "79ab571e",
   "metadata": {},
   "source": [
    "The following function can be used for streaming token output, useful for callback handling when working with LLMs.\n",
    "* A **callback** is a mechanism that allows specific actions to be executed each time a new token is generated by the LLM. This can be useful for streaming token outputs in real-time."
   ]
  },
  {
   "cell_type": "code",
   "execution_count": 7,
   "id": "6e566ae0",
   "metadata": {},
   "outputs": [],
   "source": [
    "from langchain_core.callbacks import BaseCallbackHandler\n",
    "\n",
    "class StreamingCallback(BaseCallbackHandler):\n",
    "    def __init__(self):\n",
    "        self.buffer = \"\"  # Initialize sentence buffer\n",
    "\n",
    "    def on_llm_new_token(self, token: str, **kwargs) -> None:\n",
    "        self.buffer += token\n",
    "        if token in {\".\", \"!\", \"?\"}:  # Print only when a sentence-ending character appears\n",
    "            print(self.buffer.strip())\n",
    "            self.buffer = \"\"  # Clear the buffer\n"
   ]
  },
  {
   "cell_type": "code",
   "execution_count": 8,
   "id": "cebce2c0",
   "metadata": {},
   "outputs": [
    {
     "name": "stdout",
     "output_type": "stream",
     "text": [
      "Generative AI is set to become a fundamental component of enterprise applications by 2025, enhancing operational efficiency and innovation.\n",
      "Key trends include the shift from AI-infused to AI-first applications, where AI is integral to application design, and the emergence of service as software, allowing AI agents to automate tasks traditionally performed by humans.\n",
      "Real-time interaction and speech integration will improve user experiences, enabling more natural communication with AI agents.\n",
      "Additionally, generative user interfaces will create dynamic, personalized interactions, while the integration of AI agents into enterprise workflows will replace retrieval-augmented generation, leading to more accurate and relevant outcomes.\n",
      "These developments will significantly impact how organizations implement technology and manage internal processes.\n"
     ]
    }
   ],
   "source": [
    "from langchain_openai import ChatOpenAI\n",
    "from langchain.chains.combine_documents import create_stuff_documents_chain\n",
    "\n",
    "# Initialize the OpenAI object.\n",
    "llm = ChatOpenAI(\n",
    "    model_name=\"gpt-4o-mini\",\n",
    "    streaming=True,\n",
    "    temperature=0,\n",
    "    callbacks=[StreamingCallback()],\n",
    ")\n",
    "\n",
    "# Create a \"stuff\" document chain.\n",
    "# This chain inserts all documents into the prompt and sends it to the LLM.\n",
    "stuff_chain = create_stuff_documents_chain(llm, prompt)\n",
    "\n",
    "# Execute the chain\n",
    "answer = stuff_chain.invoke({\"context\": docs})"
   ]
  },
  {
   "cell_type": "markdown",
   "id": "af0d63d3",
   "metadata": {},
   "source": [
    "## Map-Reduce\n",
    "\n",
    "Map-reduce summarization is an effective technique for condensing lengthy documents. This method involves two primary stages:\n",
    "\n",
    "1. **Map Stage**: The document is divided into smaller chunks, each of which is summarized independently.\n",
    "\n",
    "2. **Reduce Stage**: The individual summaries are then combined to form a cohesive final summary.\n",
    "\n",
    "This approach is particularly advantageous when dealing with extensive documents, as it allows for parallel processing of chunks during the map stage, thereby enhancing efficiency. Additionally, it helps circumvent the token limitations inherent in language models by ensuring that each chunk fits within the model's context window.\n",
    "\n",
    "<img src=\"./assets/01-summary-summarization-use-case-1.png\" alt=\"rag-flow\" width=\"1000\">\n",
    "\n",
    "* source: https://python.langchain.com/v0.2/docs/tutorials/summarization/\n",
    "\n",
    "이 장에서는 (map -reduce)에서는 Artificial Intelligence Index Report.pdf\"를 활용해서 Map 단계, Reduce 단계를 진행해보겠습니다. "
   ]
  },
  {
   "cell_type": "markdown",
   "id": "2f6f0cce",
   "metadata": {},
   "source": [
    "Load the downloaded data"
   ]
  },
  {
   "cell_type": "code",
   "execution_count": 9,
   "id": "e796269b",
   "metadata": {},
   "outputs": [
    {
     "name": "stdout",
     "output_type": "stream",
     "text": [
      "Total number of pages: 5\n"
     ]
    }
   ],
   "source": [
    "from langchain_community.document_loaders import PyPDFLoader\n",
    "\n",
    "# Load the PDF file using PyPDFLoader\n",
    "loader = PyPDFLoader(\"data/Artificial Intelligence Index Report.pdf\")\n",
    "\n",
    "# load the document\n",
    "docs = loader.load()\n",
    "docs = docs[3:8]  # Select only a portion of the document for summarization(pages 3 to 8))\n",
    "\n",
    "print(f\"Total number of pages: {len(docs)}\")"
   ]
  },
  {
   "cell_type": "markdown",
   "id": "0a790030",
   "metadata": {},
   "source": [
    "### Map Stage\n",
    "\n",
    "During the map stage, each chunk is typically processed by generating a summary.\n",
    "\n",
    "While the standard approach involves summarizing the content of each chunk, an alternative method is to extract key information instead. \n",
    "Since the reduce stage ultimately combines the outputs into a final summary, both approaches can be effective with minimal impact on the final result.\n",
    "\n",
    "The choice between summarization and key information extraction during the map stage can be adjusted based on the specific goals and requirements of the task."
   ]
  },
  {
   "cell_type": "code",
   "execution_count": 10,
   "id": "f665b4e7",
   "metadata": {},
   "outputs": [
    {
     "name": "stdout",
     "output_type": "stream",
     "text": [
      "================================\u001b[1m System Message \u001b[0m================================\n",
      "\n",
      "You are a professional main thesis extractor.\n",
      "\n",
      "================================\u001b[1m Human Message \u001b[0m=================================\n",
      "\n",
      "Your task is to extract main thesis from given documents. Answer should be in same language as given document. \n",
      "\n",
      "#Format: \n",
      "- thesis 1\n",
      "- thesis 2\n",
      "- thesis 3\n",
      "- ...\n",
      "\n",
      "Here is a given document: \n",
      "\u001b[33;1m\u001b[1;3m{doc}\u001b[0m\n",
      "\n",
      "Write 1~5 sentences.\n",
      "#Answer:\n"
     ]
    }
   ],
   "source": [
    "from langchain import hub\n",
    "from langchain_openai import ChatOpenAI\n",
    "from langchain_core.output_parsers import StrOutputParser\n",
    "\n",
    "# initialize the model\n",
    "llm = ChatOpenAI(\n",
    "    temperature=0,\n",
    "    model_name=\"gpt-4o-mini\",\n",
    ")\n",
    "\n",
    "# Download the map prompt from the LangChain hub\n",
    "map_prompt = hub.pull(\"teddynote/map-prompt\")\n",
    "\n",
    "# print the content of the prompt\n",
    "map_prompt.pretty_print()"
   ]
  },
  {
   "cell_type": "code",
   "execution_count": 11,
   "id": "d7e8200d",
   "metadata": {},
   "outputs": [],
   "source": [
    "# Create the map chain\n",
    "map_chain = map_prompt | llm | StrOutputParser()"
   ]
  },
  {
   "cell_type": "markdown",
   "id": "52f07bcb",
   "metadata": {},
   "source": [
    "Generate summaries for each document using `batch()` processing"
   ]
  },
  {
   "cell_type": "code",
   "execution_count": 12,
   "id": "98913c63",
   "metadata": {},
   "outputs": [],
   "source": [
    "# 문서에 대한 주요내용 추출\n",
    "doc_summaries = map_chain.batch(docs)"
   ]
  },
  {
   "cell_type": "code",
   "execution_count": 13,
   "id": "935f4c4b",
   "metadata": {},
   "outputs": [
    {
     "data": {
      "text/plain": [
       "5"
      ]
     },
     "execution_count": 13,
     "metadata": {},
     "output_type": "execute_result"
    }
   ],
   "source": [
    "# Generate summaries for each document using batch processing\n",
    "len(doc_summaries)"
   ]
  },
  {
   "cell_type": "code",
   "execution_count": 14,
   "id": "76317f3a",
   "metadata": {},
   "outputs": [
    {
     "name": "stdout",
     "output_type": "stream",
     "text": [
      "- A pesar de la disminución de la inversión privada global en inteligencia artificial, la inversión en IA generativa ha aumentado significativamente.  \n",
      "- Las llamadas de ganancias de Fortune 500 han mencionado la IA más que nunca, y estudios recientes indican que la IA mejora tangiblemente la productividad laboral.  \n",
      "- En el ámbito de la política, las menciones de la IA en los procedimientos legislativos han alcanzado niveles récord, y los reguladores de EE. UU. han promulgado más regulaciones relacionadas con la IA en 2023 que en años anteriores.  \n",
      "- Sin embargo, persisten preocupaciones sobre la capacidad de la IA para generar deepfakes y su impacto en las elecciones, lo que ha llevado a un aumento en la conciencia pública y una respuesta de nerviosismo.\n"
     ]
    }
   ],
   "source": [
    "# Display the summary of the first document\n",
    "print(doc_summaries[0])"
   ]
  },
  {
   "cell_type": "markdown",
   "id": "f2bf1fe4",
   "metadata": {},
   "source": [
    "### Reduce Stage\n",
    "To create a **Reduce Chain**, the results generated during the **map** stage are further processed to combine and refine them into a final cohesive summary. Here's an example of how to create a Reduce Chain using LangChain:"
   ]
  },
  {
   "cell_type": "code",
   "execution_count": 15,
   "id": "1b3642d5",
   "metadata": {},
   "outputs": [
    {
     "name": "stdout",
     "output_type": "stream",
     "text": [
      "================================\u001b[1m System Message \u001b[0m================================\n",
      "\n",
      "You are a professional summarizer. You are given a list of summaries of documents and you are asked to create a single summary of the documents.\n",
      "\n",
      "================================\u001b[1m Human Message \u001b[0m=================================\n",
      "\n",
      "#Instructions: \n",
      "1. Extract main points from a list of summaries of documents\n",
      "2. Make final summaries in bullet points format.\n",
      "3. Answer should be written in \u001b[33;1m\u001b[1;3m{language}\u001b[0m.\n",
      "\n",
      "#Format: \n",
      "- summary 1\n",
      "- summary 2\n",
      "- summary 3\n",
      "- ...\n",
      "\n",
      "Here is a list of summaries of documents: \n",
      "\u001b[33;1m\u001b[1;3m{doc_summaries}\u001b[0m\n",
      "\n",
      "#SUMMARY:\n"
     ]
    }
   ],
   "source": [
    "from langchain import hub\n",
    "from langchain_openai import ChatOpenAI\n",
    "from langchain_core.output_parsers import StrOutputParser\n",
    "\n",
    "# Initialize the language model\n",
    "llm = ChatOpenAI(temperature=0, model_name=\"gpt-4o-mini\")\n",
    "\n",
    "# Load the reduce prompt from the LangChain hub\n",
    "reduce_prompt = hub.pull(\"teddynote/reduce-prompt\")\n",
    "\n",
    "reduce_prompt.pretty_print()"
   ]
  },
  {
   "cell_type": "code",
   "execution_count": 16,
   "id": "66aa0eed",
   "metadata": {},
   "outputs": [],
   "source": [
    "# Create the reduce chain by combining the reduce prompt, LLM, and output parser\n",
    "reduce_chain = reduce_prompt | llm | StrOutputParser()"
   ]
  },
  {
   "cell_type": "code",
   "execution_count": 18,
   "id": "397eed2e",
   "metadata": {},
   "outputs": [
    {
     "name": "stdout",
     "output_type": "stream",
     "text": [
      "- Global investment in generative AI is rising despite a decline in overall private investment in AI.\n",
      "- Fortune 500 earnings calls are increasingly mentioning AI, which is shown to enhance workplace productivity.\n",
      "- Legislative discussions around AI have reached record levels, with the U.S. implementing more AI-related regulations in 2023 than in previous years.\n",
      "- Concerns about AI-generated deepfakes and their electoral impact are growing, leading to heightened public awareness and anxiety.\n",
      "- AI has outperformed humans in specific benchmarks but still faces challenges with complex tasks.\n",
      "- Industry is the main driver of advanced AI research, significantly outpacing academic contributions.\n",
      "- The costs associated with training cutting-edge AI models have surged to unprecedented levels.\n",
      "- The U.S. leads in producing significant AI models, far ahead of China and the EU.\n",
      "- There is a notable lack of standardized evaluations for responsible AI, complicating risk assessments among different models.\n",
      "- AI is accelerating scientific advancements, particularly in algorithmic sorting and materials discovery in 2023.\n",
      "- The number of AI regulations in the U.S. has dramatically increased, with 25 regulations in 2023 compared to just one in 2016.\n",
      "- Global awareness of AI's potential impact is growing, with more people believing it will significantly affect their lives, alongside increasing apprehension towards AI technologies.\n",
      "- The AI Index Report 2024 includes contributions from a diverse Steering Committee and affiliated researchers from various prestigious institutions.\n",
      "- The report emphasizes collaboration among researchers and students in the AI field and is supported by raw data and an interactive tool for exploring AI vibrancy globally.\n",
      "- The report's writing process involved both human researchers and AI tools, showcasing the integration of AI in research methodologies.\n",
      "- The AI Index team encourages feedback and new ideas for future reports, highlighting their commitment to ongoing improvement."
     ]
    }
   ],
   "source": [
    "# streaming using Reduce Chain\n",
    "answer = reduce_chain.stream(\n",
    "    {\"doc_summaries\": \"\\n\".join(doc_summaries), # Combine summaries into a single string\n",
    "     \"language\": \"English\"}\n",
    ")\n",
    "for chunk in answer:\n",
    "    print(chunk, end=\"\", flush = True)"
   ]
  },
  {
   "cell_type": "markdown",
   "id": "0145eec4",
   "metadata": {},
   "source": [
    "**Full Implementation of the Map-Reduce Chain**\n",
    "\n",
    "The following code combines both the map and reduce stages for summarizing documents using LangChain. "
   ]
  },
  {
   "cell_type": "code",
   "execution_count": 23,
   "id": "7c060863",
   "metadata": {},
   "outputs": [],
   "source": [
    "from langchain_core.runnables import chain\n",
    "from langchain_openai import ChatOpenAI\n",
    "from langchain import hub\n",
    "from langchain_core.output_parsers import StrOutputParser\n",
    "\n",
    "@chain\n",
    "def map_reduce_chain(docs):\n",
    "    # Initialize the language model for the map stage\n",
    "    map_llm = ChatOpenAI(\n",
    "        temperature=0,\n",
    "        model_name=\"gpt-4o-mini\",\n",
    "    )\n",
    "\n",
    "    # Load the map prompt from the LangChain hub\n",
    "    map_prompt = hub.pull(\"teddynote/map-prompt\")\n",
    "\n",
    "    # Create the map chain by combining the prompt, LLM, and output parser\n",
    "    map_chain = map_prompt | map_llm | StrOutputParser()\n",
    "\n",
    "    # Generate summaries for each document using batch processing\n",
    "    doc_summaries = map_chain.batch(docs)\n",
    "\n",
    "    # Load the reduce prompt from the LangChain hub\n",
    "    reduce_prompt = hub.pull(\"teddynote/reduce-prompt\")\n",
    "\n",
    "    # Initialize the language model for the reduce stage with streaming enabled\n",
    "    reduce_llm = ChatOpenAI(\n",
    "        model_name=\"gpt-4o\",\n",
    "        temperature=0,\n",
    "        callbacks=[StreamingCallback()],\n",
    "        streaming=True,\n",
    "    )\n",
    "\n",
    "    # Create the reduce chain to combine document summaries into a final summary\n",
    "    reduce_chain = reduce_prompt | reduce_llm | StrOutputParser()\n",
    "\n",
    "    # Return the final summary by combining all document summaries\n",
    "    return reduce_chain.invoke(\n",
    "        {\"doc_summaries\": \"\\n\".join(doc_summaries), \"language\": \"English\"}\n",
    "    )\n"
   ]
  },
  {
   "cell_type": "code",
   "execution_count": 24,
   "id": "e31de2a6",
   "metadata": {},
   "outputs": [
    {
     "name": "stdout",
     "output_type": "stream",
     "text": [
      "- Despite a global decline in private investment in AI, investment in generative AI has significantly increased.\n",
      "- Mentions of AI in Fortune 500 earnings calls have reached an all-time high, with studies showing AI's tangible improvements in labor productivity.\n",
      "- Legislative mentions of AI have hit record levels, with the U.S.\n",
      "enacting more AI-related regulations in 2023 than in previous years.\n",
      "- Concerns persist about AI's ability to create deepfakes and its potential impact on elections, leading to increased public awareness and nervousness.\n",
      "- AI has surpassed human performance in certain benchmarks but struggles with complex tasks, with industry leading frontier AI research over academia.\n",
      "- Training costs for state-of-the-art AI models have reached unprecedented levels, with the U.S.\n",
      "leading in notable AI model development.\n",
      "- There is a lack of standardized evaluations for responsible AI, complicating risk assessments among models.\n",
      "- AI is accelerating scientific progress, particularly in algorithmic sorting and materials discovery.\n",
      "- The number of AI-related regulations in the U.S.\n",
      "has sharply increased, reflecting significant regulatory growth.\n",
      "- Global awareness of AI's impact is rising, with more people believing it will dramatically affect their lives, alongside growing nervousness towards AI products.\n",
      "- The AI Index 2024 Annual Report by Stanford University provides insights into the current state of AI, supported by raw data and an interactive tool for exploring AI vibrancy across over 30 countries.\n",
      "- The report highlights the collaborative effort of diverse researchers and institutions, and the integration of AI in research and editing workflows.\n"
     ]
    }
   ],
   "source": [
    "# print result\n",
    "answer = map_reduce_chain.invoke(docs)"
   ]
  },
  {
   "cell_type": "markdown",
   "id": "472e5d84",
   "metadata": {},
   "source": [
    "## Map-Refine\n",
    "\n",
    "The **Map-Refine** method is another approach for document summarization, similar to **Map-Reduce** but with some key differences in how summaries are processed and combined. \n",
    "\n",
    "1. **Map Stage:**\n",
    "   - The document is divided into multiple smaller chunks.\n",
    "   - Each chunk is independently summarized.\n",
    "\n",
    "2. **Refine Stage:**\n",
    "   - The generated summaries are processed sequentially.\n",
    "   - In each iteration, the previous summary is combined with the next chunk's information to update and refine the summary.\n",
    "\n",
    "3. **Iterative Process:**\n",
    "   - The refine stage continues iteratively until all chunks have been processed.\n",
    "   - Each iteration enhances the summary by incorporating more information while retaining previously captured details.\n",
    "\n",
    "4. **Final Summary:**\n",
    "   - Once all chunks have been processed, the final summary is obtained after the last refinement step.\n",
    "\n",
    "**Key Advantages:**\n",
    "\n",
    "- Maintains Document Order: This method preserves the original order of the document, making it particularly useful for content where sequence matters.\n",
    "- Contextual Refinement: Each step progressively improves the summary, making it ideal for content where a gradual build-up of context is necessary.\n",
    "\n",
    "**Limitations:**\n",
    "- Sequential Processing: The refine stage requires sequential steps, making parallelization difficult.\n",
    "- Time-Consuming: Due to its non-parallel nature, it can be slower compared to **Map-Reduce**, especially for large datasets.\n",
    "\n",
    "**Use Cases:**\n",
    "- Processing technical manuals or research papers where context builds across sections.\n",
    "- Summarizing meeting transcripts where events unfold in chronological order.\n",
    "\n",
    "\n",
    "<img src=\"./assets/01-summary-summarization-use-case-2.png\" alt=\"rag-flow\" width=\"1000\">\n",
    "\n",
    "* source: https://python.langchain.com/v0.2/docs/tutorials/summarization/"
   ]
  },
  {
   "cell_type": "markdown",
   "id": "33c83b1d",
   "metadata": {},
   "source": [
    "### Map Stage\n",
    "\n",
    "During the **map stage**, a summary is generated for each individual chunk of the document. This step involves processing the content of each chunk separately, ensuring that key information from every section is captured independently before moving on to the next stage."
   ]
  },
  {
   "cell_type": "code",
   "execution_count": 25,
   "id": "4e70abc7",
   "metadata": {},
   "outputs": [
    {
     "name": "stdout",
     "output_type": "stream",
     "text": [
      "================================\u001b[1m System Message \u001b[0m================================\n",
      "\n",
      "You are an expert summarizer. Your task is to summarize the following document in \u001b[33;1m\u001b[1;3m{language}\u001b[0m.\n",
      "\n",
      "================================\u001b[1m Human Message \u001b[0m=================================\n",
      "\n",
      "Extract most important main thesis from the documents, then summarize in bullet points.\n",
      "\n",
      "#Format:\n",
      "- summary 1\n",
      "- summary 2\n",
      "- summary 3\n",
      "-...\n",
      "\n",
      "Here is a given document: \n",
      "\u001b[33;1m\u001b[1;3m{documents}\u001b[0m\n",
      "\n",
      "Write 1~5 sentences. Think step by step.\n",
      "#Summary:\n"
     ]
    }
   ],
   "source": [
    "from langchain import hub\n",
    "from langchain_openai import ChatOpenAI\n",
    "from langchain_core.output_parsers import StrOutputParser\n",
    "\n",
    "# Create map llm \n",
    "map_llm = ChatOpenAI(\n",
    "    temperature=0,\n",
    "    model_name=\"gpt-4o-mini\",\n",
    ")\n",
    "\n",
    "# Create map chain \n",
    "map_summary = hub.pull(\"teddynote/map-summary-prompt\")\n",
    "\n",
    "# print prompt\n",
    "map_summary.pretty_print()"
   ]
  },
  {
   "cell_type": "code",
   "execution_count": 27,
   "id": "dc1f58db",
   "metadata": {},
   "outputs": [],
   "source": [
    "# Create map_chain\n",
    "map_chain = map_summary | llm | StrOutputParser()"
   ]
  },
  {
   "cell_type": "code",
   "execution_count": 56,
   "id": "b6f61f4e",
   "metadata": {},
   "outputs": [
    {
     "name": "stdout",
     "output_type": "stream",
     "text": [
      "- The document is the \"Artificial Intelligence Index Report 2024,\" which likely provides insights and analysis on the current state of artificial intelligence.\n",
      "- It may include data on AI trends, advancements, and impacts across various sectors.\n",
      "- The report could also discuss challenges and ethical considerations related to AI development and deployment.\n",
      "- It aims to inform stakeholders about the evolving landscape of artificial intelligence and its implications for society.\n"
     ]
    }
   ],
   "source": [
    "# Print the Summary of the First Document\n",
    "print(map_chain.invoke({\"documents\": docs[0], \"language\": \"English\"}))"
   ]
  },
  {
   "cell_type": "code",
   "execution_count": 29,
   "id": "6220830c",
   "metadata": {},
   "outputs": [],
   "source": [
    "# Define all documents as input\n",
    "input_doc = [{\"documents\": doc, \"language\": \"English\"} for doc in docs]"
   ]
  },
  {
   "cell_type": "code",
   "execution_count": 30,
   "id": "e6804299",
   "metadata": {},
   "outputs": [
    {
     "data": {
      "text/plain": [
       "[{'documents': Document(metadata={'source': 'data/Artificial Intelligence Index Report.pdf', 'page': 3}, page_content='Artificial Intelligence\\nIndex Report 20244Although global private investment in AI decreased for the second consecutive year, investment in generative \\nAI skyrocketed. More Fortune 500 earnings calls mentioned AI than ever before, and new studies show that AI \\ntangibly boosts worker productivity. On the policymaking front, global mentions of AI in legislative proceedings \\nhave never been higher. U.S. regulators passed more AI-related regulations in 2023 than ever before. Still, many \\nexpressed concerns about AI’s ability to generate deepfakes and impact elections. The public became more \\naware of AI, and studies suggest that they responded with nervousness.\\nRay Perrault and Jack Clark\\nCo-directors, AI IndexMessage From the  \\nCo-directors (cont’d)'),\n",
       "  'language': 'English'},\n",
       " {'documents': Document(metadata={'source': 'data/Artificial Intelligence Index Report.pdf', 'page': 4}, page_content='Artificial Intelligence\\nIndex Report 20245Top 10 Takeaways\\n1. AI beats humans on some tasks, but not on all. AI has surpassed human performance on several \\nbenchmarks, including some in image classification, visual reasoning, and English understanding. Yet it trails \\nbehind on more complex tasks like competition-level mathematics, visual commonsense reasoning and planning.\\n2. Industry continues to dominate frontier AI research.  In 2023, industry produced 51 notable \\nmachine learning models, while academia contributed only 15. There were also 21 notable models resulting from \\nindustry-academia collaborations in 2023, a new high.\\n3. Frontier models get way more expensive. According to AI Index estimates, the training costs \\nof state-of-the-art AI models have reached unprecedented levels. For example, OpenAI’s GPT-4 used an \\nestimated $78 million worth of compute to train, while Google’s Gemini Ultra cost $191 million for compute.\\n4. The United States leads China, the EU, and the U.K. as the leading source of top AI \\nmodels. In 2023, 61 notable AI models originated from U.S.-based institutions, far outpacing the European \\nUnion’s 21 and China’s 15. \\n5. Robust and standardized evaluations for LLM responsibility are seriously lacking.  \\nNew research from the AI Index reveals a significant lack of standardization in responsible AI reporting.  \\nLeading developers, including OpenAI, Google, and Anthropic, primarily test their models against different \\nresponsible AI benchmarks. This practice complicates efforts to systematically compare the risks and  \\nlimitations of top AI models.\\n6. Generative AI investment skyrockets.  Despite a decline in overall AI private investment last \\nyear, funding for generative AI surged, nearly octupling from 2022 to reach $25.2 billion. Major players in \\nthe generative AI space, including OpenAI, Anthropic, Hugging Face, and Inflection, reported substantial \\nfundraising rounds.\\n7 . The data is in: AI makes workers more productive and leads to higher quality work. In \\n2023, several studies assessed AI’s impact on labor, suggesting that AI enables workers to complete tasks more \\nquickly and to improve the quality of their output. These studies also demonstrated AI’s potential to bridge \\nthe skill gap between low- and high-skilled workers. Still, other studies caution that using AI without proper \\noversight can lead to diminished performance. \\n5'),\n",
       "  'language': 'English'},\n",
       " {'documents': Document(metadata={'source': 'data/Artificial Intelligence Index Report.pdf', 'page': 5}, page_content='Artificial Intelligence\\nIndex Report 20246Top 10 Takeaways (cont’d)  \\n8. Scientific progress accelerates even further, thanks to AI. In 2022, AI began to advance \\nscientific discovery. 2023, however, saw the launch of even more significant science-related AI applications—\\nfrom AlphaDev, which makes algorithmic sorting more efficient, to GNoME, which facilitates the process of \\nmaterials discovery.\\n9. The number of AI regulations in the United States sharply increases. The number of AI-\\nrelated regulations in the U.S. has risen significantly in the past year and over the last five years. In 2023, there \\nwere 25 AI-related regulations, up from just one in 2016. Last year alone, the total number of AI-related regulations \\ngrew by 56.3%.\\n10. People across the globe are more cognizant of AI’s potential impact—and more nervous. \\nA survey from Ipsos shows that, over the last year, the proportion of those who think AI will dramatically affect their \\nlives in the next three to five years has increased from 60% to 66%. Moreover, 52% express nervousness toward AI \\nproducts and services, marking a 13 percentage point rise from 2022. In America, Pew data suggests that 52% of \\nAmericans report feeling more concerned than excited about AI, rising from 37% in 2022.'),\n",
       "  'language': 'English'},\n",
       " {'documents': Document(metadata={'source': 'data/Artificial Intelligence Index Report.pdf', 'page': 6}, page_content='Artificial Intelligence\\nIndex Report 20247Steering Committee\\nStaff and ResearchersCo-directors\\nMembersJack Clark, Anthropic, OECD\\nRaymond Perrault, SRI International\\nErik Brynjolfsson, Stanford University\\nJohn Etchemendy, Stanford University\\nKatrina Ligett, Hebrew University\\nTerah Lyons, JPMorgan Chase & Co.\\nJames Manyika, Google, University of OxfordJuan Carlos Niebles, Stanford University, Salesforce\\nVanessa Parli, Stanford University\\nYoav Shoham, Stanford University, AI21 Labs\\nRussell Wald, Stanford University\\nResearch Manager and Editor in Chief\\nResearch Associate\\nAffiliated Researchers\\nGraduate ResearchersNestor Maslej\\nStanford University\\nLoredana Fattorini\\nStanford University\\nEmily Capstick, Stanford University\\nJames da Costa, Stanford University\\nSimba Jonga, Stanford UniversityElif Kiesow Cortez, Stanford Law School Research Fellow\\nAnka Reuel, Stanford University\\nRobi Rahman, Data ScientistAlexandra Rome, Freelance Researcher\\nLapo Santarlasci, IMT School for  \\nAdvanced Studies Lucca\\nUndergraduate Researchers\\nSummer Flowers, Stanford University\\nArmin Hamrah, Claremont McKenna College\\nAmelia Hardy, Stanford University\\nMena Hassan, Stanford University\\nEthan Duncan He-Li Hellman, Stanford University\\nJulia Betts Lotufo, Stanford UniversitySukrut Oak, Stanford University\\nAndrew Shi, Stanford University\\nJason Shin, Stanford University\\nEmma Williamson, Stanford University\\nAlfred Yu, Stanford University'),\n",
       "  'language': 'English'},\n",
       " {'documents': Document(metadata={'source': 'data/Artificial Intelligence Index Report.pdf', 'page': 7}, page_content='Artificial Intelligence\\nIndex Report 20248How to Cite This Report\\nPublic Data and Tools\\nAI Index and Stanford HAINestor Maslej, Loredana Fattorini, Raymond Perrault, Vanessa Parli, Anka Reuel, Erik Brynjolfsson, John Etchemendy, \\nKatrina Ligett, Terah Lyons, James Manyika, Juan Carlos Niebles, Yoav Shoham, Russell Wald, and Jack Clark,  \\n“The AI Index 2024 Annual Report,” AI Index Steering Committee, Institute for Human-Centered AI, Stanford \\nUniversity, Stanford, CA, April 2024. \\nThe AI Index 2024 Annual Report by Stanford University is licensed under Attribution-NoDerivatives 4.0 International.\\nThe AI Index 2024 Report is supplemented by raw data and an interactive tool. We invite each reader to use the \\ndata and the tool in a way most relevant to their work and interests.\\n •  Raw data and charts: The public data and high-resolution images of all the charts in the report are \\navailable on Google Drive.\\n •  Global AI Vibrancy Tool: Compare the AI ecosystems of over 30 countries. The Global AI Vibrancy tool \\nwill be updated in the summer of 2024.\\nThe AI Index is an independent initiative at the Stanford Institute for Human-Centered Artificial Intelligence (HAI).\\nThe AI Index was conceived within the One Hundred Year Study on Artificial Intelligence (AI100). \\nThe AI Index welcomes feedback and new ideas for next year. Contact us at AI-Index-Report@stanford.edu.\\nThe AI Index acknowledges that while authored by a team of human researchers, its writing process was aided  \\nby AI tools. Specifically, the authors used ChatGPT and Claude to help tighten and copy edit initial drafts.  \\nThe workflow involved authors writing the original copy, then utilizing AI tools as part of the editing process.'),\n",
       "  'language': 'English'}]"
      ]
     },
     "execution_count": 30,
     "metadata": {},
     "output_type": "execute_result"
    }
   ],
   "source": [
    "input_doc"
   ]
  },
  {
   "cell_type": "code",
   "execution_count": null,
   "id": "22e847c7",
   "metadata": {},
   "outputs": [],
   "source": [
    "# Print Summaries for All Documents\n",
    "print(map_chain.batch(input_doc))"
   ]
  },
  {
   "cell_type": "markdown",
   "id": "5ac15984",
   "metadata": {},
   "source": [
    "### Refine Stage\n",
    "\n",
    "During the **refine stage**, the chunks generated in the previous map stage are processed sequentially, progressively improving the final summary with each iteration. The summary is updated by combining the information from the previous summary with the next chunk, ensuring a more comprehensive and contextually accurate final result."
   ]
  },
  {
   "cell_type": "code",
   "execution_count": 31,
   "id": "8679bd44",
   "metadata": {},
   "outputs": [
    {
     "name": "stdout",
     "output_type": "stream",
     "text": [
      "================================\u001b[1m System Message \u001b[0m================================\n",
      "\n",
      "You are an expert summarizer.\n",
      "\n",
      "================================\u001b[1m Human Message \u001b[0m=================================\n",
      "\n",
      "Your job is to produce a final summary\n",
      "\n",
      "We have provided an existing summary up to a certain point:\n",
      "\u001b[33;1m\u001b[1;3m{previous_summary}\u001b[0m\n",
      "\n",
      "We have the opportunity to refine the existing summary(only if needed) with some more context below.\n",
      "------------\n",
      "\u001b[33;1m\u001b[1;3m{current_summary}\u001b[0m\n",
      "------------\n",
      "Given the new context, refine the original summary in \u001b[33;1m\u001b[1;3m{language}\u001b[0m.\n",
      "If the context isn't useful, return the original summary.\n"
     ]
    }
   ],
   "source": [
    "# Downlod refine prompt \n",
    "refine_prompt = hub.pull(\"teddynote/refine-prompt\")\n",
    "\n",
    "# print the prompt\n",
    "refine_prompt.pretty_print()"
   ]
  },
  {
   "cell_type": "code",
   "execution_count": 32,
   "id": "97282d5f",
   "metadata": {},
   "outputs": [],
   "source": [
    "refine_llm = ChatOpenAI(\n",
    "    temperature=0,\n",
    "    model_name=\"gpt-4o-mini\",\n",
    ")\n",
    "\n",
    "# create refine chain\n",
    "refine_chain = refine_prompt | refine_llm | StrOutputParser()"
   ]
  },
  {
   "cell_type": "markdown",
   "id": "c09e3467",
   "metadata": {},
   "source": [
    "The following code demonstrates how to create a `map_refine_chain` that combines both the map and refine stages into a single, streamlined process for document summarization."
   ]
  },
  {
   "cell_type": "code",
   "execution_count": 37,
   "id": "2bcb389f",
   "metadata": {},
   "outputs": [],
   "source": [
    "from langchain_core.runnables import chain\n",
    "from langchain import hub\n",
    "from langchain_openai import ChatOpenAI\n",
    "from langchain_core.output_parsers import StrOutputParser\n",
    "\n",
    "@chain\n",
    "def map_refine_chain(docs):\n",
    "    # Initialize the map chain components\n",
    "    map_summary = hub.pull(\"teddynote/map-summary-prompt\")\n",
    "\n",
    "    # Create the map chain with prompt, LLM, and output parser\n",
    "    map_chain = (\n",
    "        map_summary\n",
    "        | ChatOpenAI(\n",
    "            model_name=\"gpt-4o-mini\",\n",
    "            temperature=0,\n",
    "        )\n",
    "        | StrOutputParser()\n",
    "    )\n",
    "\n",
    "    # Prepare the input documents for processing with language specification\n",
    "    input_doc = [{\"documents\": doc.page_content, \"language\": \"English\"} for doc in docs]\n",
    "\n",
    "    # Generate initial summaries using the map chain in batch processing\n",
    "    doc_summaries = map_chain.batch(input_doc)\n",
    "\n",
    "    # Initialize the refine chain components\n",
    "    refine_prompt = hub.pull(\"teddynote/refine-prompt\")\n",
    "    refine_llm = ChatOpenAI(\n",
    "        model_name=\"gpt-4o-mini\",\n",
    "        temperature=0,\n",
    "        callbacks=[StreamingCallback()],\n",
    "        streaming=True,\n",
    "    )\n",
    "\n",
    "    # Create the refine chain\n",
    "    refine_chain = refine_prompt | refine_llm | StrOutputParser()\n",
    "\n",
    "    # Set the first summary as the initial point for refinement\n",
    "    previous_summary = doc_summaries[0]\n",
    "\n",
    "    # Sequentially refine the summary using the refine chain\n",
    "    for current_summary in doc_summaries[1:]:\n",
    "        previous_summary = refine_chain.invoke(\n",
    "            {\n",
    "                \"previous_summary\": previous_summary,\n",
    "                \"current_summary\": current_summary,\n",
    "                \"language\": \"English\",\n",
    "            }\n",
    "        )\n",
    "        # Separating output for clarity during the iteration\n",
    "        print(\"\\n\\n-----------------\\n\\n\")\n",
    "\n",
    "    # Return the final refined summary\n",
    "    return previous_summary"
   ]
  },
  {
   "cell_type": "code",
   "execution_count": 38,
   "id": "265fc54d",
   "metadata": {},
   "outputs": [
    {
     "name": "stdout",
     "output_type": "stream",
     "text": [
      "Global private investment in AI has decreased for the second consecutive year, although investment in generative AI has seen a significant increase.\n",
      "There has been a record number of mentions of AI in Fortune 500 earnings calls and legislative proceedings, reflecting heightened interest and awareness.\n",
      "In 2023, U.S.\n",
      "regulators enacted more AI-related regulations than in previous years, driven by concerns over AI's potential to create deepfakes and influence elections.\n",
      "While public awareness of AI has grown, it has also led to increased anxiety about its implications.\n",
      "\n",
      "AI has demonstrated superior performance in specific tasks such as image classification and language understanding, but it continues to struggle with complex challenges like advanced mathematics and visual reasoning.\n",
      "The majority of significant AI research is industry-driven, with 51 notable machine learning models developed by companies compared to only 15 from academia in 2023.\n",
      "The costs of training cutting-edge AI models have surged, with estimates indicating that models like OpenAI's GPT-4 and Google's Gemini Ultra cost $78 million and $191 million, respectively.\n",
      "The U.S.\n",
      "remains the leading source of top AI models, producing 61 notable models in 2023, far ahead of the EU and China.\n",
      "However, there is a critical lack of standardized evaluations for responsible AI, complicating the comparison of risks and limitations across different models.\n",
      "\n",
      "\n",
      "-----------------\n",
      "\n",
      "\n",
      "Global private investment in AI has decreased for the second consecutive year, although investment in generative AI has seen a significant increase.\n",
      "There has been a record number of mentions of AI in Fortune 500 earnings calls and legislative proceedings, reflecting heightened interest and awareness.\n",
      "In 2023, U.S.\n",
      "regulators enacted more AI-related regulations than in previous years, driven by concerns over AI's potential to create deepfakes and influence elections.\n",
      "The number of AI-related regulations in the U.S.\n",
      "surged from one in 2016 to 25 in 2023, with a 56.\n",
      "3% growth in the past year alone.\n",
      "While public awareness of AI has grown, with 66% of people believing it will dramatically affect their lives in the next few years, it has also led to increased anxiety, as 52% express nervousness towards AI products and services.\n",
      "\n",
      "AI has demonstrated superior performance in specific tasks such as image classification and language understanding, but it continues to struggle with complex challenges like advanced mathematics and visual reasoning.\n",
      "The majority of significant AI research is industry-driven, with 51 notable machine learning models developed by companies compared to only 15 from academia in 2023.\n",
      "AI is significantly accelerating scientific progress, with notable advancements in applications like AlphaDev and GNoME.\n",
      "The costs of training cutting-edge AI models have surged, with estimates indicating that models like OpenAI's GPT-4 and Google's Gemini Ultra cost $78 million and $191 million, respectively.\n",
      "The U.S.\n",
      "remains the leading source of top AI models, producing 61 notable models in 2023, far ahead of the EU and China.\n",
      "However, there is a critical lack of standardized evaluations for responsible AI, complicating the comparison of risks and limitations across different models.\n",
      "\n",
      "\n",
      "-----------------\n",
      "\n",
      "\n",
      "Global private investment in AI has decreased for the second consecutive year, although investment in generative AI has seen a significant increase.\n",
      "There has been a record number of mentions of AI in Fortune 500 earnings calls and legislative proceedings, reflecting heightened interest and awareness.\n",
      "In 2023, U.S.\n",
      "regulators enacted more AI-related regulations than in previous years, driven by concerns over AI's potential to create deepfakes and influence elections.\n",
      "The number of AI-related regulations in the U.S.\n",
      "surged from one in 2016 to 25 in 2023, with a 56.\n",
      "3% growth in the past year alone.\n",
      "While public awareness of AI has grown, with 66% of people believing it will dramatically affect their lives in the next few years, it has also led to increased anxiety, as 52% express nervousness towards AI products and services.\n",
      "\n",
      "AI has demonstrated superior performance in specific tasks such as image classification and language understanding, but it continues to struggle with complex challenges like advanced mathematics and visual reasoning.\n",
      "The majority of significant AI research is industry-driven, with 51 notable machine learning models developed by companies compared to only 15 from academia in 2023.\n",
      "AI is significantly accelerating scientific progress, with notable advancements in applications like AlphaDev and GNoME.\n",
      "The costs of training cutting-edge AI models have surged, with estimates indicating that models like OpenAI's GPT-4 and Google's Gemini Ultra cost $78 million and $191 million, respectively.\n",
      "The U.S.\n",
      "remains the leading source of top AI models, producing 61 notable models in 2023, far ahead of the EU and China.\n",
      "However, there is a critical lack of standardized evaluations for responsible AI, complicating the comparison of risks and limitations across different models.\n",
      "\n",
      "This report, compiled by a steering committee of experts from prestigious institutions, including Stanford University, Google, and JPMorgan Chase, highlights the collaborative efforts in AI research, involving a diverse group of researchers from graduate to undergraduate levels.\n",
      "The involvement of notable figures in the field underscores a comprehensive approach to addressing AI-related challenges and advancements.\n",
      "\n",
      "\n",
      "-----------------\n",
      "\n",
      "\n",
      "Global private investment in AI has decreased for the second consecutive year, although investment in generative AI has seen a significant increase.\n",
      "The AI Index 2024 Annual Report, produced by Stanford University, highlights a record number of mentions of AI in Fortune 500 earnings calls and legislative proceedings, reflecting heightened interest and awareness.\n",
      "In 2023, U.S.\n",
      "regulators enacted more AI-related regulations than in previous years, driven by concerns over AI's potential to create deepfakes and influence elections.\n",
      "The number of AI-related regulations in the U.S.\n",
      "surged from one in 2016 to 25 in 2023, with a 56.\n",
      "3% growth in the past year alone.\n",
      "While public awareness of AI has grown, with 66% of people believing it will dramatically affect their lives in the next few years, it has also led to increased anxiety, as 52% express nervousness towards AI products and services.\n",
      "\n",
      "AI has demonstrated superior performance in specific tasks such as image classification and language understanding, but it continues to struggle with complex challenges like advanced mathematics and visual reasoning.\n",
      "The majority of significant AI research is industry-driven, with 51 notable machine learning models developed by companies compared to only 15 from academia in 2023.\n",
      "AI is significantly accelerating scientific progress, with notable advancements in applications like AlphaDev and GNoME.\n",
      "The costs of training cutting-edge AI models have surged, with estimates indicating that models like OpenAI's GPT-4 and Google's Gemini Ultra cost $78 million and $191 million, respectively.\n",
      "The U.S.\n",
      "remains the leading source of top AI models, producing 61 notable models in 2023, far ahead of the EU and China.\n",
      "However, there is a critical lack of standardized evaluations for responsible AI, complicating the comparison of risks and limitations across different models.\n",
      "\n",
      "The report, part of an independent initiative at the Stanford Institute for Human-Centered AI and linked to the One Hundred Year Study on Artificial Intelligence (AI100), emphasizes collaborative efforts in AI research, involving a diverse group of researchers from graduate to undergraduate levels.\n",
      "Notable figures in the field underscore a comprehensive approach to addressing AI-related challenges and advancements.\n",
      "The authors utilized AI tools like ChatGPT and Claude to assist in the editing process of the report, and feedback and suggestions for future reports are welcomed by the AI Index team.\n",
      "\n",
      "\n",
      "-----------------\n",
      "\n",
      "\n"
     ]
    }
   ],
   "source": [
    "# Execute the map_refine_chain and generate the final refined summary\n",
    "refined_summary = map_refine_chain.invoke(docs)"
   ]
  },
  {
   "cell_type": "markdown",
   "id": "dd0e2068",
   "metadata": {},
   "source": [
    "## Chain of Density (CoD)\n",
    "\n",
    "- paper: https://arxiv.org/pdf/2309.04269\n",
    "\n",
    "The **Chain of Density (CoD)** prompt is a technique developed to improve summary generation using **GPT-4**.\n",
    "\n",
    "This method begins by generating an initial summary with minimal entities and then progressively incorporates missing key entities without increasing the summary's length. Studies have shown that summaries generated using CoD are more abstract, better at information fusion, and achieve a density similar to human-written summaries compared to standard prompts.\n",
    "\n",
    "1. **Progressive Improvement:**\n",
    "   - CoD generates a simple summary with few entities initially.\n",
    "   - It then gradually enhances the summary by adding important entities step by step.\n",
    "   - During this process, the summary length remains constant while the information density increases, resulting in a summary that is both information-rich and easy to read.\n",
    "\n",
    "2. **Balancing Information Density and Readability:**\n",
    "   - The CoD technique adjusts the information density of summaries, striking an optimal balance between informativeness and readability.\n",
    "   - Research indicates that readers prefer CoD summaries over standard GPT-4 summaries, as they are denser without being overwhelmingly packed with information, closely matching the density of human-written summaries.\n",
    "\n",
    "3. **Enhanced Abstraction and Information Fusion:**\n",
    "   - Summaries generated using CoD tend to be more abstract and excel in information fusion.\n",
    "   - They also reduce the \"lead bias,\" where summaries focus too heavily on the beginning of the original text.\n",
    "   - This contributes to better overall summary quality and readability.\n",
    "\n",
    "The **Chain of Density** approach offers a structured and effective way to improve summary generation, making it particularly useful for tasks requiring concise yet information-rich outputs."
   ]
  },
  {
   "cell_type": "markdown",
   "id": "85d15ad3",
   "metadata": {},
   "source": [
    "[Chain of Density Prompt](https://smith.langchain.com/prompts/chain-of-density-prompt/4582aae0?organizationId=8c9eeb3c-2665-5405-bc50-0767fdf4ca8f)"
   ]
  },
  {
   "cell_type": "markdown",
   "id": "36d2da33",
   "metadata": {},
   "source": [
    "**Input Parameter**\n",
    "\n",
    "- `content_category` : The type of content being summarized (e.g., article, video transcript, blog post, research paper). Default: Article\n",
    "\n",
    "- `content`: The content to be summarized.\n",
    "\n",
    "- `entity_range`: The range of entities to be selected from the content and included in the summary. Default: 1-3\n",
    "\n",
    "- `max_words`: The maximum number of words included in the summary per iteration. Default: 80\n",
    "\n",
    "- `iterations`: The number of entity densification rounds. The total number of summaries generated will be **iterations + 1**. For an 80-word summary, 3 rounds are ideal. For longer summaries, 4-5 rounds may be suitable, and adjusting the `entity_range` (e.g., 1-4) can further optimize the results. Default: 3"
   ]
  },
  {
   "cell_type": "markdown",
   "id": "a9b267d4",
   "metadata": {},
   "source": [
    "The code below creates a summarization chain using the **Chain of Density (CoD)** prompt, designed to progressively enhance the summary by increasing entity density while keeping the summary length constant.\n",
    "\n",
    "- **First Chain:** Displays intermediate results after each iteration.\n",
    "- **Second Chain:** Extracts only the final summary after all iterations."
   ]
  },
  {
   "cell_type": "code",
   "execution_count": 39,
   "id": "a129f2df",
   "metadata": {},
   "outputs": [
    {
     "name": "stdout",
     "output_type": "stream",
     "text": [
      "================================\u001b[1m System Message \u001b[0m================================\n",
      "\n",
      "As an expert copy-writer, you will write increasingly concise, entity-dense summaries of the user provided \u001b[33;1m\u001b[1;3m{content_category}\u001b[0m. The initial summary should be under \u001b[33;1m\u001b[1;3m{max_words}\u001b[0m words and contain \u001b[33;1m\u001b[1;3m{entity_range}\u001b[0m informative Descriptive Entities from the \u001b[33;1m\u001b[1;3m{content_category}\u001b[0m.\n",
      "\n",
      "A Descriptive Entity is:\n",
      "- Relevant: to the main story.\n",
      "- Specific: descriptive yet concise (5 words or fewer).\n",
      "- Faithful: present in the \u001b[33;1m\u001b[1;3m{content_category}\u001b[0m.\n",
      "- Anywhere: located anywhere in the \u001b[33;1m\u001b[1;3m{content_category}\u001b[0m.\n",
      "\n",
      "# Your Summarization Process\n",
      "- Read through the \u001b[33;1m\u001b[1;3m{content_category}\u001b[0m and the all the below sections to get an understanding of the task.\n",
      "- Pick \u001b[33;1m\u001b[1;3m{entity_range}\u001b[0m informative Descriptive Entities from the \u001b[33;1m\u001b[1;3m{content_category}\u001b[0m (\";\" delimited, do not add spaces).\n",
      "- In your output JSON list of dictionaries, write an initial summary of max \u001b[33;1m\u001b[1;3m{max_words}\u001b[0m words containing the Entities.\n",
      "- You now have `[{\"missing_entities\": \"...\", \"denser_summary\": \"...\"}]`\n",
      "\n",
      "Then, repeat the below 2 steps \u001b[33;1m\u001b[1;3m{iterations}\u001b[0m times:\n",
      "\n",
      "- Step 1. In a new dict in the same list, identify \u001b[33;1m\u001b[1;3m{entity_range}\u001b[0m new informative Descriptive Entities from the \u001b[33;1m\u001b[1;3m{content_category}\u001b[0m which are missing from the previously generated summary.\n",
      "- Step 2. Write a new, denser summary of identical length which covers every Entity and detail from the previous summary plus the new Missing Entities.\n",
      "\n",
      "A Missing Entity is:\n",
      "- An informative Descriptive Entity from the \u001b[33;1m\u001b[1;3m{content_category}\u001b[0m as defined above.\n",
      "- Novel: not in the previous summary.\n",
      "\n",
      "# Guidelines\n",
      "- The first summary should be long (max \u001b[33;1m\u001b[1;3m{max_words}\u001b[0m words) yet highly non-specific, containing little information beyond the Entities marked as missing. Use overly verbose language and fillers (e.g., \"this \u001b[33;1m\u001b[1;3m{content_category}\u001b[0m discusses\") to reach ~\u001b[33;1m\u001b[1;3m{max_words}\u001b[0m words.\n",
      "- Make every word count: re-write the previous summary to improve flow and make space for additional entities.\n",
      "- Make space with fusion, compression, and removal of uninformative phrases like \"the \u001b[33;1m\u001b[1;3m{content_category}\u001b[0m discusses\".\n",
      "- The summaries should become highly dense and concise yet self-contained, e.g., easily understood without the \u001b[33;1m\u001b[1;3m{content_category}\u001b[0m.\n",
      "- Missing entities can appear anywhere in the new summary.\n",
      "- Never drop entities from the previous summary. If space cannot be made, add fewer new entities.\n",
      "- You're finished when your JSON list has 1+\u001b[33;1m\u001b[1;3m{iterations}\u001b[0m dictionaries of increasing density.\n",
      "\n",
      "# IMPORTANT\n",
      "- Remember, to keep each summary to max \u001b[33;1m\u001b[1;3m{max_words}\u001b[0m words.\n",
      "- Never remove Entities or details. Only add more from the \u001b[33;1m\u001b[1;3m{content_category}\u001b[0m.\n",
      "- Do not discuss the \u001b[33;1m\u001b[1;3m{content_category}\u001b[0m itself, focus on the content: informative Descriptive Entities, and details.\n",
      "- Remember, if you're overusing filler phrases in later summaries, or discussing the \u001b[33;1m\u001b[1;3m{content_category}\u001b[0m itself, not its contents, choose more informative Descriptive Entities and include more details from the \u001b[33;1m\u001b[1;3m{content_category}\u001b[0m.\n",
      "- Answer with a minified JSON list of dictionaries with keys \"missing_entities\" and \"denser_summary\".\n",
      "- \"denser_summary\" should be written in the same language as the \"content\".\n",
      "\n",
      "## Example output\n",
      "[{\"missing_entities\": \"ent1;ent2\", \"denser_summary\": \"<vague initial summary with entities 'ent1','ent2'>\"}, {\"missing_entities\": \"ent3\", \"denser_summary\": \"denser summary with 'ent1','ent2','ent3'\"}, ...]\n",
      "\n",
      "================================\u001b[1m Human Message \u001b[0m=================================\n",
      "\n",
      "\u001b[33;1m\u001b[1;3m{content_category}\u001b[0m:\n",
      "\u001b[33;1m\u001b[1;3m{content}\u001b[0m\n"
     ]
    }
   ],
   "source": [
    "# Download Chain of Density Prompt\n",
    "cod_prompt = hub.pull(\"teddynote/chain-of-density-prompt\")\n",
    "\n",
    "cod_prompt.pretty_print()"
   ]
  },
  {
   "cell_type": "markdown",
   "id": "de039f9d",
   "metadata": {},
   "source": [
    "The following code demonstrates how to create a `map_rehain` that combines both the map and refine stages into a single, streamlined process for document summarization."
   ]
  },
  {
   "cell_type": "code",
   "execution_count": 40,
   "id": "1737020b",
   "metadata": {},
   "outputs": [],
   "source": [
    "import textwrap\n",
    "from langchain import hub\n",
    "from langchain_openai import ChatOpenAI\n",
    "from langchain_core.output_parsers import SimpleJsonOutputParser\n",
    "\n",
    "# Default values for all inputs except {content}\n",
    "cod_chain_inputs = {\n",
    "    \"content\": lambda d: d.get(\"content\"),\n",
    "    \"content_category\": lambda d: d.get(\"content_category\", \"Article\"),\n",
    "    \"entity_range\": lambda d: d.get(\"entity_range\", \"1-3\"),\n",
    "    \"max_words\": lambda d: int(d.get(\"max_words\", 80)),\n",
    "    \"iterations\": lambda d: int(d.get(\"iterations\", 5)),\n",
    "}\n",
    "\n",
    "# Load the Chain of Density prompt from LangChain Hub\n",
    "cod_prompt = hub.pull(\"teddynote/chain-of-density-prompt\")\n",
    "\n",
    "# Create the Chain of Density processing chain\n",
    "cod_chain = (\n",
    "    cod_chain_inputs\n",
    "    | cod_prompt\n",
    "    | ChatOpenAI(temperature=0, model=\"gpt-4o-mini\")\n",
    "    | SimpleJsonOutputParser()\n",
    ")\n",
    "\n",
    "# Create a second chain that extracts only the final summary (non-streaming)\n",
    "cod_final_summary_chain = cod_chain | (\n",
    "    lambda output: output[-1].get(\n",
    "        \"denser_summary\", 'Error: The key \"denser_summary\" is missing in the final dictionary.'\n",
    "    )\n",
    ")"
   ]
  },
  {
   "cell_type": "markdown",
   "id": "e6643d8b",
   "metadata": {},
   "source": [
    "**Review the data to be summarized.**"
   ]
  },
  {
   "cell_type": "code",
   "execution_count": 41,
   "id": "c81e08f6",
   "metadata": {},
   "outputs": [
    {
     "name": "stdout",
     "output_type": "stream",
     "text": [
      "Artificial Intelligence\n",
      "Index Report 20245Top 10 Takeaways\n",
      "1. AI beats humans on some tasks, but not on all. AI has surpassed human performance on several \n",
      "benchmarks, including some in image classification, visual reasoning, and English understanding. Yet it trails \n",
      "behind on more complex tasks like competition-level mathematics, visual commonsense reasoning and planning.\n",
      "2. Industry continues to dominate frontier AI research.  In 2023, industry produced 51 notable \n",
      "machine learning models, while academia contributed only 15. There were also 21 notable models resulting from \n",
      "industry-academia collaborations in 2023, a new high.\n",
      "3. Frontier models get way more expensive. According to AI Index estimates, the training costs \n",
      "of state-of-the-art AI models have reached unprecedented levels. For example, OpenAI’s GPT-4 used an \n",
      "estimated $78 million worth of compute to train, while Google’s Gemini Ultra cost $191 million for compute.\n",
      "4. The United States leads China, the EU, and the U.K. as the leading source of top AI \n",
      "models. In 2023, 61 notable AI models originated from U.S.-based institutions, far outpacing the European \n",
      "Union’s 21 and China’s 15. \n",
      "5. Robust and standardized evaluations for LLM responsibility are seriously lacking.  \n",
      "New research from the AI Index reveals a significant lack of standardization in responsible AI reporting.  \n",
      "Leading developers, including OpenAI, Google, and Anthropic, primarily test their models against different \n",
      "responsible AI benchmarks. This practice complicates efforts to systematically compare the risks and  \n",
      "limitations of top AI models.\n",
      "6. Generative AI investment skyrockets.  Despite a decline in overall AI private investment last \n",
      "year, funding for generative AI surged, nearly octupling from 2022 to reach $25.2 billion. Major players in \n",
      "the generative AI space, including OpenAI, Anthropic, Hugging Face, and Inflection, reported substantial \n",
      "fundraising rounds.\n",
      "7 . The data is in: AI makes workers more productive and leads to higher quality work. In \n",
      "2023, several studies assessed AI’s impact on labor, suggesting that AI enables workers to complete tasks more \n",
      "quickly and to improve the quality of their output. These studies also demonstrated AI’s potential to bridge \n",
      "the skill gap between low- and high-skilled workers. Still, other studies caution that using AI without proper \n",
      "oversight can lead to diminished performance. \n",
      "5\n"
     ]
    }
   ],
   "source": [
    "content = docs[1].page_content\n",
    "print(content)"
   ]
  },
  {
   "cell_type": "markdown",
   "id": "7566ef21",
   "metadata": {},
   "source": [
    "**Partial JSON Streaming with Overwriting Chunks**\n",
    "\n",
    "The code below demonstrates how to perform **partial JSON streaming** where each streamed chunk is a list of JSON dictionaries with additional entities added progressively. \n",
    "\n",
    "To avoid simply concatenating outputs and instead overwrite previous chunks with each update, a carriage return (`\\r`) is used."
   ]
  },
  {
   "cell_type": "code",
   "execution_count": 42,
   "id": "6228b665",
   "metadata": {},
   "outputs": [
    {
     "name": "stdout",
     "output_type": "stream",
     "text": [
      "[{'missing_entities': 'AI Index;GPT-4;generative AI investment', 'denser_summary': \"This Article discusses the AI Index report of 2024, highlighting that AI surpasses human performance in tasks like image classification and English understanding, while trailing in complex areas. Notably, GPT-4's training cost reached $78 million, and generative AI investment surged to $25.2 billion in 2023, despite an overall decline in AI funding.\"}, {'missing_entities': 'OpenAI;AI models;responsible AI reporting', 'denser_summary': \"The AI Index report of 2024 reveals that AI excels in image classification and English understanding but struggles with complex tasks. GPT-4's training cost was $78 million, while generative AI investment soared to $25.2 billion. OpenAI and other developers face challenges in responsible AI reporting due to a lack of standardized evaluations for AI models.\"}, {'missing_entities': 'U.S.;AI training costs;AI productivity', 'denser_summary': \"The AI Index report of 2024 indicates that AI outperforms humans in image classification but lags in complex tasks. GPT-4's training cost was $78 million, and generative AI investment reached $25.2 billion. The U.S. leads in AI model production, while studies show AI enhances productivity, though oversight is crucial to avoid performance issues.\"}, {'missing_entities': 'AI benchmarks;AI funding;AI research', 'denser_summary': \"The AI Index report of 2024 highlights AI's superiority in image classification but challenges in complex tasks. GPT-4's training cost was $78 million, and generative AI funding surged to $25.2 billion. The U.S. dominates AI model production, yet a lack of standardized AI benchmarks complicates responsible AI evaluations and research.\"}, {'missing_entities': 'AI collaboration;AI skill gap;AI performance', 'denser_summary': \"The AI Index report of 2024 reveals AI's strengths in image classification but weaknesses in complex tasks. GPT-4's training cost was $78 million, and generative AI funding skyrocketed to $25.2 billion. The U.S. leads in AI model production, with industry-academia collaboration rising, while AI shows potential to bridge the skill gap, though oversight is essential to maintain performance.\"}]\n",
      "\n",
      "### CoD Summary 1/5, Added Entities: AI Index, GPT-4, generative AI investment\n",
      "\n",
      "This Article discusses the AI Index report of 2024, highlighting that AI\n",
      "surpasses human performance in tasks like image classification and English\n",
      "understanding, while trailing in complex areas. Notably, GPT-4's training cost\n",
      "reached $78 million, and generative AI investment surged to $25.2 billion in\n",
      "2023, despite an overall decline in AI funding.\n",
      "\n",
      "### CoD Summary 2/5, Added Entities: OpenAI, AI models, responsible AI reporting\n",
      "\n",
      "The AI Index report of 2024 reveals that AI excels in image classification and\n",
      "English understanding but struggles with complex tasks. GPT-4's training cost\n",
      "was $78 million, while generative AI investment soared to $25.2 billion. OpenAI\n",
      "and other developers face challenges in responsible AI reporting due to a lack\n",
      "of standardized evaluations for AI models.\n",
      "\n",
      "### CoD Summary 3/5, Added Entities: U.S., AI training costs, AI productivity\n",
      "\n",
      "The AI Index report of 2024 indicates that AI outperforms humans in image\n",
      "classification but lags in complex tasks. GPT-4's training cost was $78 million,\n",
      "and generative AI investment reached $25.2 billion. The U.S. leads in AI model\n",
      "production, while studies show AI enhances productivity, though oversight is\n",
      "crucial to avoid performance issues.\n",
      "\n",
      "### CoD Summary 4/5, Added Entities: AI benchmarks, AI funding, AI research\n",
      "\n",
      "The AI Index report of 2024 highlights AI's superiority in image classification\n",
      "but challenges in complex tasks. GPT-4's training cost was $78 million, and\n",
      "generative AI funding surged to $25.2 billion. The U.S. dominates AI model\n",
      "production, yet a lack of standardized AI benchmarks complicates responsible AI\n",
      "evaluations and research.\n",
      "\n",
      "### CoD Summary 5/5, Added Entities: AI collaboration, AI skill gap, AI performance\n",
      "\n",
      "The AI Index report of 2024 reveals AI's strengths in image classification but\n",
      "weaknesses in complex tasks. GPT-4's training cost was $78 million, and\n",
      "generative AI funding skyrocketed to $25.2 billion. The U.S. leads in AI model\n",
      "production, with industry-academia collaboration rising, while AI shows\n",
      "potential to bridge the skill gap, though oversight is essential to maintain\n",
      "performance.\n",
      "\n",
      "\n",
      "============== [Final Summary] =================\n",
      "\n",
      "The AI Index report of 2024 reveals AI's strengths in image classification but weaknesses in complex tasks. GPT-4's training cost was $78 million, and generative AI funding skyrocketed to $25.2 billion. The U.S. leads in AI model production, with industry-academia collaboration rising, while AI shows potential to bridge the skill gap, though oversight is essential to maintain performance.\n"
     ]
    }
   ],
   "source": [
    "import textwrap\n",
    "\n",
    "# Initialize an empty list to store results\n",
    "results: list[dict[str, str]] = []\n",
    "\n",
    "# Execute the CoD chain in streaming mode and process partial JSON results\n",
    "for partial_json in cod_chain.stream(\n",
    "    {\"content\": content, \"content_category\": \"Article\"}\n",
    "):\n",
    "    # Update the results list with the latest streamed chunk\n",
    "    results = partial_json\n",
    "\n",
    "    # Print the updated results on the same line, overwriting the previous output\n",
    "    print(results, end=\"\\r\", flush=True)\n",
    "\n",
    "# Calculate the total number of generated summaries\n",
    "total_summaries = len(results)\n",
    "print(\"\\n\")  # Newline for better separation\n",
    "\n",
    "# Loop through each summary and process the results\n",
    "i = 1\n",
    "for cod in results:\n",
    "    # Extract and format the missing entities from the summary\n",
    "    added_entities = \", \".join(\n",
    "        [\n",
    "            ent.strip()\n",
    "            for ent in cod.get(\n",
    "                \"missing_entities\", 'ERR: \"missing_entities\" key not found'\n",
    "            ).split(\";\")\n",
    "        ]\n",
    "    )\n",
    "\n",
    "    # Retrieve the denser summary\n",
    "    summary = cod.get(\"denser_summary\", 'ERR: missing key \"denser_summary\"')\n",
    "\n",
    "    # Print summary information including order, total count, and added entities\n",
    "    print(\n",
    "        f\"### CoD Summary {i}/{total_summaries}, Added Entities: {added_entities}\\n\"\n",
    "    )\n",
    "\n",
    "    # Print the summary with line wrapping at 80 characters for readability\n",
    "    print(textwrap.fill(summary, width=80) + \"\\n\")\n",
    "    i += 1\n",
    "\n",
    "# Print the final summary\n",
    "print(\"\\n============== [Final Summary] =================\\n\")\n",
    "print(summary)\n"
   ]
  },
  {
   "cell_type": "code",
   "execution_count": 43,
   "id": "9ba91c03",
   "metadata": {},
   "outputs": [
    {
     "name": "stdout",
     "output_type": "stream",
     "text": [
      "The AI Index report of 2024 reveals AI's strengths in image classification but weaknesses in complex tasks. GPT-4's training cost was $78 million, and generative AI funding skyrocketed to $25.2 billion. The U.S. leads in AI model production, with industry-academia collaboration rising, while AI shows potential to bridge the skill gap, though oversight is essential to maintain performance.\n"
     ]
    }
   ],
   "source": [
    "print(summary)"
   ]
  },
  {
   "cell_type": "markdown",
   "id": "09ee272d",
   "metadata": {},
   "source": [
    "## Clustering-Map-Refine\n",
    "\n",
    "The original author of this tutorial, **gkamradt**, proposed an innovative approach for summarizing lengthy documents, which balances efficiency and cost without compromising quality.\n",
    "\n",
    "**Background**:\n",
    "\n",
    "1. **Map-Reduce** and **Map-Refine** methods can be time-consuming and expensive when processing long documents.\n",
    "2. To address this, the proposed solution involves clustering the document into several clusters (N clusters) and identifying the document closest to the cluster's centroid as the representative document for that cluster. \n",
    "3. Only these representative documents are then summarized using either the **Map-Reduce** or **Map-Refine** method.\n",
    "\n",
    "**Advantages**:\n",
    "\n",
    "- **Cost Efficiency:** Reduces the number of documents processed directly by the LLM.\n",
    "- **Effective Results:** The approach retains quality while optimizing performance.\n",
    "\n",
    "The code in this tutorial is a modified version of the original by **gkamradt**, tailored to optimize both cost and summarization quality.\n",
    "\n",
    "- [Original Author & Source - gkamradt](https://github.com/gkamradt/langchain-tutorials/blob/main/data_generation/5%20Levels%20Of%20Summarization%20-%20Novice%20To%20Expert.ipynb)\n"
   ]
  },
  {
   "cell_type": "code",
   "execution_count": 44,
   "id": "feb12b9e",
   "metadata": {},
   "outputs": [
    {
     "data": {
      "text/plain": [
       "502"
      ]
     },
     "execution_count": 44,
     "metadata": {},
     "output_type": "execute_result"
    }
   ],
   "source": [
    "from langchain_community.document_loaders import PyMuPDFLoader\n",
    "\n",
    "loader = PyPDFLoader(\"data/Artificial Intelligence Index Report.pdf\")\n",
    "docs = loader.load()\n",
    "len(docs)"
   ]
  },
  {
   "cell_type": "markdown",
   "id": "f746a903",
   "metadata": {},
   "source": [
    "Running the code below merges multiple documents into a single text.\n",
    "\n",
    "The purpose of merging is to avoid separating the content by individual pages.\n",
    "\n",
    "The combined text contains approximately 781,000 characters."
   ]
  },
  {
   "cell_type": "code",
   "execution_count": 45,
   "id": "ca715d03",
   "metadata": {},
   "outputs": [
    {
     "data": {
      "text/plain": [
       "780865"
      ]
     },
     "execution_count": 45,
     "metadata": {},
     "output_type": "execute_result"
    }
   ],
   "source": [
    "# Combine All Documents into a Single Text\n",
    "texts = \"\\n\\n\".join([doc.page_content for doc in docs])\n",
    "len(texts)"
   ]
  },
  {
   "cell_type": "markdown",
   "id": "a36a3162",
   "metadata": {},
   "source": [
    "Splitting a Single Text into Multiple Documents Using `RecursiveCharacterTextSplitter`\n",
    "\n",
    "* The `RecursiveCharacterTextSplitter` is used to divide a single text into multiple smaller documents while preserving logical breaks, such as sentences or paragraphs."
   ]
  },
  {
   "cell_type": "code",
   "execution_count": 46,
   "id": "a8a11656",
   "metadata": {},
   "outputs": [],
   "source": [
    "from langchain_text_splitters import RecursiveCharacterTextSplitter\n",
    "\n",
    "# Initialize the text splitter with a chunk size of 1000 characters and an overlap of 100 characters\n",
    "text_splitter = RecursiveCharacterTextSplitter(chunk_size=1000, chunk_overlap=100)\n",
    "\n",
    "# Split the combined text into multiple smaller documents\n",
    "split_docs = text_splitter.split_text(texts)"
   ]
  },
  {
   "cell_type": "code",
   "execution_count": 47,
   "id": "d7697377",
   "metadata": {},
   "outputs": [
    {
     "data": {
      "text/plain": [
       "1051"
      ]
     },
     "execution_count": 47,
     "metadata": {},
     "output_type": "execute_result"
    }
   ],
   "source": [
    "# Check the Number of Split Documents\n",
    "len(split_docs)"
   ]
  },
  {
   "cell_type": "markdown",
   "id": "517ddb9e",
   "metadata": {},
   "source": [
    "### Clustering and Summarizing Documents - Using Upstage Embeddings and K-means Clustering\n",
    "\n",
    "This section demonstrates how to perform document clustering and summarization using Upstage Embeddings, K-means clustering, and a Map-Refine Chain. \n",
    "\n",
    "The process involves embedding documents, clustering them, selecting representative documents, and finally generating a refined summary using LangChain.\n",
    "\n",
    "**Summary of the Steps:**\n",
    "1. Embedding: Documents were embedded using the Upstage Embeddings model.\n",
    "2. Clustering: K-means clustering was performed on the document vectors.\n",
    "3. Visualization: The clusters were visualized using t-SNE.\n",
    "4. Document Selection: The most representative document from each cluster was selected.\n",
    "5. Final Summary: A refined summary was generated using the Map-Refine Chain.\n"
   ]
  },
  {
   "cell_type": "markdown",
   "id": "fcacdeb6",
   "metadata": {},
   "source": [
    "**1. Import Required Libraries and Prepare Embeddings**"
   ]
  },
  {
   "cell_type": "code",
   "execution_count": 48,
   "id": "84ee29a1",
   "metadata": {},
   "outputs": [],
   "source": [
    "from langchain_upstage import UpstageEmbeddings\n",
    "\n",
    "# Initialize the Upstage Embeddings model\n",
    "embeddings = UpstageEmbeddings(model=\"solar-embedding-1-large-passage\")\n",
    "\n",
    "# Embed the documents\n",
    "vectors = embeddings.embed_documents(split_docs)"
   ]
  },
  {
   "cell_type": "code",
   "execution_count": null,
   "id": "ae69dd2e",
   "metadata": {},
   "outputs": [],
   "source": [
    "# from langchain_openai import OpenAIEmbeddings\n",
    "\n",
    "# embeddings = OpenAIEmbeddings()\n",
    "\n",
    "# vectors = embeddings.embed_documents(split_docs)"
   ]
  },
  {
   "cell_type": "markdown",
   "id": "287413d3",
   "metadata": {},
   "source": [
    "**2. Perform K-Means Clustering**\n",
    "\n",
    "* K-means clustering is applied to group the documents into a specified number of clusters.\n",
    "* `KMeans` is used to cluster the document vectors.\n",
    "* The `random_state` parameter ensures reproducibility."
   ]
  },
  {
   "cell_type": "code",
   "execution_count": 49,
   "id": "fa85e13b",
   "metadata": {},
   "outputs": [],
   "source": [
    "from sklearn.cluster import KMeans\n",
    "\n",
    "# Set the number of clusters (adjustable based on document content)\n",
    "num_clusters = 10\n",
    "\n",
    "# Perform K-means clustering on the document vectors\n",
    "kmeans = KMeans(n_clusters=num_clusters, random_state=123).fit(vectors)"
   ]
  },
  {
   "cell_type": "code",
   "execution_count": 50,
   "id": "cf8cd58d",
   "metadata": {},
   "outputs": [
    {
     "data": {
      "text/plain": [
       "array([1, 7, 0, ..., 7, 7, 1], dtype=int32)"
      ]
     },
     "execution_count": 50,
     "metadata": {},
     "output_type": "execute_result"
    }
   ],
   "source": [
    "# Check the cluster assignments for each document\n",
    "cluster_labels = kmeans.labels_\n",
    "cluster_labels"
   ]
  },
  {
   "cell_type": "markdown",
   "id": "9c058c68",
   "metadata": {},
   "source": [
    "**3. Visualize Clusters Using t-SNE**\n",
    "\n",
    "- The clusters are visualized in a 2D space using t-SNE for dimensionality reduction.\n"
   ]
  },
  {
   "cell_type": "code",
   "execution_count": 52,
   "id": "dc08c847",
   "metadata": {},
   "outputs": [
    {
     "name": "stderr",
     "output_type": "stream",
     "text": [
      "Matplotlib is building the font cache; this may take a moment.\n"
     ]
    },
    {
     "data": {
      "image/png": "[encoded data removed]",
      "text/plain": [
       "<Figure size 1000x800 with 1 Axes>"
      ]
     },
     "metadata": {},
     "output_type": "display_data"
    }
   ],
   "source": [
    "from sklearn.manifold import TSNE\n",
    "import matplotlib.pyplot as plt\n",
    "import seaborn as sns\n",
    "import numpy as np\n",
    "\n",
    "# Suppress warnings\n",
    "import warnings\n",
    "warnings.filterwarnings(\"ignore\")\n",
    "\n",
    "# Perform t-SNE to reduce dimensionality for visualization\n",
    "tsne = TSNE(n_components=2, random_state=42)\n",
    "reduced_data_tsne = tsne.fit_transform(np.array(vectors))\n",
    "\n",
    "# Set Seaborn style for better aesthetics\n",
    "sns.set_style(\"white\")\n",
    "\n",
    "# Plot the reduced data with cluster labels\n",
    "plt.figure(figsize=(10, 8))\n",
    "sns.scatterplot(\n",
    "    x=reduced_data_tsne[:, 0],\n",
    "    y=reduced_data_tsne[:, 1],\n",
    "    hue=cluster_labels,\n",
    "    palette=\"deep\",\n",
    "    s=100\n",
    ")\n",
    "plt.xlabel(\"Dimension 1\", fontsize=12)\n",
    "plt.ylabel(\"Dimension 2\", fontsize=12)\n",
    "plt.title(\"Clustered Embeddings\", fontsize=16)\n",
    "plt.legend(title=\"Cluster\", title_fontsize=12)\n",
    "\n",
    "# Set background color\n",
    "plt.gcf().patch.set_facecolor(\"white\")\n",
    "\n",
    "plt.tight_layout()\n",
    "plt.show()"
   ]
  },
  {
   "cell_type": "markdown",
   "id": "5d32fb82",
   "metadata": {},
   "source": [
    "Explanation:\n",
    "- `TSNE` reduces the dimensionality of the document vectors for visualization purposes.\n",
    "- Each point represents a document, colored by its cluster label."
   ]
  },
  {
   "cell_type": "markdown",
   "id": "ce7ef9f9",
   "metadata": {},
   "source": [
    "**4. Select Representative Documents from Each Cluster**\n",
    "\n",
    "- The document closest to the cluster centroid is selected as the representative document for that cluster."
   ]
  },
  {
   "cell_type": "code",
   "execution_count": 53,
   "id": "189d15db",
   "metadata": {},
   "outputs": [
    {
     "data": {
      "text/plain": [
       "[68, 171, 178, 402, 475, 513, 681, 739, 790, 810]"
      ]
     },
     "execution_count": 53,
     "metadata": {},
     "output_type": "execute_result"
    }
   ],
   "source": [
    "# List to store the indices of the closest documents for each cluster\n",
    "closest_indices = []\n",
    "\n",
    "# Identify the closest document for each cluster\n",
    "for i in range(num_clusters):\n",
    "    distances = np.linalg.norm(vectors - kmeans.cluster_centers_[i], axis=1)\n",
    "    closest_index = np.argmin(distances)\n",
    "    closest_indices.append(closest_index)\n",
    "\n",
    "# Sort the indices for sequential processing\n",
    "selected_indices = sorted(closest_indices)\n",
    "selected_indices\n"
   ]
  },
  {
   "cell_type": "markdown",
   "id": "ccead08d",
   "metadata": {},
   "source": [
    "Explanation:\n",
    "- For each cluster, the document closest to the cluster center is identified.\n",
    "- The indices are sorted to ensure sequential summarization later."
   ]
  },
  {
   "cell_type": "markdown",
   "id": "8fb6933f",
   "metadata": {},
   "source": [
    "**5. Convert Selected Documents to LangChain Document Format**\n",
    "\n",
    "- The selected documents are converted to LangChain's `Document` format for compatibility with the summarization chain."
   ]
  },
  {
   "cell_type": "code",
   "execution_count": 54,
   "id": "13828899",
   "metadata": {},
   "outputs": [
    {
     "data": {
      "text/plain": [
       "[Document(metadata={}, page_content='35\\nArtificial Intelligence\\nIndex Report 2024 Chapter 1 Preview Table of Contents75.48%\\n14.06%\\n5.60%\\n4.87%75.63%\\n9.47%\\n9.28%\\n5.62%81.75%\\n10.05%7.39%\\n0.80%\\n0% 10% 20% 30% 40% 50% 60% 70% 80%Nonpr otGovernmentIndustryEducation\\nUnited S tates\\nEuropean U nion and U nited Kingdom\\nChina\\nAI public ations (% of t otal)AI p ublic ations (% of t otal) b y sector and geogr aphic ar ea, 20 22\\nSource: Center for Security and E merging T echnolog y, 2023 | C hart: 202 4 AI Inde x repor t1.1 PublicationsChapter 1: Research and Development\\nFigure 1.1.5Artificial Intelligence\\nIndex Report 2024'),\n",
       " Document(metadata={}, page_content='91\\nArtificial Intelligence\\nIndex Report 2024 Chapter 2 Preview Table of ContentsChapter 2: Technical Performance Artificial Intelligence\\nIndex Report 2024 2.2 Language\\n2021 2022 20230.300.350.400.450.500.550.60MC1 ↑0.59Mult iple-choic e task on T ruthfulQA: MC1\\nSource: Papers with C ode, 2023 | C hart: 202 4 AI Inde x repor t\\nFigure 2.2.10'),\n",
       " Document(metadata={}, page_content='95\\nArtificial Intelligence\\nIndex Report 2024 Chapter 2 Preview Table of Contents\\n0.20%0.52%\\n0%0.70% 0.70%1.74%1.96%3.01%3.97%4.80%ChatGPT -3.5 + BM25 R etrieval\\nChatGPT -3.5\\nGPT -4 + BM25 R etrieval\\nSWE -Llama 13B + BM25 R etrieval\\nSWE -Llama 7B + BM25 R etrieval\\nGPT -4\\nClaude 2 + BM25 R etrieval\\nSWE -Llama 7B\\nSWE -Llama 13B\\nClaude 2\\n2022 20230%2%4%6%\\nUnassist ed Assist ed\\nModelPercent r esolvedSWE-bench : per cent r esolved\\nSource: SWE -bench L eaderboar d, 2023 | C hart: 202 4 AI Inde x repor tSWE-bench  \\nAs AI systems’ coding capabilities improve, it has \\nbecome increasingly important to benchmark \\nmodels on more challenging tasks. In October 2023, \\nresearchers introduced SWE-bench, a dataset \\ncomprising 2,294 software engineering problems \\nsourced from real GitHub issues and popular \\nPython repositories (Figure 2.3.3). SWE-bench  \\npresents a tougher test for AI coding proficiency,'),\n",
       " Document(metadata={}, page_content='Source: Global S tate of R esponsible AI r epor t, 202 4 | C hart: 202 4 AI Inde x repor tFigure 3.5.2\\nNote: The numbers in parentheses are the average numbers of \\nmitigation measures fully operationalized within each region. \\nNot all differences between regions are statistically significant.\\nFigure 3.5.3\\nNote: The numbers in parentheses are the average numbers of \\nmitigation measures fully operationalized within each industry.  \\nNot all differences between industries are statistically significant.\\n17 The survey is introduced above in section 3.1, Assessing Responsible AI. The full Global State of Responsible AI Report is forthcoming in May 2024. Details about the methodology can be \\nfound in the Appendix of this chapter. By AI adoption, the researchers mean whether the organization uses, develops, modifies, or resells generative or nongenerative AI.\\n18 Respondents were further given the free-text option “Other” to report additional mitigations not listed.3.5 Fairness'),\n",
       " Document(metadata={}, page_content='232\\nArtificial Intelligence\\nIndex Report 2024 Chapter 4 Preview Table of Contents4.2 JobsChapter 4: Economy Artificial Intelligence\\nIndex Report 2024\\n6.65%7.17%7.27%7.37%8.57%9.63%10.41%13.08%13.23%13.40%14.84%16.83%18.85%18.93%28.83%\\n0% 5% 10% 15% 20% 25% 30%ChileSouth Afric aFinlandSwedenUnited KingdomSpainBelgiumNorwayDenmarkUnited A rab E mirat esPortugalIndiaLuxembo urgSingapor eHong K ong\\nRelativ e AI hiring rat e year-o ver-year ratioRelative AI hir ing r ate year-o ver-year r atio by geogr aphic ar ea, 20 23\\nSource: Link edIn, 2023 | C hart: 202 4 AI Inde x repor tAI Hiring\\nThe hiring data presented in the AI Index is based on \\na LinkedIn dataset of skills and jobs that appear on \\ntheir platform. The geographic areas included in the \\nsample make at least 10 AI hires each month and have \\nLinkedIn covering a substantial portion of the labor \\nforce. LinkedIn’s coverage of India’s and South Korea’s \\nsizable labor forces fall below this threshold, so insights'),\n",
       " Document(metadata={}, page_content='250\\nArtificial Intelligence\\nIndex Report 2024 Chapter 4 Preview Table of Contents4.3 InvestmentArtificial Intelligence\\nIndex Report 2024Chapter 4: Economy\\n2019 2020 2021 2022 202305101520Total inv estment (in billions of U .S. dollars)\\n0.65, China0.74, European U nion and U nited Kingdom22.46, United S tatesPrivate investment in gener ative AI b y geogr aphic ar ea, 20 19–23\\nSource: Quid, 2023 | C hart: 202 4 AI Inde x repor tThe disparity in regional AI private investment becomes particularly pronounced when examining generative AI-\\nrelated investments. For instance, in 2022, the United States outpaced the combined investments of the European \\nUnion plus United Kingdom in generative AI by approximately $1.9 billion (Figure 4.3.11). By 2023, this gap widened \\nto $21.1 billion.\\nFigure 4.3.11'),\n",
       " Document(metadata={}, page_content='345\\nArtificial Intelligence\\nIndex Report 2024 Chapter 6 Preview Table of Contents-21%-15%-14%23%28%39%48%59%66%70%72%88%117%118%153%\\n−20% 0% 20% 40% 60% 80% 100% 120% 140% 160%Czech R epublicPolandSpainFinlandGermanyUnited KingdomItalyAustriaIrelandRomaniaPortugalNetherlandsSwitzerlandTurkeyNorway\\n% change of ne w inf ormatics, CS, CE, and IT bachelor ’s grad uatesSource: Inf ormatics E urope, 2023 | C hart: 202 4 AI Inde x repor tPercentage change of ne w inf ormatics, CS , CE, and IT ba chelor ’s graduates by country in E urope,\\n2012 vs. 20 226.1 Postsecondary CS and AI EducationChapter 6: Education\\nFigure 6.1.18Artificial Intelligence\\nIndex Report 2024\\nFinland (53.4), Norway (42.6), and the Netherlands (38.6) lead in the number of new bachelor’s graduates in \\ninformatics CS, CE, and IT per 100,000 inhabitants (Figure 6.1.19). On a per capita basis, most sampled European'),\n",
       " Document(metadata={}, page_content='377\\nArtificial Intelligence\\nIndex Report 2024 Chapter 7 Preview Table of Contents7.2 AI and PolicymakingChapter 7: Policy and Governance Artificial Intelligence\\nIndex Report 2024\\n2016 2017 2018 2019 2020 2021 2022 20230510152025303540Number of AI-r elated bills28Number of AI-r elated bills pass ed int o law in 1 28 select c ountries, 20 16–23\\nSource: AI Inde x, 202 4 | C hart: 202 4 AI Inde x repor t\\nFigure 7.2.2'),\n",
       " Document(metadata={}, page_content='403\\nArtificial Intelligence\\nIndex Report 2024 Chapter 7 Preview Table of ContentsThis section examines public AI investment in the United States based on data from the U.S. government and Govini, \\na company that uses AI and machine learning technologies to track U.S. public and commercial spending.\\n7.5 U.S. Public Investment in AI7.5 U.S. Public Investment in AIChapter 7: Policy and Governance Artificial Intelligence\\nIndex Report 2024\\n15 Previous editions of the NITRD report have included spending figures for past years that differ slightly from those reported in the most recent edition. The AI Index reports the spending \\namounts documented in the latest NITRD reports. 0.56 1.11 1.43 1.53 1.73 1.79 1.87\\nFY18 ( enact ed) FY19 ( enact ed) FY20 ( enact ed) FY21 (enact ed) FY22 ( enact ed) FY23 ( enact ed) FY24 (requested)0.000.200.400.600.801.001.201.401.601.80Budget (in billions of U .S. dollars)US f eder al NITRD b udget f or AI, F Y 20 18–24'),\n",
       " Document(metadata={}, page_content='415\\nArtificial Intelligence\\nIndex Report 2024 Chapter 8 Preview Table of Contents2010 2011 2012 2013 2014 2015 2016 2017 2018 2019 2020 2021 20220%10%20%30%40%50%60%70%80%90%New CS bachelor ’s grad uates (% of t otal)\\n0.10%, Nonbinar y/Other22.20 %, F emale77.70%, M aleGender of ne w CS ba chelor ’s graduates (% of t otal) in t he U nited S tates and C anada, 20 10–22\\nSource: CR A Taulbee S urvey, 2023 | C hart: 202 4 AI Inde x repor tNorth America\\nData on American and Canadian postsecondary CS \\nand AI postsecondary education comes from the \\nComputing Research Association’s (CRA) annual \\nTaulbee Survey .1 2\\nOver the past decade, the number of CS bachelor’s graduates of all ethnicities has grown, notably 4.7 times \\nfor Hispanics and 2.5 times for African Americans (Figure 8.1.2). As a proportion of ethnicities among all CS \\nbachelor’s graduates, Asians have risen the fastest, doubling in the last 10 years (Figure 8.1.3).8.1 AI Postsecondary Education\\nCS Bachelor’s Graduates')]"
      ]
     },
     "execution_count": 54,
     "metadata": {},
     "output_type": "execute_result"
    }
   ],
   "source": [
    "from langchain_core.documents import Document\n",
    "\n",
    "# Convert the selected documents into LangChain's Document format\n",
    "selected_docs = [Document(page_content=split_docs[doc]) for doc in selected_indices]\n",
    "selected_docs"
   ]
  },
  {
   "cell_type": "markdown",
   "id": "47858a50",
   "metadata": {},
   "source": [
    "**6. Generate the Final Summary Using the Map-Refine Chain**\n",
    "\n",
    "* The **Map-Refine Chain** is used to generate a refined summary from the selected representative documents."
   ]
  },
  {
   "cell_type": "code",
   "execution_count": 55,
   "id": "65ffc8de",
   "metadata": {},
   "outputs": [
    {
     "name": "stdout",
     "output_type": "stream",
     "text": [
      "The document presents the \"Artificial Intelligence Index Report 2024,\" focusing on the landscape of AI research and development.\n",
      "It highlights the distribution of AI publications across various sectors and geographic areas, with notable contributions from the United States, European Union, United Kingdom, and China.\n",
      "The report indicates that the majority of AI publications come from the non-profit sector, followed by government and industry.\n",
      "It emphasizes the growing importance of AI in various fields, reflecting a significant increase in research output.\n",
      "Additionally, the report discusses the technical performance of AI, particularly in language capabilities, showcasing trends in multiple-choice tasks on the TruthfulQA benchmark from 2021 to 2023.\n",
      "The performance metric MC1 shows a gradual increase, indicating improvements in AI language understanding over the years.\n",
      "The data is sourced from the Center for Security and Emerging Technology and \"Papers with Code,\" underscoring the relevance of the findings in understanding global AI trends.\n",
      "\n",
      "\n",
      "-----------------\n",
      "\n",
      "\n",
      "The document presents the \"Artificial Intelligence Index Report 2024,\" focusing on the landscape of AI research and development.\n",
      "It highlights the distribution of AI publications across various sectors and geographic areas, with notable contributions from the United States, European Union, United Kingdom, and China.\n",
      "The report indicates that the majority of AI publications come from the non-profit sector, followed by government and industry.\n",
      "It emphasizes the growing importance of AI in various fields, reflecting a significant increase in research output.\n",
      "Additionally, the report discusses the technical performance of AI, particularly in language capabilities, showcasing trends in multiple-choice tasks on the TruthfulQA benchmark from 2021 to 2023.\n",
      "The performance metric MC1 shows a gradual increase, indicating improvements in AI language understanding over the years.\n",
      "Furthermore, the report addresses advancements in AI coding capabilities and the need for improved benchmarking of these models.\n",
      "It introduces SWE-bench, a new dataset containing 2,294 software engineering problems derived from real GitHub issues and popular Python repositories, aimed at providing a more challenging assessment of AI models' coding proficiency.\n",
      "The data highlights the performance of various AI models, including ChatGPT and Claude, in resolving coding tasks, emphasizing the importance of evaluating AI systems on increasingly difficult tasks to gauge their effectiveness.\n",
      "The findings are sourced from the Center for Security and Emerging Technology and \"Papers with Code,\" underscoring their relevance in understanding global AI trends.\n",
      "\n",
      "\n",
      "-----------------\n",
      "\n",
      "\n",
      "The document presents the \"Artificial Intelligence Index Report 2024,\" focusing on the landscape of AI research and development.\n",
      "It highlights the distribution of AI publications across various sectors and geographic areas, with notable contributions from the United States, European Union, United Kingdom, and China.\n",
      "The report indicates that the majority of AI publications come from the non-profit sector, followed by government and industry.\n",
      "It emphasizes the growing importance of AI in various fields, reflecting a significant increase in research output.\n",
      "Additionally, the report discusses the technical performance of AI, particularly in language capabilities, showcasing trends in multiple-choice tasks on the TruthfulQA benchmark from 2021 to 2023.\n",
      "The performance metric MC1 shows a gradual increase, indicating improvements in AI language understanding over the years.\n",
      "\n",
      "Furthermore, the report addresses advancements in AI coding capabilities and the need for improved benchmarking of these models.\n",
      "It introduces SWE-bench, a new dataset containing 2,294 software engineering problems derived from real GitHub issues and popular Python repositories, aimed at providing a more challenging assessment of AI models' coding proficiency.\n",
      "The data highlights the performance of various AI models, including ChatGPT and Claude, in resolving coding tasks, emphasizing the importance of evaluating AI systems on increasingly difficult tasks to gauge their effectiveness.\n",
      "The findings are sourced from the Center for Security and Emerging Technology and \"Papers with Code,\" underscoring their relevance in understanding global AI trends.\n",
      "\n",
      "Additionally, the report references the \"Global State of Responsible AI Report 2024,\" which highlights the operationalization of mitigation measures across different regions and industries.\n",
      "It notes variations in the implementation of these measures, although not all differences are statistically significant.\n",
      "The survey assesses the adoption of AI technologies by organizations, including their use, development, modification, or resale of both generative and nongenerative AI.\n",
      "Respondents also reported additional mitigations through a free-text option, indicating a broader range of strategies being considered for responsible AI practices.\n",
      "The full report is set to be released in May 2024, with detailed methodology provided in the appendix.\n",
      "\n",
      "\n",
      "-----------------\n",
      "\n",
      "\n",
      "The document presents the \"Artificial Intelligence Index Report 2024,\" focusing on the landscape of AI research and development.\n",
      "It highlights the distribution of AI publications across various sectors and geographic areas, with notable contributions from the United States, European Union, United Kingdom, and China.\n",
      "The report indicates that the majority of AI publications come from the non-profit sector, followed by government and industry.\n",
      "It emphasizes the growing importance of AI in various fields, reflecting a significant increase in research output.\n",
      "Additionally, the report discusses the technical performance of AI, particularly in language capabilities, showcasing trends in multiple-choice tasks on the TruthfulQA benchmark from 2021 to 2023.\n",
      "The performance metric MC1 shows a gradual increase, indicating improvements in AI language understanding over the years.\n",
      "\n",
      "Furthermore, the report addresses advancements in AI coding capabilities and the need for improved benchmarking of these models.\n",
      "It introduces SWE-bench, a new dataset containing 2,294 software engineering problems derived from real GitHub issues and popular Python repositories, aimed at providing a more challenging assessment of AI models' coding proficiency.\n",
      "The data highlights the performance of various AI models, including ChatGPT and Claude, in resolving coding tasks, emphasizing the importance of evaluating AI systems on increasingly difficult tasks to gauge their effectiveness.\n",
      "The findings are sourced from the Center for Security and Emerging Technology and \"Papers with Code,\" underscoring their relevance in understanding global AI trends.\n",
      "\n",
      "Additionally, the report references the \"Global State of Responsible AI Report 2024,\" which highlights the operationalization of mitigation measures across different regions and industries.\n",
      "It notes variations in the implementation of these measures, although not all differences are statistically significant.\n",
      "The survey assesses the adoption of AI technologies by organizations, including their use, development, modification, or resale of both generative and nongenerative AI.\n",
      "Respondents also reported additional mitigations through a free-text option, indicating a broader range of strategies being considered for responsible AI practices.\n",
      "The report also discusses trends in AI hiring rates across various geographic regions for 2023, highlighting significant differences in growth.\n",
      "It presents a year-over-year ratio of AI hiring, indicating that countries like Chile and South Africa have lower rates compared to nations like Singapore and Hong Kong.\n",
      "The data, sourced from LinkedIn, focuses on areas with a minimum of 10 AI hires per month, excluding some large labor markets like India and South Korea due to insufficient coverage.\n",
      "This emphasizes the increasing demand for AI-related skills in the job market, reflecting the broader economic impact of artificial intelligence.\n",
      "The full report is set to be released in May 2024, with detailed methodology provided in the appendix.\n",
      "\n",
      "\n",
      "-----------------\n",
      "\n",
      "\n",
      "The document presents the \"Artificial Intelligence Index Report 2024,\" focusing on the landscape of AI research and development.\n",
      "It highlights the distribution of AI publications across various sectors and geographic areas, with notable contributions from the United States, European Union, United Kingdom, and China.\n",
      "The report indicates that the majority of AI publications come from the non-profit sector, followed by government and industry.\n",
      "It emphasizes the growing importance of AI in various fields, reflecting a significant increase in research output.\n",
      "Additionally, the report discusses the technical performance of AI, particularly in language capabilities, showcasing trends in multiple-choice tasks on the TruthfulQA benchmark from 2021 to 2023.\n",
      "The performance metric MC1 shows a gradual increase, indicating improvements in AI language understanding over the years.\n",
      "\n",
      "Furthermore, the report addresses advancements in AI coding capabilities and the need for improved benchmarking of these models.\n",
      "It introduces SWE-bench, a new dataset containing 2,294 software engineering problems derived from real GitHub issues and popular Python repositories, aimed at providing a more challenging assessment of AI models' coding proficiency.\n",
      "The data highlights the performance of various AI models, including ChatGPT and Claude, in resolving coding tasks, emphasizing the importance of evaluating AI systems on increasingly difficult tasks to gauge their effectiveness.\n",
      "The findings are sourced from the Center for Security and Emerging Technology and \"Papers with Code,\" underscoring their relevance in understanding global AI trends.\n",
      "\n",
      "Additionally, the report references the \"Global State of Responsible AI Report 2024,\" which highlights the operationalization of mitigation measures across different regions and industries.\n",
      "It notes variations in the implementation of these measures, although not all differences are statistically significant.\n",
      "The survey assesses the adoption of AI technologies by organizations, including their use, development, modification, or resale of both generative and nongenerative AI.\n",
      "Respondents also reported additional mitigations through a free-text option, indicating a broader range of strategies being considered for responsible AI practices.\n",
      "\n",
      "The report discusses trends in AI hiring rates across various geographic regions for 2023, highlighting significant differences in growth.\n",
      "It presents a year-over-year ratio of AI hiring, indicating that countries like Chile and South Africa have lower rates compared to nations like Singapore and Hong Kong.\n",
      "The data, sourced from LinkedIn, focuses on areas with a minimum of 10 AI hires per month, excluding some large labor markets like India and South Korea due to insufficient coverage.\n",
      "This emphasizes the increasing demand for AI-related skills in the job market, reflecting the broader economic impact of artificial intelligence.\n",
      "\n",
      "Moreover, the report highlights a significant disparity in private investment in generative AI across different regions from 2019 to 2023.\n",
      "In 2022, the United States invested approximately $1.\n",
      "9 billion more in generative AI than the combined investments of the European Union and the United Kingdom.\n",
      "By 2023, this investment gap increased dramatically to $21.\n",
      "1 billion, underscoring the U.S.'s dominant position in the generative AI sector.\n",
      "The full report is set to be released in May 2024, with detailed methodology provided in the appendix.\n",
      "\n",
      "\n",
      "-----------------\n",
      "\n",
      "\n",
      "The document presents the \"Artificial Intelligence Index Report 2024,\" focusing on the landscape of AI research and development.\n",
      "It highlights the distribution of AI publications across various sectors and geographic areas, with notable contributions from the United States, European Union, United Kingdom, and China.\n",
      "The report indicates that the majority of AI publications come from the non-profit sector, followed by government and industry.\n",
      "It emphasizes the growing importance of AI in various fields, reflecting a significant increase in research output.\n",
      "Additionally, the report discusses the technical performance of AI, particularly in language capabilities, showcasing trends in multiple-choice tasks on the TruthfulQA benchmark from 2021 to 2023.\n",
      "The performance metric MC1 shows a gradual increase, indicating improvements in AI language understanding over the years.\n",
      "\n",
      "Furthermore, the report addresses advancements in AI coding capabilities and the need for improved benchmarking of these models.\n",
      "It introduces SWE-bench, a new dataset containing 2,294 software engineering problems derived from real GitHub issues and popular Python repositories, aimed at providing a more challenging assessment of AI models' coding proficiency.\n",
      "The data highlights the performance of various AI models, including ChatGPT and Claude, in resolving coding tasks, emphasizing the importance of evaluating AI systems on increasingly difficult tasks to gauge their effectiveness.\n",
      "The findings are sourced from the Center for Security and Emerging Technology and \"Papers with Code,\" underscoring their relevance in understanding global AI trends.\n",
      "\n",
      "Additionally, the report references the \"Global State of Responsible AI Report 2024,\" which highlights the operationalization of mitigation measures across different regions and industries.\n",
      "It notes variations in the implementation of these measures, although not all differences are statistically significant.\n",
      "The survey assesses the adoption of AI technologies by organizations, including their use, development, modification, or resale of both generative and nongenerative AI.\n",
      "Respondents also reported additional mitigations through a free-text option, indicating a broader range of strategies being considered for responsible AI practices.\n",
      "\n",
      "The report discusses trends in AI hiring rates across various geographic regions for 2023, highlighting significant differences in growth.\n",
      "It presents a year-over-year ratio of AI hiring, indicating that countries like Chile and South Africa have lower rates compared to nations like Singapore and Hong Kong.\n",
      "The data, sourced from LinkedIn, focuses on areas with a minimum of 10 AI hires per month, excluding some large labor markets like India and South Korea due to insufficient coverage.\n",
      "This emphasizes the increasing demand for AI-related skills in the job market, reflecting the broader economic impact of artificial intelligence.\n",
      "\n",
      "Moreover, the report highlights a significant disparity in private investment in generative AI across different regions from 2019 to 2023.\n",
      "In 2022, the United States invested approximately $1.\n",
      "9 billion more in generative AI than the combined investments of the European Union and the United Kingdom.\n",
      "By 2023, this investment gap increased dramatically to $21.\n",
      "1 billion, underscoring the U.S.'s dominant position in the generative AI sector.\n",
      "\n",
      "Additionally, the report discusses trends in new graduates in informatics, computer science (CS), computer engineering (CE), and information technology (IT) across various European countries from 2012 to 2022.\n",
      "Finland, Norway, and the Netherlands are highlighted as leading countries in producing new bachelor’s graduates in these fields on a per capita basis.\n",
      "This data, sourced from Informatics Europe, is presented in the context of the 2024 AI Index Report, indicating a growing emphasis on AI and related educational programs in Europe.\n",
      "The full report is set to be released in May 2024, with detailed methodology provided in the appendix.\n",
      "\n",
      "\n",
      "-----------------\n",
      "\n",
      "\n",
      "The document presents the \"Artificial Intelligence Index Report 2024,\" focusing on the landscape of AI research and development.\n",
      "It highlights the distribution of AI publications across various sectors and geographic areas, with notable contributions from the United States, European Union, United Kingdom, and China.\n",
      "The report indicates that the majority of AI publications come from the non-profit sector, followed by government and industry.\n",
      "It emphasizes the growing importance of AI in various fields, reflecting a significant increase in research output.\n",
      "Additionally, the report discusses the technical performance of AI, particularly in language capabilities, showcasing trends in multiple-choice tasks on the TruthfulQA benchmark from 2021 to 2023.\n",
      "The performance metric MC1 shows a gradual increase, indicating improvements in AI language understanding over the years.\n",
      "\n",
      "Furthermore, the report addresses advancements in AI coding capabilities and the need for improved benchmarking of these models.\n",
      "It introduces SWE-bench, a new dataset containing 2,294 software engineering problems derived from real GitHub issues and popular Python repositories, aimed at providing a more challenging assessment of AI models' coding proficiency.\n",
      "The data highlights the performance of various AI models, including ChatGPT and Claude, in resolving coding tasks, emphasizing the importance of evaluating AI systems on increasingly difficult tasks to gauge their effectiveness.\n",
      "The findings are sourced from the Center for Security and Emerging Technology and \"Papers with Code,\" underscoring their relevance in understanding global AI trends.\n",
      "\n",
      "Additionally, the report references the \"Global State of Responsible AI Report 2024,\" which highlights the operationalization of mitigation measures across different regions and industries.\n",
      "It notes variations in the implementation of these measures, although not all differences are statistically significant.\n",
      "The survey assesses the adoption of AI technologies by organizations, including their use, development, modification, or resale of both generative and nongenerative AI.\n",
      "Respondents also reported additional mitigations through a free-text option, indicating a broader range of strategies being considered for responsible AI practices.\n",
      "\n",
      "The report discusses trends in AI hiring rates across various geographic regions for 2023, highlighting significant differences in growth.\n",
      "It presents a year-over-year ratio of AI hiring, indicating that countries like Chile and South Africa have lower rates compared to nations like Singapore and Hong Kong.\n",
      "The data, sourced from LinkedIn, focuses on areas with a minimum of 10 AI hires per month, excluding some large labor markets like India and South Korea due to insufficient coverage.\n",
      "This emphasizes the increasing demand for AI-related skills in the job market, reflecting the broader economic impact of artificial intelligence.\n",
      "\n",
      "Moreover, the report highlights a significant disparity in private investment in generative AI across different regions from 2019 to 2023.\n",
      "In 2022, the United States invested approximately $1.\n",
      "9 billion more in generative AI than the combined investments of the European Union and the United Kingdom.\n",
      "By 2023, this investment gap increased dramatically to $21.\n",
      "1 billion, underscoring the U.S.'s dominant position in the generative AI sector.\n",
      "\n",
      "Additionally, the report discusses trends in new graduates in informatics, computer science (CS), computer engineering (CE), and information technology (IT) across various European countries from 2012 to 2022.\n",
      "Finland, Norway, and the Netherlands are highlighted as leading countries in producing new bachelor’s graduates in these fields on a per capita basis.\n",
      "This data, sourced from Informatics Europe, is presented in the context of the 2024 AI Index Report, indicating a growing emphasis on AI and related educational programs in Europe.\n",
      "\n",
      "The document also discusses the intersection of artificial intelligence (AI) and policymaking, highlighting the importance of governance in the AI sector.\n",
      "It presents data on the number of AI-related bills introduced and passed into law across 28 selected countries from 2016 to 2023, emphasizing the growing legislative focus on AI and indicating a trend towards more structured and regulated approaches to AI development and implementation.\n",
      "The full report is set to be released in May 2024, with detailed methodology provided in the appendix.\n",
      "\n",
      "\n",
      "-----------------\n",
      "\n",
      "\n",
      "The document presents the \"Artificial Intelligence Index Report 2024,\" focusing on the landscape of AI research and development.\n",
      "It highlights the distribution of AI publications across various sectors and geographic areas, with notable contributions from the United States, European Union, United Kingdom, and China.\n",
      "The report indicates that the majority of AI publications come from the non-profit sector, followed by government and industry.\n",
      "It emphasizes the growing importance of AI in various fields, reflecting a significant increase in research output.\n",
      "Additionally, the report discusses the technical performance of AI, particularly in language capabilities, showcasing trends in multiple-choice tasks on the TruthfulQA benchmark from 2021 to 2023.\n",
      "The performance metric MC1 shows a gradual increase, indicating improvements in AI language understanding over the years.\n",
      "\n",
      "Furthermore, the report addresses advancements in AI coding capabilities and the need for improved benchmarking of these models.\n",
      "It introduces SWE-bench, a new dataset containing 2,294 software engineering problems derived from real GitHub issues and popular Python repositories, aimed at providing a more challenging assessment of AI models' coding proficiency.\n",
      "The data highlights the performance of various AI models, including ChatGPT and Claude, in resolving coding tasks, emphasizing the importance of evaluating AI systems on increasingly difficult tasks to gauge their effectiveness.\n",
      "The findings are sourced from the Center for Security and Emerging Technology and \"Papers with Code,\" underscoring their relevance in understanding global AI trends.\n",
      "\n",
      "Additionally, the report references the \"Global State of Responsible AI Report 2024,\" which highlights the operationalization of mitigation measures across different regions and industries.\n",
      "It notes variations in the implementation of these measures, although not all differences are statistically significant.\n",
      "The survey assesses the adoption of AI technologies by organizations, including their use, development, modification, or resale of both generative and nongenerative AI.\n",
      "Respondents also reported additional mitigations through a free-text option, indicating a broader range of strategies being considered for responsible AI practices.\n",
      "\n",
      "The report discusses trends in AI hiring rates across various geographic regions for 2023, highlighting significant differences in growth.\n",
      "It presents a year-over-year ratio of AI hiring, indicating that countries like Chile and South Africa have lower rates compared to nations like Singapore and Hong Kong.\n",
      "The data, sourced from LinkedIn, focuses on areas with a minimum of 10 AI hires per month, excluding some large labor markets like India and South Korea due to insufficient coverage.\n",
      "This emphasizes the increasing demand for AI-related skills in the job market, reflecting the broader economic impact of artificial intelligence.\n",
      "\n",
      "Moreover, the report highlights a significant disparity in private investment in generative AI across different regions from 2019 to 2023.\n",
      "In 2022, the United States invested approximately $1.\n",
      "9 billion more in generative AI than the combined investments of the European Union and the United Kingdom.\n",
      "By 2023, this investment gap increased dramatically to $21.\n",
      "1 billion, underscoring the U.S.'s dominant position in the generative AI sector.\n",
      "\n",
      "Additionally, the report discusses trends in new graduates in informatics, computer science (CS), computer engineering (CE), and information technology (IT) across various European countries from 2012 to 2022.\n",
      "Finland, Norway, and the Netherlands are highlighted as leading countries in producing new bachelor’s graduates in these fields on a per capita basis.\n",
      "This data, sourced from Informatics Europe, is presented in the context of the 2024 AI Index Report, indicating a growing emphasis on AI and related educational programs in Europe.\n",
      "\n",
      "The document also discusses the intersection of artificial intelligence (AI) and policymaking, highlighting the importance of governance in the AI sector.\n",
      "It presents data on the number of AI-related bills introduced and passed into law across 28 selected countries from 2016 to 2023, emphasizing the growing legislative focus on AI and indicating a trend towards more structured and regulated approaches to AI development and implementation.\n",
      "Additionally, the report analyzes public investment in AI in the United States, utilizing data from the U.S.\n",
      "government and Govini.\n",
      "It highlights the trend of federal funding for AI through the National Coordination Office for Networking and Information Technology Research and Development (NITRD) from fiscal year 2018 to the requested budget for fiscal year 2024, indicating a steady increase in the federal budget allocated for AI, reflecting growing governmental interest and investment in this technology sector.\n",
      "The full report is set to be released in May 2024, with detailed methodology provided in the appendix.\n",
      "\n",
      "\n",
      "-----------------\n",
      "\n",
      "\n",
      "The document presents the \"Artificial Intelligence Index Report 2024,\" focusing on the landscape of AI research and development.\n",
      "It highlights the distribution of AI publications across various sectors and geographic areas, with notable contributions from the United States, European Union, United Kingdom, and China.\n",
      "The report indicates that the majority of AI publications come from the non-profit sector, followed by government and industry.\n",
      "It emphasizes the growing importance of AI in various fields, reflecting a significant increase in research output.\n",
      "Additionally, the report discusses the technical performance of AI, particularly in language capabilities, showcasing trends in multiple-choice tasks on the TruthfulQA benchmark from 2021 to 2023.\n",
      "The performance metric MC1 shows a gradual increase, indicating improvements in AI language understanding over the years.\n",
      "\n",
      "Furthermore, the report addresses advancements in AI coding capabilities and the need for improved benchmarking of these models.\n",
      "It introduces SWE-bench, a new dataset containing 2,294 software engineering problems derived from real GitHub issues and popular Python repositories, aimed at providing a more challenging assessment of AI models' coding proficiency.\n",
      "The data highlights the performance of various AI models, including ChatGPT and Claude, in resolving coding tasks, emphasizing the importance of evaluating AI systems on increasingly difficult tasks to gauge their effectiveness.\n",
      "The findings are sourced from the Center for Security and Emerging Technology and \"Papers with Code,\" underscoring their relevance in understanding global AI trends.\n",
      "\n",
      "Additionally, the report references the \"Global State of Responsible AI Report 2024,\" which highlights the operationalization of mitigation measures across different regions and industries.\n",
      "It notes variations in the implementation of these measures, although not all differences are statistically significant.\n",
      "The survey assesses the adoption of AI technologies by organizations, including their use, development, modification, or resale of both generative and nongenerative AI.\n",
      "Respondents also reported additional mitigations through a free-text option, indicating a broader range of strategies being considered for responsible AI practices.\n",
      "\n",
      "The report discusses trends in AI hiring rates across various geographic regions for 2023, highlighting significant differences in growth.\n",
      "It presents a year-over-year ratio of AI hiring, indicating that countries like Chile and South Africa have lower rates compared to nations like Singapore and Hong Kong.\n",
      "The data, sourced from LinkedIn, focuses on areas with a minimum of 10 AI hires per month, excluding some large labor markets like India and South Korea due to insufficient coverage.\n",
      "This emphasizes the increasing demand for AI-related skills in the job market, reflecting the broader economic impact of artificial intelligence.\n",
      "\n",
      "Moreover, the report highlights a significant disparity in private investment in generative AI across different regions from 2019 to 2023.\n",
      "In 2022, the United States invested approximately $1.\n",
      "9 billion more in generative AI than the combined investments of the European Union and the United Kingdom.\n",
      "By 2023, this investment gap increased dramatically to $21.\n",
      "1 billion, underscoring the U.S.'s dominant position in the generative AI sector.\n",
      "\n",
      "Additionally, the report discusses trends in new graduates in informatics, computer science (CS), computer engineering (CE), and information technology (IT) across various European countries from 2012 to 2022.\n",
      "Finland, Norway, and the Netherlands are highlighted as leading countries in producing new bachelor’s graduates in these fields on a per capita basis.\n",
      "The document also presents data on the growth of CS bachelor’s graduates in the United States and Canada from 2010 to 2022, noting significant increases among various ethnic groups.\n",
      "Hispanic CS graduates have increased by 4.\n",
      "7 times, while African American graduates have grown by 2.\n",
      "5 times over the past decade, and the proportion of Asian graduates has doubled, indicating a rapid rise in this demographic among CS bachelor’s graduates.\n",
      "This data is sourced from the Computing Research Association’s annual Taulbee Survey, which tracks trends in postsecondary CS and AI education.\n",
      "\n",
      "The document also discusses the intersection of artificial intelligence (AI) and policymaking, highlighting the importance of governance in the AI sector.\n",
      "It presents data on the number of AI-related bills introduced and passed into law across 28 selected countries from 2016 to 2023, emphasizing the growing legislative focus on AI and indicating a trend towards more structured and regulated approaches to AI development and implementation.\n",
      "\n",
      "Additionally, the report analyzes public investment in AI in the United States, utilizing data from the U.S.\n",
      "government and Govini.\n",
      "It highlights the trend of federal funding for AI through the National Coordination Office for Networking and Information Technology Research and Development (NITRD) from fiscal year 2018 to the requested budget for fiscal year 2024, indicating a steady increase in the federal budget allocated for AI, reflecting growing governmental interest and investment in this technology sector.\n",
      "The full report is set to be released in May 2024, with detailed methodology provided in the appendix.\n",
      "\n",
      "\n",
      "-----------------\n",
      "\n",
      "\n",
      "\n",
      "========== Final Refined Summary ==========\n",
      "\n",
      "The document presents the \"Artificial Intelligence Index Report 2024,\" focusing on the landscape of AI research and development. It highlights the distribution of AI publications across various sectors and geographic areas, with notable contributions from the United States, European Union, United Kingdom, and China. The report indicates that the majority of AI publications come from the non-profit sector, followed by government and industry. It emphasizes the growing importance of AI in various fields, reflecting a significant increase in research output. Additionally, the report discusses the technical performance of AI, particularly in language capabilities, showcasing trends in multiple-choice tasks on the TruthfulQA benchmark from 2021 to 2023. The performance metric MC1 shows a gradual increase, indicating improvements in AI language understanding over the years.\n",
      "\n",
      "Furthermore, the report addresses advancements in AI coding capabilities and the need for improved benchmarking of these models. It introduces SWE-bench, a new dataset containing 2,294 software engineering problems derived from real GitHub issues and popular Python repositories, aimed at providing a more challenging assessment of AI models' coding proficiency. The data highlights the performance of various AI models, including ChatGPT and Claude, in resolving coding tasks, emphasizing the importance of evaluating AI systems on increasingly difficult tasks to gauge their effectiveness. The findings are sourced from the Center for Security and Emerging Technology and \"Papers with Code,\" underscoring their relevance in understanding global AI trends.\n",
      "\n",
      "Additionally, the report references the \"Global State of Responsible AI Report 2024,\" which highlights the operationalization of mitigation measures across different regions and industries. It notes variations in the implementation of these measures, although not all differences are statistically significant. The survey assesses the adoption of AI technologies by organizations, including their use, development, modification, or resale of both generative and nongenerative AI. Respondents also reported additional mitigations through a free-text option, indicating a broader range of strategies being considered for responsible AI practices.\n",
      "\n",
      "The report discusses trends in AI hiring rates across various geographic regions for 2023, highlighting significant differences in growth. It presents a year-over-year ratio of AI hiring, indicating that countries like Chile and South Africa have lower rates compared to nations like Singapore and Hong Kong. The data, sourced from LinkedIn, focuses on areas with a minimum of 10 AI hires per month, excluding some large labor markets like India and South Korea due to insufficient coverage. This emphasizes the increasing demand for AI-related skills in the job market, reflecting the broader economic impact of artificial intelligence.\n",
      "\n",
      "Moreover, the report highlights a significant disparity in private investment in generative AI across different regions from 2019 to 2023. In 2022, the United States invested approximately $1.9 billion more in generative AI than the combined investments of the European Union and the United Kingdom. By 2023, this investment gap increased dramatically to $21.1 billion, underscoring the U.S.'s dominant position in the generative AI sector.\n",
      "\n",
      "Additionally, the report discusses trends in new graduates in informatics, computer science (CS), computer engineering (CE), and information technology (IT) across various European countries from 2012 to 2022. Finland, Norway, and the Netherlands are highlighted as leading countries in producing new bachelor’s graduates in these fields on a per capita basis. The document also presents data on the growth of CS bachelor’s graduates in the United States and Canada from 2010 to 2022, noting significant increases among various ethnic groups. Hispanic CS graduates have increased by 4.7 times, while African American graduates have grown by 2.5 times over the past decade, and the proportion of Asian graduates has doubled, indicating a rapid rise in this demographic among CS bachelor’s graduates. This data is sourced from the Computing Research Association’s annual Taulbee Survey, which tracks trends in postsecondary CS and AI education.\n",
      "\n",
      "The document also discusses the intersection of artificial intelligence (AI) and policymaking, highlighting the importance of governance in the AI sector. It presents data on the number of AI-related bills introduced and passed into law across 28 selected countries from 2016 to 2023, emphasizing the growing legislative focus on AI and indicating a trend towards more structured and regulated approaches to AI development and implementation.\n",
      "\n",
      "Additionally, the report analyzes public investment in AI in the United States, utilizing data from the U.S. government and Govini. It highlights the trend of federal funding for AI through the National Coordination Office for Networking and Information Technology Research and Development (NITRD) from fiscal year 2018 to the requested budget for fiscal year 2024, indicating a steady increase in the federal budget allocated for AI, reflecting growing governmental interest and investment in this technology sector. The full report is set to be released in May 2024, with detailed methodology provided in the appendix.\n"
     ]
    }
   ],
   "source": [
    "# Generate a refined summary using the Map-Refine Chain\n",
    "refined_summary = map_refine_chain.invoke(selected_docs)\n",
    "\n",
    "# Print the final refined summary\n",
    "print(\"\\n========== Final Refined Summary ==========\\n\")\n",
    "print(refined_summary)"
   ]
  }
 ],
 "metadata": {
  "kernelspec": {
   "display_name": "langchain-opentutorial-bMU5IxA3-py3.11",
   "language": "python",
   "name": "python3"
  },
  "language_info": {
   "codemirror_mode": {
    "name": "ipython",
    "version": 3
   },
   "file_extension": ".py",
   "mimetype": "text/x-python",
   "name": "python",
   "nbconvert_exporter": "python",
   "pygments_lexer": "ipython3",
   "version": "3.11.11"
  }
 },
 "nbformat": 4,
 "nbformat_minor": 5
}
