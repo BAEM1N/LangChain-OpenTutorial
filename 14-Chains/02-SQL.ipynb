{
  "cells": [
    {
      "cell_type": "markdown",
      "metadata": {},
      "source": [
        "# SQL\n",
        "\n",
        "- Author: [Jinu Cho](https://github.com/jinucho)\n",
        "- Peer Review: \n",
        "- Proofread:\n",
        "- This is a part of [LangChain Open Tutorial](https://github.com/LangChain-OpenTutorial/LangChain-OpenTutorial)\n",
        "\n",
        "[![Open in Colab](https://colab.research.google.com/assets/colab-badge.svg)](https://colab.research.google.com/github/LangChain-OpenTutorial/LangChain-OpenTutorial/blob/main/14-Chains/02-SQL.ipynb) [![Open in GitHub](https://img.shields.io/badge/Open%20in%20GitHub-181717?style=flat-square&logo=github&logoColor=white)](https://github.com/LangChain-OpenTutorial/LangChain-OpenTutorial/blob/main/14-Chains/02-SQL.ipynb)\n",
        "\n",
        "## Overview\n",
        "\n",
        "This tutorial covers how to use ```create_sql_query_chain``` to generate SQL queries, execute them, and derive answers. \n",
        "\n",
        "Additionally, let's explore the differences in operation between this method and the SQL Agent.\n",
        "\n",
        "### Table of Contents\n",
        "\n",
        "- [Overview](#overview)\n",
        "- [Environment Setup](#environment-setup)\n",
        "- [Load SQL Database](#load-sql-database)\n",
        "- [SQL generate chain](#sql-generate-chain)\n",
        "- [Using SQL generating chain with an Agent](#using-sql-generating-chain-with-an-agent)\n",
        "- [Appendix : Chain with gpt-4o and a Post-Processing Function](#appendix--chain-with-gpt-4o-and-a-post-processing-function)                                                                \n",
        "\n",
        "### References\n",
        "- [SQLDatabase](https://python.langchain.com/api_reference/community/utilities/langchain_community.utilities.sql_database.SQLDatabase.html#sqldatabase)\n",
        "- [SQL_query_chain](https://python.langchain.com/api_reference/langchain/chains/langchain.chains.sql_database.query.create_sql_query_chain.html)\n",
        "- [SQL_agent](https://python.langchain.com/api_reference/community/agent_toolkits/langchain_community.agent_toolkits.sql.base.create_sql_agent.html)\n",
        "---"
      ]
    },
    {
      "cell_type": "markdown",
      "metadata": {},
      "source": [
        "## Environment Setup\n",
        "\n",
        "Setting up your environment is the first step. See the [Environment Setup](https://wikidocs.net/257836) guide for more details.\n",
        "\n",
        "\n",
        "**[Note]**\n",
        "\n",
        "The langchain-opentutorial is a package of easy-to-use environment setup guidance, useful functions and utilities for tutorials.\n",
        "Check out the  [`langchain-opentutorial`](https://github.com/LangChain-OpenTutorial/langchain-opentutorial-pypi) for more details."
      ]
    },
    {
      "cell_type": "code",
<<<<<<< HEAD
      "execution_count": 1,
=======
      "execution_count": 4,
>>>>>>> origin/weeks3
      "metadata": {},
      "outputs": [],
      "source": [
        "%%capture --no-stderr\n",
        "%pip install langchain-opentutorial"
      ]
    },
    {
      "cell_type": "code",
<<<<<<< HEAD
      "execution_count": 2,
=======
      "execution_count": 5,
>>>>>>> origin/weeks3
      "metadata": {},
      "outputs": [],
      "source": [
        "# Install required packages\n",
        "from langchain_opentutorial import package\n",
        "\n",
        "package.install(\n",
        "    [\n",
        "        \"langsmith\",\n",
        "        \"langchain\",\n",
        "        \"langchain_openai\",\n",
        "    ],\n",
        "    verbose=False,\n",
        "    upgrade=False,\n",
        ")"
      ]
    },
    {
      "cell_type": "markdown",
      "metadata": {},
      "source": [
        "You can alternatively set ```OPENAI_API_KEY``` in ```.env``` file and load it. \n",
        "\n",
        "[Note] This is not necessary if you've already set ```OPENAI_API_KEY``` in previous steps."
      ]
    },
    {
      "cell_type": "code",
<<<<<<< HEAD
      "execution_count": 3,
=======
      "execution_count": 6,
>>>>>>> origin/weeks3
      "metadata": {},
      "outputs": [
        {
          "name": "stdout",
          "output_type": "stream",
          "text": [
            "Environment variables have been set successfully.\n"
          ]
        }
      ],
      "source": [
        "# Set environment variables\n",
        "from langchain_opentutorial import set_env\n",
        "\n",
        "set_env(\n",
        "    {\n",
        "        # \"OPENAI_API_KEY\": \"\",\n",
        "        # \"LANGCHAIN_API_KEY\": \"\",\n",
        "        \"LANGCHAIN_TRACING_V2\": \"true\",\n",
        "        \"LANGCHAIN_ENDPOINT\": \"https://api.smith.langchain.com\",\n",
        "        \"LANGCHAIN_PROJECT\": \"02-SQL\",\n",
        "    }\n",
        ")"
      ]
    },
    {
      "cell_type": "code",
<<<<<<< HEAD
      "execution_count": 4,
=======
      "execution_count": 7,
>>>>>>> origin/weeks3
      "metadata": {},
      "outputs": [
        {
          "data": {
            "text/plain": [
              "True"
            ]
          },
<<<<<<< HEAD
          "execution_count": 4,
=======
          "execution_count": 7,
>>>>>>> origin/weeks3
          "metadata": {},
          "output_type": "execute_result"
        }
      ],
      "source": [
        "# Load environment variables\n",
        "# Reload any variables that need to be overwritten from the previous cell\n",
        "\n",
        "from dotenv import load_dotenv\n",
        "\n",
        "load_dotenv(override=True)"
      ]
    },
    {
      "cell_type": "markdown",
      "metadata": {},
      "source": [
        "## Load SQL Database\n",
        "\n",
        "Load and verify the sample database data."
      ]
    },
    {
      "cell_type": "code",
<<<<<<< HEAD
      "execution_count": 5,
=======
      "execution_count": 8,
>>>>>>> origin/weeks3
      "metadata": {},
      "outputs": [
        {
          "name": "stdout",
          "output_type": "stream",
          "text": [
            "sqlite\n",
            "['accounts', 'customers', 'transactions']\n"
          ]
        }
      ],
      "source": [
        "from langchain_openai import ChatOpenAI\n",
        "from langchain.chains import create_sql_query_chain\n",
        "from langchain_community.utilities import SQLDatabase\n",
        "\n",
        "# Connect to the SQLite database.\n",
        "db = SQLDatabase.from_uri(\"sqlite:///data/finance.db\")\n",
        "\n",
        "# Output the database dialect.\n",
        "print(db.dialect)\n",
        "\n",
        "# Output the available table names.\n",
        "print(db.get_usable_table_names())"
      ]
    },
    {
      "cell_type": "markdown",
      "metadata": {},
      "source": [
        "## SQL generate chain"
      ]
    },
    {
      "cell_type": "markdown",
      "metadata": {},
      "source": [
        "[RECOMMED] Create an LLM object and generate a chain by providing the LLM and DB as parameters.\n",
        "\n",
        "Since changing the model may cause unexpected behavior, this tutorial will proceed with **gpt-3.5-turbo** ."
      ]
    },
    {
      "cell_type": "code",
<<<<<<< HEAD
      "execution_count": 6,
=======
      "execution_count": 14,
>>>>>>> origin/weeks3
      "metadata": {},
      "outputs": [],
      "source": [
        "# Create an OpenAI LLM\n",
        "llm = ChatOpenAI(model=\"gpt-3.5-turbo\", temperature=0)\n",
        "\n",
        "# Generate a chain by providing the LLM and DB as parameters.\n",
        "chain = create_sql_query_chain(\n",
        "    llm=llm, db=db, k=10\n",
        ")  # k(for query Limit)'s default value is 5"
      ]
    },
    {
      "cell_type": "code",
<<<<<<< HEAD
      "execution_count": 7,
=======
      "execution_count": 15,
>>>>>>> origin/weeks3
      "metadata": {},
      "outputs": [
        {
          "name": "stdout",
          "output_type": "stream",
          "text": [
            "You are a SQLite expert. Given an input question, first create a syntactically correct SQLite query to run, then look at the results of the query and return the answer to the input question.\n",
            "Unless the user specifies in the question a specific number of examples to obtain, query for at most {top_k} results using the LIMIT clause as per SQLite. You can order the results to return the most informative data in the database.\n",
            "Never query for all columns from a table. You must query only the columns that are needed to answer the question. Wrap each column name in double quotes (\") to denote them as delimited identifiers.\n",
            "Pay attention to use only the column names you can see in the tables below. Be careful to not query for columns that do not exist. Also, pay attention to which column is in which table.\n",
            "Pay attention to use date('now') function to get the current date, if the question involves \"today\".\n",
            "\n",
            "Use the following format:\n",
            "\n",
            "Question: Question here\n",
            "SQLQuery: SQL Query to run\n",
            "SQLResult: Result of the SQLQuery\n",
            "Answer: Final answer here\n",
            "\n",
            "Only use the following tables:\n",
            "{table_info}\n",
            "\n",
            "Question: {input}\n"
          ]
        }
      ],
      "source": [
        "# Check the default prompt\n",
        "print(chain.get_prompts()[0].template)"
      ]
    },
    {
      "cell_type": "code",
<<<<<<< HEAD
      "execution_count": 8,
=======
      "execution_count": 16,
>>>>>>> origin/weeks3
      "metadata": {},
      "outputs": [
        {
          "data": {
            "text/plain": [
              "'SELECT \"name\" FROM customers;'"
            ]
          },
<<<<<<< HEAD
          "execution_count": 8,
=======
          "execution_count": 16,
>>>>>>> origin/weeks3
          "metadata": {},
          "output_type": "execute_result"
        }
      ],
      "source": [
        "chain.invoke({\"question\": \"List the all customer names.\"})"
      ]
    },
    {
      "cell_type": "markdown",
      "metadata": {},
      "source": [
        "### If the latest version is used?\n",
        "\n",
        "Using the latest version of OpenAI's LLM may cause issues with the output."
      ]
    },
    {
      "cell_type": "code",
<<<<<<< HEAD
      "execution_count": 9,
=======
      "execution_count": 17,
>>>>>>> origin/weeks3
      "metadata": {},
      "outputs": [],
      "source": [
        "# Create an OpenAI LLM\n",
        "llm = ChatOpenAI(model=\"gpt-4o-mini\", temperature=0)\n",
        "\n",
        "# Generate a chain by providing the LLM and DB as parameters.\n",
        "bad_case_chain = create_sql_query_chain(\n",
        "    llm=llm, db=db, k=10\n",
        ")  # k(for query Limit)'s default values is 5"
      ]
    },
    {
      "cell_type": "markdown",
      "metadata": {},
      "source": [
        "Unnecessary information, such as **'SQLQuery: '** , is included in the output along with the query."
      ]
    },
    {
      "cell_type": "code",
<<<<<<< HEAD
      "execution_count": 10,
=======
      "execution_count": 18,
>>>>>>> origin/weeks3
      "metadata": {},
      "outputs": [
        {
          "data": {
            "text/plain": [
              "'SQLQuery: SELECT \"name\" FROM customers LIMIT 10;'"
            ]
          },
<<<<<<< HEAD
          "execution_count": 10,
=======
          "execution_count": 18,
>>>>>>> origin/weeks3
          "metadata": {},
          "output_type": "execute_result"
        }
      ],
      "source": [
        "bad_case_chain.invoke({\"question\": \"List the all customer names.\"})"
      ]
    },
    {
      "cell_type": "markdown",
      "metadata": {},
      "source": [
        "(Optional) You can specify the prompt directly using the method below.\n",
        "\n",
        "When writing it yourself, you can include **table_info** along with descriptive **column descriptions** for better explanation."
      ]
    },
    {
      "cell_type": "code",
<<<<<<< HEAD
      "execution_count": 11,
=======
      "execution_count": 19,
>>>>>>> origin/weeks3
      "metadata": {},
      "outputs": [],
      "source": [
        "from langchain_core.prompts import PromptTemplate\n",
        "\n",
        "prompt = PromptTemplate.from_template(\n",
        "    \"\"\"Given an input question, first create a syntactically correct {dialect} query to run, then look at the results of the query and return the answer. \n",
        "    Unless the user specifies in his question a specific number of examples he wishes to obtain, always limit your query to at most {top_k} results. \n",
        "    You can order the results by a relevant column to return the most interesting examples in the database.\n",
        "\n",
        "Use the following format:\n",
        "\n",
        "Question: Question here\n",
        "SQLQuery: SQL Query to run\n",
        "SQLResult: Result of the SQLQuery\n",
        "Answer: Final answer here\n",
        "\n",
        "Only use the following tables:\n",
        "{table_info}\n",
        "\n",
        "Here is the description of the columns in the tables:\n",
        "`cust`: customer name\n",
        "`prod`: product name\n",
        "`trans`: transaction date\n",
        "\n",
        "Question: {input}\n",
        "\"\"\"\n",
        ").partial(dialect=db.dialect)\n",
        "\n",
        "# Create an OpenAI LLM\n",
        "llm = ChatOpenAI(model=\"gpt-3.5-turbo\", temperature=0)\n",
        "\n",
        "# Generate a chain by providing the LLM and DB as parameters.\n",
        "chain = create_sql_query_chain(llm, db, prompt)"
      ]
    },
    {
      "cell_type": "markdown",
      "metadata": {},
      "source": [
        "Executing the chain generates queries based on the database."
      ]
    },
    {
      "cell_type": "code",
<<<<<<< HEAD
      "execution_count": 12,
=======
      "execution_count": 20,
>>>>>>> origin/weeks3
      "metadata": {},
      "outputs": [
        {
          "name": "stdout",
          "output_type": "stream",
          "text": [
            "'SELECT name\\nFROM customers'\n"
          ]
        }
      ],
      "source": [
        "# Execute the chain and display the results.\n",
        "generated_sql_query = chain.invoke({\"question\": \"List the all customer names.\"})\n",
        "\n",
        "# Print the generated query.\n",
        "print(generated_sql_query.__repr__())"
      ]
    },
    {
      "cell_type": "markdown",
      "metadata": {},
      "source": [
        "Let's verify if the generated query executes correctly."
      ]
    },
    {
      "cell_type": "code",
<<<<<<< HEAD
      "execution_count": 13,
=======
      "execution_count": 21,
>>>>>>> origin/weeks3
      "metadata": {},
      "outputs": [],
      "source": [
        "from langchain_community.tools import QuerySQLDatabaseTool\n",
        "\n",
        "# Create a tool to execute the generated query.\n",
        "execute_query = QuerySQLDatabaseTool(db=db)"
      ]
    },
    {
      "cell_type": "code",
<<<<<<< HEAD
      "execution_count": 14,
=======
      "execution_count": 22,
>>>>>>> origin/weeks3
      "metadata": {},
      "outputs": [
        {
          "data": {
            "text/plain": [
              "\"[('Altman',), ('Huang',), ('Zuckerberg',), ('Musk',), ('Hassabis',), ('Chase',)]\""
            ]
          },
<<<<<<< HEAD
          "execution_count": 14,
=======
          "execution_count": 22,
>>>>>>> origin/weeks3
          "metadata": {},
          "output_type": "execute_result"
        }
      ],
      "source": [
        "execute_query.invoke({\"query\": generated_sql_query})"
      ]
    },
    {
      "cell_type": "code",
<<<<<<< HEAD
      "execution_count": 15,
=======
      "execution_count": 23,
>>>>>>> origin/weeks3
      "metadata": {},
      "outputs": [],
      "source": [
        "from langchain_community.tools.sql_database.tool import QuerySQLDatabaseTool\n",
        "\n",
        "# Tool\n",
        "execute_query = QuerySQLDatabaseTool(db=db)\n",
        "\n",
        "# SQL query generation chain\n",
        "write_query = create_sql_query_chain(llm, db, prompt)\n",
        "\n",
        "# Create a chain to execute the generated query.\n",
        "chain = write_query | execute_query"
      ]
    },
    {
      "cell_type": "code",
<<<<<<< HEAD
      "execution_count": 16,
=======
      "execution_count": 24,
>>>>>>> origin/weeks3
      "metadata": {},
      "outputs": [
        {
          "data": {
            "text/plain": [
              "\"[('Sam@example.com',)]\""
            ]
          },
<<<<<<< HEAD
          "execution_count": 16,
=======
          "execution_count": 24,
>>>>>>> origin/weeks3
          "metadata": {},
          "output_type": "execute_result"
        }
      ],
      "source": [
        "# Check the execution result\n",
        "chain.invoke({\"question\": \"Retrieve Altman's email address.\"})"
      ]
    },
    {
      "cell_type": "markdown",
      "metadata": {},
      "source": [
        "### Enhance and generate answers using the LLM\n",
        "\n",
        "Using the chain created in the previous step results in short, concise answers. This can be adjusted using an LCEL-style chain to provide more natural and detailed responses."
      ]
    },
    {
      "cell_type": "code",
<<<<<<< HEAD
      "execution_count": 17,
=======
      "execution_count": 25,
>>>>>>> origin/weeks3
      "metadata": {},
      "outputs": [],
      "source": [
        "from operator import itemgetter\n",
        "from langchain_core.output_parsers import StrOutputParser\n",
        "from langchain_core.prompts import PromptTemplate\n",
        "from langchain_core.runnables import RunnablePassthrough\n",
        "\n",
        "# Define the prompt for generating answers\n",
        "answer_prompt = PromptTemplate.from_template(\n",
        "    \"\"\"Given the following user question, corresponding SQL query, and SQL result, answer the user question.\n",
        "\n",
        "Question: {question}\n",
        "SQL Query: {query}\n",
        "SQL Result: {result}\n",
        "Answer: \"\"\"\n",
        ")\n",
        "\n",
        "# Create a pipeline for generating natural answers\n",
        "answer = answer_prompt | llm | StrOutputParser()\n",
        "\n",
        "# Create a chain to execute the generated query and produce an answer\n",
        "chain = (\n",
        "    RunnablePassthrough.assign(query=write_query).assign(\n",
        "        result=itemgetter(\"query\") | execute_query\n",
        "    )\n",
        "    | answer\n",
        ")"
      ]
    },
    {
      "cell_type": "code",
<<<<<<< HEAD
      "execution_count": 18,
=======
      "execution_count": 26,
>>>>>>> origin/weeks3
      "metadata": {},
      "outputs": [
        {
          "data": {
            "text/plain": [
              "\"The total of Altman's transactions is -965.7.\""
            ]
          },
<<<<<<< HEAD
          "execution_count": 18,
=======
          "execution_count": 26,
>>>>>>> origin/weeks3
          "metadata": {},
          "output_type": "execute_result"
        }
      ],
      "source": [
        "# Check the execution result\n",
        "chain.invoke({\"question\": \"Calculate the total of Altman's transactions.\"})"
      ]
    },
    {
      "cell_type": "markdown",
      "metadata": {},
      "source": [
        "## Using SQL generating chain with an Agent"
      ]
    },
    {
      "cell_type": "markdown",
      "metadata": {},
      "source": [
        "### What is ```agent_toolkits``` ?\n",
        "\n",
        "```agent_toolkits``` in LangChain is a collection of tools designed to simplify the creation and use of Agents optimized for specific domains or use cases. \n",
        "\n",
        "Each toolkit encapsulates the functionality and workflows needed for specific tasks (e.g., SQL query processing, file system operations, API calls), enabling developers to perform complex tasks with ease."
      ]
    },
    {
      "cell_type": "markdown",
      "metadata": {},
      "source": [
        "Using an Agent, you can generate SQL queries and output the results as answers.\n",
        "\n",
        "Agents work well with models like **gpt-4o** and **gpt-4o-mini**, in contrast to the issues encountered with chains when changing the model."
      ]
    },
    {
      "cell_type": "code",
<<<<<<< HEAD
      "execution_count": 19,
=======
      "execution_count": 29,
>>>>>>> origin/weeks3
      "metadata": {},
      "outputs": [],
      "source": [
        "from langchain_openai import ChatOpenAI\n",
        "from langchain_community.utilities import SQLDatabase\n",
        "from langchain_community.agent_toolkits import create_sql_agent\n",
        "\n",
<<<<<<< HEAD
=======
        "# Specify the model as gpt-3.5-turbo\n",
>>>>>>> origin/weeks3
        "llm = ChatOpenAI(model=\"gpt-4o-mini\", temperature=0)\n",
        "\n",
        "# Connect to the SQLite database\n",
        "db = SQLDatabase.from_uri(\"sqlite:///data/finance.db\")\n",
        "\n",
        "# Create the Agent\n",
        "agent_executor = create_sql_agent(llm, db=db, agent_type=\"openai-tools\", verbose=True)"
      ]
    },
    {
      "cell_type": "code",
<<<<<<< HEAD
      "execution_count": 20,
=======
      "execution_count": 30,
>>>>>>> origin/weeks3
      "metadata": {},
      "outputs": [
        {
          "name": "stdout",
          "output_type": "stream",
          "text": [
            "\n",
            "\n",
            "\u001b[1m> Entering new SQL Agent Executor chain...\u001b[0m\n",
            "\u001b[32;1m\u001b[1;3m\n",
            "Invoking: `sql_db_list_tables` with `{}`\n",
            "\n",
            "\n",
            "\u001b[0m\u001b[38;5;200m\u001b[1;3maccounts, customers, transactions\u001b[0m\u001b[32;1m\u001b[1;3m\n",
            "Invoking: `sql_db_schema` with `{'table_names': 'accounts'}`\n",
            "\n",
            "\n",
            "\u001b[0m\u001b[33;1m\u001b[1;3m\n",
            "CREATE TABLE accounts (\n",
            "\taccount_id INTEGER, \n",
            "\tcustomer_id INTEGER, \n",
            "\tbalance REAL, \n",
            "\tPRIMARY KEY (account_id), \n",
            "\tFOREIGN KEY(customer_id) REFERENCES customers (customer_id)\n",
            ")\n",
            "\n",
            "/*\n",
            "3 rows from accounts table:\n",
            "account_id\tcustomer_id\tbalance\n",
            "1\t1\t1000.5\n",
            "2\t2\t2500.75\n",
            "3\t3\t1500.0\n",
            "*/\u001b[0m\u001b[32;1m\u001b[1;3m\n",
            "Invoking: `sql_db_schema` with `{'table_names': 'customers'}`\n",
            "\n",
            "\n",
            "\u001b[0m\u001b[33;1m\u001b[1;3m\n",
            "CREATE TABLE customers (\n",
            "\tcustomer_id INTEGER, \n",
            "\tname TEXT, \n",
            "\tage INTEGER, \n",
            "\temail TEXT\n",
            ")\n",
            "\n",
            "/*\n",
            "3 rows from customers table:\n",
            "customer_id\tname\tage\temail\n",
            "1\tAltman\t40\tSam@example.com\n",
            "2\tHuang\t62\tJensen@example.com\n",
            "3\tZuckerberg\t41\tMark@example.com\n",
            "*/\u001b[0m\u001b[32;1m\u001b[1;3m\n",
            "Invoking: `sql_db_schema` with `{'table_names': 'transactions'}`\n",
            "\n",
            "\n",
            "\u001b[0m\u001b[33;1m\u001b[1;3m\n",
            "CREATE TABLE transactions (\n",
            "\ttransaction_id INTEGER, \n",
            "\taccount_id INTEGER, \n",
            "\tamount REAL, \n",
            "\ttransaction_date TEXT, \n",
            "\tPRIMARY KEY (transaction_id), \n",
            "\tFOREIGN KEY(account_id) REFERENCES accounts (account_id)\n",
            ")\n",
            "\n",
            "/*\n",
            "3 rows from transactions table:\n",
            "transaction_id\taccount_id\tamount\ttransaction_date\n",
            "1\t1\t74.79\t2024-07-13\n",
            "2\t1\t-224.1\t2024-05-13\n",
            "3\t1\t-128.9\t2024-01-25\n",
            "*/\u001b[0m\u001b[32;1m\u001b[1;3m\n",
<<<<<<< HEAD
            "Invoking: `sql_db_query` with `{'query': \"SELECT customer_id, name FROM customers WHERE name IN ('Altman', 'Zuckerberg')\"}`\n",
            "responded: The relevant tables and their structures are as follows:\n",
            "\n",
            "1. **accounts**: \n",
=======
            "Invoking: `sql_db_query_checker` with `{'query': \"SELECT c.name, SUM(t.amount) AS total_transactions\\nFROM customers c\\nJOIN accounts a ON c.customer_id = a.customer_id\\nJOIN transactions t ON a.account_id = t.account_id\\nWHERE c.name IN ('Altman', 'Zuckerberg')\\nGROUP BY c.name;\"}`\n",
            "responded: The relevant tables and their structures are as follows:\n",
            "\n",
            "1. **accounts**:\n",
>>>>>>> origin/weeks3
            "   - `account_id`: INTEGER\n",
            "   - `customer_id`: INTEGER\n",
            "   - `balance`: REAL\n",
            "\n",
<<<<<<< HEAD
            "2. **customers**: \n",
=======
            "2. **customers**:\n",
>>>>>>> origin/weeks3
            "   - `customer_id`: INTEGER\n",
            "   - `name`: TEXT\n",
            "   - `age`: INTEGER\n",
            "   - `email`: TEXT\n",
            "\n",
<<<<<<< HEAD
            "3. **transactions**: \n",
=======
            "3. **transactions**:\n",
>>>>>>> origin/weeks3
            "   - `transaction_id`: INTEGER\n",
            "   - `account_id`: INTEGER\n",
            "   - `amount`: REAL\n",
            "   - `transaction_date`: TEXT\n",
            "\n",
            "To calculate and compare the total transactions of Altman and Zuckerberg, I will need to:\n",
            "1. Find the `customer_id` for both Altman and Zuckerberg from the `customers` table.\n",
            "2. Use their `customer_id` to find the corresponding `account_id` from the `accounts` table.\n",
            "3. Sum the `amount` from the `transactions` table for each `account_id`.\n",
            "\n",
            "Let's construct the SQL queries for these steps. \n",
            "\n",
            "First, I will get the `customer_id` for Altman and Zuckerberg. Then, I will get their `account_id` and finally sum the transactions. \n",
            "\n",
<<<<<<< HEAD
            "I will execute the first query to get the `customer_id` for both customers.\n",
            "\n",
            "\u001b[0m\u001b[36;1m\u001b[1;3m[(1, 'Altman'), (3, 'Zuckerberg')]\u001b[0m\u001b[32;1m\u001b[1;3m\n",
            "Invoking: `sql_db_query` with `{'query': 'SELECT account_id FROM accounts WHERE customer_id IN (1, 3)'}`\n",
            "\n",
            "\n",
            "\u001b[0m\u001b[36;1m\u001b[1;3m[(1,), (3,)]\u001b[0m\u001b[32;1m\u001b[1;3m\n",
            "Invoking: `sql_db_query` with `{'query': 'SELECT SUM(amount) as total_transactions FROM transactions WHERE account_id IN (1, 3) GROUP BY account_id'}`\n",
=======
            "I will combine these steps into a single query to get the total transactions for both customers. \n",
            "\n",
            "Here is the query I will use:\n",
            "\n",
            "```sql\n",
            "SELECT c.name, SUM(t.amount) AS total_transactions\n",
            "FROM customers c\n",
            "JOIN accounts a ON c.customer_id = a.customer_id\n",
            "JOIN transactions t ON a.account_id = t.account_id\n",
            "WHERE c.name IN ('Altman', 'Zuckerberg')\n",
            "GROUP BY c.name;\n",
            "```\n",
            "\n",
            "Now, I will check this query for correctness before executing it.\n",
            "\n",
            "\u001b[0m\u001b[36;1m\u001b[1;3m```sql\n",
            "SELECT c.name, SUM(t.amount) AS total_transactions\n",
            "FROM customers c\n",
            "JOIN accounts a ON c.customer_id = a.customer_id\n",
            "JOIN transactions t ON a.account_id = t.account_id\n",
            "WHERE c.name IN ('Altman', 'Zuckerberg')\n",
            "GROUP BY c.name;\n",
            "```\u001b[0m\u001b[32;1m\u001b[1;3m\n",
            "Invoking: `sql_db_query` with `{'query': \"SELECT c.name, SUM(t.amount) AS total_transactions\\nFROM customers c\\nJOIN accounts a ON c.customer_id = a.customer_id\\nJOIN transactions t ON a.account_id = t.account_id\\nWHERE c.name IN ('Altman', 'Zuckerberg')\\nGROUP BY c.name;\"}`\n",
            "\n",
            "\n",
            "\u001b[0m\u001b[36;1m\u001b[1;3m[('Altman', -965.7), ('Zuckerberg', 656.64)]\u001b[0m\u001b[32;1m\u001b[1;3mThe total transactions for each customer are as follows:\n",
>>>>>>> origin/weeks3
            "\n",
            "- **Altman**: -965.7\n",
            "- **Zuckerberg**: 656.64\n",
            "\n",
<<<<<<< HEAD
            "\u001b[0m\u001b[36;1m\u001b[1;3m[(-965.7,), (656.6400000000002,)]\u001b[0m\u001b[32;1m\u001b[1;3mThe total transactions for each customer are as follows:\n",
            "\n",
            "- **Altman** (account_id 1): Total Transactions = **-965.7**\n",
            "- **Zuckerberg** (account_id 3): Total Transactions = **656.64**\n",
            "\n",
            "This indicates that Altman has a negative total transaction amount, while Zuckerberg has a positive total transaction amount.\u001b[0m\n",
=======
            "This indicates that Altman has a net loss in transactions, while Zuckerberg has a net gain.\u001b[0m\n",
>>>>>>> origin/weeks3
            "\n",
            "\u001b[1m> Finished chain.\u001b[0m\n"
          ]
        },
        {
          "data": {
            "text/plain": [
              "{'input': 'Calculate and compare the total transactions of Altman and Zuckerberg.',\n",
<<<<<<< HEAD
              " 'output': 'The total transactions for each customer are as follows:\\n\\n- **Altman** (account_id 1): Total Transactions = **-965.7**\\n- **Zuckerberg** (account_id 3): Total Transactions = **656.64**\\n\\nThis indicates that Altman has a negative total transaction amount, while Zuckerberg has a positive total transaction amount.'}"
            ]
          },
          "execution_count": 20,
=======
              " 'output': 'The total transactions for each customer are as follows:\\n\\n- **Altman**: -965.7\\n- **Zuckerberg**: 656.64\\n\\nThis indicates that Altman has a net loss in transactions, while Zuckerberg has a net gain.'}"
            ]
          },
          "execution_count": 30,
>>>>>>> origin/weeks3
          "metadata": {},
          "output_type": "execute_result"
        }
      ],
      "source": [
        "# Check the execution result\n",
        "agent_executor.invoke(\n",
        "    {\"input\": \"Calculate and compare the total transactions of Altman and Zuckerberg.\"}\n",
        ")"
      ]
    },
    {
      "cell_type": "markdown",
      "metadata": {},
      "source": [
        "### Differences Between create_sql_query_chain and SQL Agent\n",
        "1. create_sql_query_chain:\n",
        "    - Translates user input into a single SQL query and executes it directly.\n",
        "    - Best for simple, direct query execution.\n",
        "2. SQL Agent:\n",
        "    - Handles more complex workflows, involving multiple queries and reasoning steps.\n",
        "    - Ideal for dynamic or multi-step tasks.\n",
        "3. Conclusion: It is recommended to use ```create_sql_query_chain``` for simple queries, while ```SQL Agent``` is suggested for complex or iterative processes."
      ]
    },
    {
      "cell_type": "markdown",
      "metadata": {},
      "source": [
        "## Appendix : Chain with gpt-4o and a Post-Processing Function\n",
        "\n",
        "As observed earlier, `gpt-4o` output can be inconsistent.\n",
        "\n",
        "To address this, a chain can be constructed with a post-processing function applied."
      ]
    },
    {
      "cell_type": "code",
      "execution_count": 21,
      "metadata": {},
      "outputs": [],
      "source": [
        "from langchain_core.prompts import PromptTemplate\n",
        "\n",
        "prompt = PromptTemplate.from_template(\n",
        "    \"\"\"Given an input question, first create a syntactically correct {dialect} query to run, then look at the results of the query and return the answer. \n",
        "    Unless the user specifies in his question a specific number of examples he wishes to obtain, always limit your query to at most {top_k} results. \n",
        "    You can order the results by a relevant column to return the most interesting examples in the database.\n",
        "\n",
        "[Important] You must respond strictly in the format 'select column_name from table_name [Options:LIMIT,ORDER BY,others]'.\n",
        "\n",
        "Use the following format:\n",
        "\n",
        "Question: Question here\n",
        "SQLQuery: SQL Query to run\n",
        "SQLResult: Result of the SQLQuery\n",
        "Answer: Final answer here\n",
        "\n",
        "Only use the following tables:\n",
        "{table_info}\n",
        "\n",
        "Here is the description of the columns in the tables:\n",
        "`cust`: customer name\n",
        "`prod`: product name\n",
        "`trans`: transaction date\n",
        "\n",
        "Question: {input}\n",
        "\"\"\"\n",
        ").partial(dialect=db.dialect)\n",
        "\n",
        "# Create an OpenAI LLM\n",
        "llm = ChatOpenAI(model=\"gpt-4o-mini\", temperature=0)\n",
        "\n",
        "# Generate a chain by providing the LLM and DB as parameters.\n",
        "write_query = create_sql_query_chain(llm, db, prompt, k=10)"
      ]
    },
    {
      "cell_type": "code",
      "execution_count": 22,
      "metadata": {},
      "outputs": [
        {
          "data": {
            "text/plain": [
              "'SQLQuery: select name from customers ORDER BY name LIMIT 10'"
            ]
          },
          "execution_count": 22,
          "metadata": {},
          "output_type": "execute_result"
        }
      ],
      "source": [
        "# Check the execution result\n",
        "# The result contains unnecessary text, such as 'SQLQuery: '\n",
        "write_query.invoke({\"question\": \"List the all customer names.\"})"
      ]
    },
    {
      "cell_type": "code",
      "execution_count": 23,
      "metadata": {},
      "outputs": [],
      "source": [
        "# It is necessary to remove unnecessary text.\n",
        "from langchain.chains import TransformChain\n",
        "import re\n",
        "\n",
        "\n",
        "# Define the regex parsing function\n",
        "def parse_sqlquery(raw_output):\n",
        "    match = re.search(r\"SQLQuery:\\s*(.*)\", raw_output)\n",
        "    if match:\n",
        "        return {\"parsed_query\": match.group(1).strip()}\n",
        "    raise ValueError(f\"No valid SQL query found in the output: {raw_output}\")\n",
        "\n",
        "\n",
        "# Create a TransformChain to parse the query\n",
        "transform_chain = TransformChain(\n",
        "    input_variables=[\"raw_output\"],\n",
        "    output_variables=[\"query\"],  # Output key changed to 'query'\n",
        "    transform=lambda inputs: {\n",
        "        \"query\": parse_sqlquery(inputs[\"raw_output\"])[\"parsed_query\"]\n",
        "    },\n",
        ")"
      ]
    },
    {
      "cell_type": "code",
      "execution_count": 24,
      "metadata": {},
      "outputs": [],
      "source": [
        "from langchain_community.tools import QuerySQLDatabaseTool\n",
        "\n",
        "# Create a tool to execute the generated query.\n",
        "execute_query = QuerySQLDatabaseTool(db=db)"
      ]
    },
    {
      "cell_type": "code",
      "execution_count": 25,
      "metadata": {},
      "outputs": [],
      "source": [
        "# Combine the chains: generating query -> Regex Parsing -> SQL Execution\n",
        "chain = write_query | transform_chain | execute_query"
      ]
    },
    {
      "cell_type": "code",
      "execution_count": 26,
      "metadata": {},
      "outputs": [
        {
          "data": {
            "text/plain": [
              "\"[('Altman',), ('Chase',), ('Hassabis',), ('Huang',), ('Musk',), ('Zuckerberg',)]\""
            ]
          },
          "execution_count": 26,
          "metadata": {},
          "output_type": "execute_result"
        }
      ],
      "source": [
        "# Check the execution result\n",
        "chain.invoke({\"question\": \"List the all customer names.\"})"
      ]
    },
    {
      "cell_type": "code",
      "execution_count": 27,
      "metadata": {},
      "outputs": [
        {
          "data": {
            "text/plain": [
              "'[(-965.7,)]'"
            ]
          },
          "execution_count": 27,
          "metadata": {},
          "output_type": "execute_result"
        }
      ],
      "source": [
        "# Check the execution result\n",
        "chain.invoke({\"question\": \"Calculate the total of Altman's transactions.\"})"
      ]
    }
  ],
  "metadata": {
    "kernelspec": {
      "display_name": "langchain-opentutorial-BpEVOGYk-py3.11",
      "language": "python",
      "name": "python3"
    },
    "language_info": {
      "codemirror_mode": {
        "name": "ipython",
        "version": 3
      },
      "file_extension": ".py",
      "mimetype": "text/x-python",
      "name": "python",
      "nbconvert_exporter": "python",
      "pygments_lexer": "ipython3",
      "version": "3.11.9"
    }
  },
  "nbformat": 4,
  "nbformat_minor": 2
}
