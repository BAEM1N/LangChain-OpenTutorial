{
  "cells": [
    {
      "cell_type": "markdown",
      "metadata": {},
      "source": [
        "# SQL\n",
        "\n",
        "- Author: [Jinu Cho](https://github.com/jinucho)\n",
        "- Peer Review: \n",
        "- Proofread:\n",
        "- This is a part of [LangChain Open Tutorial](https://github.com/LangChain-OpenTutorial/LangChain-OpenTutorial)\n",
        "\n",
        "[![Open in Colab](https://colab.research.google.com/assets/colab-badge.svg)](https://colab.research.google.com/github/LangChain-OpenTutorial/LangChain-OpenTutorial/blob/main/14-Chains/02-SQL.ipynb) [![Open in GitHub](https://img.shields.io/badge/Open%20in%20GitHub-181717?style=flat-square&logo=github&logoColor=white)](https://github.com/LangChain-OpenTutorial/LangChain-OpenTutorial/blob/main/14-Chains/02-SQL.ipynb)\n",
        "\n",
        "## Overview\n",
        "\n",
        "This tutorial covers how to use ```create_sql_query_chain``` to generate SQL queries, execute them, and derive answers. \n",
        "\n",
        "Additionally, let's explore the differences in operation between this method and the SQL Agent.\n",
        "\n",
        "### Table of Contents\n",
        "\n",
        "- [Overview](#overview)\n",
        "- [Environment Setup](#environment-setup)\n",
        "- [Load SQL Database](#load-sql-database)\n",
        "- [SQL generate chain](#sql-generate-chain)\n",
        "- [Enhance and generate answers using the LLM](#enhance-and-generate-answers-using-the-llm)\n",
        "- [Agent](#Agent)\n",
        "- [Differences Between create_sql_query_chain and SQL Agent](#differences-between-create_sql_query_chain-and-sql-agent)\n",
        "- [[Note]: SQLite DB Creation](#note-sqlite-db-creation)\n",
        "\n",
        "\n",
        "\n",
        "### References\n",
        "- [SQLDatabase](https://python.langchain.com/api_reference/community/utilities/langchain_community.utilities.sql_database.SQLDatabase.html#sqldatabase)\n",
        "- [SQL_query_chain](https://python.langchain.com/api_reference/langchain/chains/langchain.chains.sql_database.query.create_sql_query_chain.html)\n",
        "- [SQL_agent](https://python.langchain.com/api_reference/community/agent_toolkits/langchain_community.agent_toolkits.sql.base.create_sql_agent.html)\n",
        "---"
      ]
    },
    {
      "cell_type": "markdown",
      "metadata": {},
      "source": [
        "## Environment Setup\n",
        "\n",
        "Setting up your environment is the first step. See the [Environment Setup](https://wikidocs.net/257836) guide for more details.\n",
        "\n",
        "\n",
        "**[Note]**\n",
        "\n",
        "The langchain-opentutorial is a package of easy-to-use environment setup guidance, useful functions and utilities for tutorials.\n",
        "Check out the  [`langchain-opentutorial`](https://github.com/LangChain-OpenTutorial/langchain-opentutorial-pypi) for more details."
      ]
    },
    {
      "cell_type": "code",
      "execution_count": 4,
      "metadata": {},
      "outputs": [],
      "source": [
        "%%capture --no-stderr\n",
        "%pip install langchain-opentutorial"
      ]
    },
    {
      "cell_type": "code",
      "execution_count": 5,
      "metadata": {},
      "outputs": [],
      "source": [
        "# Install required packages\n",
        "from langchain_opentutorial import package\n",
        "\n",
        "package.install(\n",
        "    [\n",
        "        \"langsmith\",\n",
        "        \"langchain\",\n",
        "        \"langchain_openai\",\n",
        "    ],\n",
        "    verbose=False,\n",
        "    upgrade=False,\n",
        ")"
      ]
    },
    {
      "cell_type": "markdown",
      "metadata": {},
      "source": [
        "You can alternatively set ```OPENAI_API_KEY``` in ```.env``` file and load it. \n",
        "\n",
        "[Note] This is not necessary if you've already set ```OPENAI_API_KEY``` in previous steps."
      ]
    },
    {
      "cell_type": "code",
      "execution_count": 6,
      "metadata": {},
      "outputs": [
        {
          "name": "stdout",
          "output_type": "stream",
          "text": [
            "Environment variables have been set successfully.\n"
          ]
        }
      ],
      "source": [
        "# Set environment variables\n",
        "from langchain_opentutorial import set_env\n",
        "\n",
        "set_env(\n",
        "    {\n",
        "        # \"OPENAI_API_KEY\": \"\",\n",
        "        # \"LANGCHAIN_API_KEY\": \"\",\n",
        "        \"LANGCHAIN_TRACING_V2\": \"true\",\n",
        "        \"LANGCHAIN_ENDPOINT\": \"https://api.smith.langchain.com\",\n",
        "        \"LANGCHAIN_PROJECT\": \"02-SQL\",\n",
        "    }\n",
        ")"
      ]
    },
    {
      "cell_type": "code",
      "execution_count": 7,
      "metadata": {},
      "outputs": [
        {
          "data": {
            "text/plain": [
              "True"
            ]
          },
          "execution_count": 7,
          "metadata": {},
          "output_type": "execute_result"
        }
      ],
      "source": [
        "# Load environment variables\n",
        "# Reload any variables that need to be overwritten from the previous cell\n",
        "\n",
        "from dotenv import load_dotenv\n",
        "\n",
        "load_dotenv(override=True)"
      ]
    },
    {
      "cell_type": "markdown",
      "metadata": {},
      "source": [
        "## Load SQL Database\n",
        "\n",
        "Load and verify the sample database data.\n",
        "\n",
        "You can also create a custom database by referring to **[[Note]: SQLite DB Creation](#note-sqlite-db-creation)** ."
      ]
    },
    {
      "cell_type": "code",
      "execution_count": 8,
      "metadata": {},
      "outputs": [
        {
          "name": "stdout",
          "output_type": "stream",
          "text": [
            "sqlite\n",
            "['accounts', 'customers', 'transactions']\n"
          ]
        }
      ],
      "source": [
        "from langchain_openai import ChatOpenAI\n",
        "from langchain.chains import create_sql_query_chain\n",
        "from langchain_community.utilities import SQLDatabase\n",
        "\n",
        "# Connect to the SQLite database.\n",
        "db = SQLDatabase.from_uri(\"sqlite:///data/finance.db\")\n",
        "\n",
        "# Output the database dialect.\n",
        "print(db.dialect)\n",
        "\n",
        "# Output the available table names.\n",
        "print(db.get_usable_table_names())"
      ]
    },
    {
      "cell_type": "markdown",
      "metadata": {},
      "source": [
        "## SQL generate chain"
      ]
    },
    {
      "cell_type": "markdown",
      "metadata": {},
      "source": [
        "[RECOMMED] Create an LLM object and generate a chain by providing the LLM and DB as parameters.\n",
        "\n",
        "Since changing the model may cause unexpected behavior, this tutorial will proceed with **gpt-3.5-turbo** ."
      ]
    },
    {
      "cell_type": "code",
      "execution_count": 14,
      "metadata": {},
      "outputs": [],
      "source": [
        "# Create an OpenAI LLM\n",
        "llm = ChatOpenAI(model=\"gpt-3.5-turbo\", temperature=0)\n",
        "\n",
        "# Generate a chain by providing the LLM and DB as parameters.\n",
        "chain = create_sql_query_chain(llm=llm, db=db,k=10)# k(for query Limit)'s default value is 5"
      ]
    },
    {
      "cell_type": "code",
      "execution_count": 15,
      "metadata": {},
      "outputs": [
        {
          "name": "stdout",
          "output_type": "stream",
          "text": [
            "You are a SQLite expert. Given an input question, first create a syntactically correct SQLite query to run, then look at the results of the query and return the answer to the input question.\n",
            "Unless the user specifies in the question a specific number of examples to obtain, query for at most {top_k} results using the LIMIT clause as per SQLite. You can order the results to return the most informative data in the database.\n",
            "Never query for all columns from a table. You must query only the columns that are needed to answer the question. Wrap each column name in double quotes (\") to denote them as delimited identifiers.\n",
            "Pay attention to use only the column names you can see in the tables below. Be careful to not query for columns that do not exist. Also, pay attention to which column is in which table.\n",
            "Pay attention to use date('now') function to get the current date, if the question involves \"today\".\n",
            "\n",
            "Use the following format:\n",
            "\n",
            "Question: Question here\n",
            "SQLQuery: SQL Query to run\n",
            "SQLResult: Result of the SQLQuery\n",
            "Answer: Final answer here\n",
            "\n",
            "Only use the following tables:\n",
            "{table_info}\n",
            "\n",
            "Question: {input}\n"
          ]
        }
      ],
      "source": [
        "# Check the default prompt\n",
        "print(chain.get_prompts()[0].template)"
      ]
    },
    {
      "cell_type": "code",
      "execution_count": 16,
      "metadata": {},
      "outputs": [
        {
          "data": {
            "text/plain": [
              "'SELECT \"name\" FROM customers;'"
            ]
          },
          "execution_count": 16,
          "metadata": {},
          "output_type": "execute_result"
        }
      ],
      "source": [
        "chain.invoke({\"question\": \"List the all customer names.\"})"
      ]
    },
    {
      "cell_type": "markdown",
      "metadata": {},
      "source": [
        "### If the latest version is used?\n",
        "\n",
        "Using the latest version of OpenAI's LLM may cause issues with the output."
      ]
    },
    {
      "cell_type": "code",
      "execution_count": 17,
      "metadata": {},
      "outputs": [],
      "source": [
        "# Create an OpenAI LLM\n",
        "llm = ChatOpenAI(model=\"gpt-4o-mini\", temperature=0)\n",
        "\n",
        "# Generate a chain by providing the LLM and DB as parameters.\n",
        "bad_case_chain = create_sql_query_chain(llm=llm, db=db,k=10)# k(for query Limit)'s default values is 5"
      ]
    },
    {
      "cell_type": "markdown",
      "metadata": {},
      "source": [
        "Unnecessary information, such as **'SQLQuery: '** , is included in the output along with the query."
      ]
    },
    {
      "cell_type": "code",
      "execution_count": 18,
      "metadata": {},
      "outputs": [
        {
          "data": {
            "text/plain": [
              "'SQLQuery: SELECT \"name\" FROM customers LIMIT 10;'"
            ]
          },
          "execution_count": 18,
          "metadata": {},
          "output_type": "execute_result"
        }
      ],
      "source": [
        "bad_case_chain.invoke({\"question\": \"List the all customer names.\"})"
      ]
    },
    {
      "cell_type": "markdown",
      "metadata": {},
      "source": [
        "(Optional) You can specify the prompt directly using the method below.\n",
        "\n",
        "When writing it yourself, you can include **table_info** along with descriptive **column descriptions** for better explanation."
      ]
    },
    {
      "cell_type": "code",
      "execution_count": 19,
      "metadata": {},
      "outputs": [],
      "source": [
        "from langchain_core.prompts import PromptTemplate\n",
        "\n",
        "prompt = PromptTemplate.from_template(\n",
        "    \"\"\"Given an input question, first create a syntactically correct {dialect} query to run, then look at the results of the query and return the answer. \n",
        "    Unless the user specifies in his question a specific number of examples he wishes to obtain, always limit your query to at most {top_k} results. \n",
        "    You can order the results by a relevant column to return the most interesting examples in the database.\n",
        "\n",
        "Use the following format:\n",
        "\n",
        "Question: Question here\n",
        "SQLQuery: SQL Query to run\n",
        "SQLResult: Result of the SQLQuery\n",
        "Answer: Final answer here\n",
        "\n",
        "Only use the following tables:\n",
        "{table_info}\n",
        "\n",
        "Here is the description of the columns in the tables:\n",
        "`cust`: customer name\n",
        "`prod`: product name\n",
        "`trans`: transaction date\n",
        "\n",
        "Question: {input}\n",
        "\"\"\"\n",
        ").partial(dialect=db.dialect)\n",
        "\n",
        "# model 은 gpt-3.5-turbo 를 지정\n",
        "llm = ChatOpenAI(model=\"gpt-3.5-turbo\", temperature=0)\n",
        "\n",
        "# LLM 과 DB 를 매개변수로 입력하여 chain 을 생성합니다.\n",
        "chain = create_sql_query_chain(llm, db, prompt)"
      ]
    },
    {
      "cell_type": "markdown",
      "metadata": {},
      "source": [
        "Executing the chain generates queries based on the database."
      ]
    },
    {
      "cell_type": "code",
      "execution_count": 20,
      "metadata": {},
      "outputs": [
        {
          "name": "stdout",
          "output_type": "stream",
          "text": [
            "'SELECT name\\nFROM customers'\n"
          ]
        }
      ],
      "source": [
        "# Execute the chain and display the results.\n",
        "generated_sql_query = chain.invoke({\"question\": \"List the all customer names.\"})\n",
        "\n",
        "# Print the generated query.\n",
        "print(generated_sql_query.__repr__())"
      ]
    },
    {
      "cell_type": "markdown",
      "metadata": {},
      "source": [
        "Let's verify if the generated query executes correctly."
      ]
    },
    {
      "cell_type": "code",
      "execution_count": 21,
      "metadata": {},
      "outputs": [],
      "source": [
        "from langchain_community.tools import QuerySQLDatabaseTool\n",
        "\n",
        "# Create a tool to execute the generated query.\n",
        "execute_query = QuerySQLDatabaseTool(db=db)"
      ]
    },
    {
      "cell_type": "code",
      "execution_count": 22,
      "metadata": {},
      "outputs": [
        {
          "data": {
            "text/plain": [
              "\"[('Altman',), ('Huang',), ('Zuckerberg',), ('Musk',), ('Hassabis',), ('Chase',)]\""
            ]
          },
          "execution_count": 22,
          "metadata": {},
          "output_type": "execute_result"
        }
      ],
      "source": [
        "execute_query.invoke({\"query\": generated_sql_query})"
      ]
    },
    {
      "cell_type": "code",
      "execution_count": 23,
      "metadata": {},
      "outputs": [],
      "source": [
        "from langchain_community.tools.sql_database.tool import QuerySQLDatabaseTool\n",
        "\n",
        "# Tool\n",
        "execute_query = QuerySQLDatabaseTool(db=db)\n",
        "\n",
        "# SQL query generation chain\n",
        "write_query = create_sql_query_chain(llm, db,prompt)\n",
        "\n",
        "# Create a chain to execute the generated query.\n",
        "chain = write_query | execute_query"
      ]
    },
    {
      "cell_type": "code",
      "execution_count": 24,
      "metadata": {},
      "outputs": [
        {
          "data": {
            "text/plain": [
              "\"[('Sam@example.com',)]\""
            ]
          },
          "execution_count": 24,
          "metadata": {},
          "output_type": "execute_result"
        }
      ],
      "source": [
        "# Check the execution result\n",
        "chain.invoke({\"question\": \"Retrieve Altman's email address.\"})"
      ]
    },
    {
      "cell_type": "markdown",
      "metadata": {},
      "source": [
        "## Enhance and generate answers using the LLM\n",
        "\n",
        "Using the chain created in the previous step results in short, concise answers. This can be adjusted using an LCEL-style chain to provide more natural and detailed responses."
      ]
    },
    {
      "cell_type": "code",
      "execution_count": 25,
      "metadata": {},
      "outputs": [],
      "source": [
        "from operator import itemgetter\n",
        "from langchain_core.output_parsers import StrOutputParser\n",
        "from langchain_core.prompts import PromptTemplate\n",
        "from langchain_core.runnables import RunnablePassthrough\n",
        "\n",
        "# Define the prompt for generating answers\n",
        "answer_prompt = PromptTemplate.from_template(\n",
        "    \"\"\"Given the following user question, corresponding SQL query, and SQL result, answer the user question.\n",
        "\n",
        "Question: {question}\n",
        "SQL Query: {query}\n",
        "SQL Result: {result}\n",
        "Answer: \"\"\"\n",
        ")\n",
        "\n",
        "# Create a pipeline for generating natural answers\n",
        "answer = answer_prompt | llm | StrOutputParser()\n",
        "\n",
        "# Create a chain to execute the generated query and produce an answer\n",
        "chain = (\n",
        "    RunnablePassthrough.assign(query=write_query).assign(\n",
        "        result=itemgetter(\"query\") | execute_query\n",
        "    )\n",
        "    | answer\n",
        ")"
      ]
    },
    {
      "cell_type": "code",
      "execution_count": 26,
      "metadata": {},
      "outputs": [
        {
          "data": {
            "text/plain": [
              "\"The total of Altman's transactions is -965.7.\""
            ]
          },
          "execution_count": 26,
          "metadata": {},
          "output_type": "execute_result"
        }
      ],
      "source": [
        "# Check the execution result\n",
        "chain.invoke({\"question\": \"Calculate the total of Altman's transactions.\"})"
      ]
    },
    {
      "cell_type": "markdown",
      "metadata": {},
      "source": [
        "## Agent\n",
        "\n",
        "Using an Agent, you can generate SQL queries and output the results as answers."
      ]
    },
    {
      "cell_type": "code",
      "execution_count": 29,
      "metadata": {},
      "outputs": [],
      "source": [
        "from langchain_openai import ChatOpenAI\n",
        "from langchain_community.utilities import SQLDatabase\n",
        "from langchain_community.agent_toolkits import create_sql_agent\n",
        "\n",
        "# Specify the model as gpt-3.5-turbo\n",
        "llm = ChatOpenAI(model=\"gpt-4o-mini\", temperature=0)\n",
        "\n",
        "# Connect to the SQLite database\n",
        "db = SQLDatabase.from_uri(\"sqlite:///data/finance.db\")\n",
        "\n",
        "# Create the Agent\n",
        "agent_executor = create_sql_agent(llm, db=db, agent_type=\"openai-tools\", verbose=True)"
      ]
    },
    {
      "cell_type": "code",
      "execution_count": 30,
      "metadata": {},
      "outputs": [
        {
          "name": "stdout",
          "output_type": "stream",
          "text": [
            "\n",
            "\n",
            "\u001b[1m> Entering new SQL Agent Executor chain...\u001b[0m\n",
            "\u001b[32;1m\u001b[1;3m\n",
            "Invoking: `sql_db_list_tables` with `{}`\n",
            "\n",
            "\n",
            "\u001b[0m\u001b[38;5;200m\u001b[1;3maccounts, customers, transactions\u001b[0m\u001b[32;1m\u001b[1;3m\n",
            "Invoking: `sql_db_schema` with `{'table_names': 'accounts'}`\n",
            "\n",
            "\n",
            "\u001b[0m\u001b[33;1m\u001b[1;3m\n",
            "CREATE TABLE accounts (\n",
            "\taccount_id INTEGER, \n",
            "\tcustomer_id INTEGER, \n",
            "\tbalance REAL, \n",
            "\tPRIMARY KEY (account_id), \n",
            "\tFOREIGN KEY(customer_id) REFERENCES customers (customer_id)\n",
            ")\n",
            "\n",
            "/*\n",
            "3 rows from accounts table:\n",
            "account_id\tcustomer_id\tbalance\n",
            "1\t1\t1000.5\n",
            "2\t2\t2500.75\n",
            "3\t3\t1500.0\n",
            "*/\u001b[0m\u001b[32;1m\u001b[1;3m\n",
            "Invoking: `sql_db_schema` with `{'table_names': 'customers'}`\n",
            "\n",
            "\n",
            "\u001b[0m\u001b[33;1m\u001b[1;3m\n",
            "CREATE TABLE customers (\n",
            "\tcustomer_id INTEGER, \n",
            "\tname TEXT, \n",
            "\tage INTEGER, \n",
            "\temail TEXT\n",
            ")\n",
            "\n",
            "/*\n",
            "3 rows from customers table:\n",
            "customer_id\tname\tage\temail\n",
            "1\tAltman\t40\tSam@example.com\n",
            "2\tHuang\t62\tJensen@example.com\n",
            "3\tZuckerberg\t41\tMark@example.com\n",
            "*/\u001b[0m\u001b[32;1m\u001b[1;3m\n",
            "Invoking: `sql_db_schema` with `{'table_names': 'transactions'}`\n",
            "\n",
            "\n",
            "\u001b[0m\u001b[33;1m\u001b[1;3m\n",
            "CREATE TABLE transactions (\n",
            "\ttransaction_id INTEGER, \n",
            "\taccount_id INTEGER, \n",
            "\tamount REAL, \n",
            "\ttransaction_date TEXT, \n",
            "\tPRIMARY KEY (transaction_id), \n",
            "\tFOREIGN KEY(account_id) REFERENCES accounts (account_id)\n",
            ")\n",
            "\n",
            "/*\n",
            "3 rows from transactions table:\n",
            "transaction_id\taccount_id\tamount\ttransaction_date\n",
            "1\t1\t74.79\t2024-07-13\n",
            "2\t1\t-224.1\t2024-05-13\n",
            "3\t1\t-128.9\t2024-01-25\n",
            "*/\u001b[0m\u001b[32;1m\u001b[1;3m\n",
            "Invoking: `sql_db_query_checker` with `{'query': \"SELECT c.name, SUM(t.amount) AS total_transactions\\nFROM customers c\\nJOIN accounts a ON c.customer_id = a.customer_id\\nJOIN transactions t ON a.account_id = t.account_id\\nWHERE c.name IN ('Altman', 'Zuckerberg')\\nGROUP BY c.name;\"}`\n",
            "responded: The relevant tables and their structures are as follows:\n",
            "\n",
            "1. **accounts**:\n",
            "   - `account_id`: INTEGER\n",
            "   - `customer_id`: INTEGER\n",
            "   - `balance`: REAL\n",
            "\n",
            "2. **customers**:\n",
            "   - `customer_id`: INTEGER\n",
            "   - `name`: TEXT\n",
            "   - `age`: INTEGER\n",
            "   - `email`: TEXT\n",
            "\n",
            "3. **transactions**:\n",
            "   - `transaction_id`: INTEGER\n",
            "   - `account_id`: INTEGER\n",
            "   - `amount`: REAL\n",
            "   - `transaction_date`: TEXT\n",
            "\n",
            "To calculate and compare the total transactions of Altman and Zuckerberg, I will need to:\n",
            "1. Find the `customer_id` for both Altman and Zuckerberg from the `customers` table.\n",
            "2. Use their `customer_id` to find the corresponding `account_id` from the `accounts` table.\n",
            "3. Sum the `amount` from the `transactions` table for each `account_id`.\n",
            "\n",
            "Let's construct the SQL queries for these steps. \n",
            "\n",
            "First, I will get the `customer_id` for Altman and Zuckerberg. Then, I will get their `account_id` and finally sum the transactions. \n",
            "\n",
            "I will combine these steps into a single query to get the total transactions for both customers. \n",
            "\n",
            "Here is the query I will use:\n",
            "\n",
            "```sql\n",
            "SELECT c.name, SUM(t.amount) AS total_transactions\n",
            "FROM customers c\n",
            "JOIN accounts a ON c.customer_id = a.customer_id\n",
            "JOIN transactions t ON a.account_id = t.account_id\n",
            "WHERE c.name IN ('Altman', 'Zuckerberg')\n",
            "GROUP BY c.name;\n",
            "```\n",
            "\n",
            "Now, I will check this query for correctness before executing it.\n",
            "\n",
            "\u001b[0m\u001b[36;1m\u001b[1;3m```sql\n",
            "SELECT c.name, SUM(t.amount) AS total_transactions\n",
            "FROM customers c\n",
            "JOIN accounts a ON c.customer_id = a.customer_id\n",
            "JOIN transactions t ON a.account_id = t.account_id\n",
            "WHERE c.name IN ('Altman', 'Zuckerberg')\n",
            "GROUP BY c.name;\n",
            "```\u001b[0m\u001b[32;1m\u001b[1;3m\n",
            "Invoking: `sql_db_query` with `{'query': \"SELECT c.name, SUM(t.amount) AS total_transactions\\nFROM customers c\\nJOIN accounts a ON c.customer_id = a.customer_id\\nJOIN transactions t ON a.account_id = t.account_id\\nWHERE c.name IN ('Altman', 'Zuckerberg')\\nGROUP BY c.name;\"}`\n",
            "\n",
            "\n",
            "\u001b[0m\u001b[36;1m\u001b[1;3m[('Altman', -965.7), ('Zuckerberg', 656.64)]\u001b[0m\u001b[32;1m\u001b[1;3mThe total transactions for each customer are as follows:\n",
            "\n",
            "- **Altman**: -965.7\n",
            "- **Zuckerberg**: 656.64\n",
            "\n",
            "This indicates that Altman has a net loss in transactions, while Zuckerberg has a net gain.\u001b[0m\n",
            "\n",
            "\u001b[1m> Finished chain.\u001b[0m\n"
          ]
        },
        {
          "data": {
            "text/plain": [
              "{'input': 'Calculate and compare the total transactions of Altman and Zuckerberg.',\n",
              " 'output': 'The total transactions for each customer are as follows:\\n\\n- **Altman**: -965.7\\n- **Zuckerberg**: 656.64\\n\\nThis indicates that Altman has a net loss in transactions, while Zuckerberg has a net gain.'}"
            ]
          },
          "execution_count": 30,
          "metadata": {},
          "output_type": "execute_result"
        }
      ],
      "source": [
        "# Check the execution result\n",
        "agent_executor.invoke(\n",
        "    {\"input\": \"Calculate and compare the total transactions of Altman and Zuckerberg.\"}\n",
        ")"
      ]
    },
    {
      "cell_type": "markdown",
      "metadata": {},
      "source": [
        "## Differences Between create_sql_query_chain and SQL Agent\n",
        "1. create_sql_query_chain:\n",
        "    - Translates user input into a single SQL query and executes it directly.\n",
        "    - Best for simple, direct query execution.\n",
        "2. SQL Agent:\n",
        "    - Handles more complex workflows, involving multiple queries and reasoning steps.\n",
        "    - Ideal for dynamic or multi-step tasks.\n",
        "3. Summary: It is recommended to use ```create_sql_query_chain``` for simple queries, while ```SQL Agent``` is suggested for complex or iterative processes."
      ]
    },
    {
      "cell_type": "markdown",
      "metadata": {},
      "source": [
        "## [Note]: SQLite DB Creation\n",
        "\n",
        "This is a code for creating a SQLite database.\n",
        "\n",
        "You can customize the code below to suit your needs."
      ]
    },
    {
      "cell_type": "code",
      "execution_count": 42,
      "metadata": {},
      "outputs": [],
      "source": [
        "# import sqlite3\n",
        "\n",
        "# connection = sqlite3.connect(\"data/finance.db\")\n",
        "# cursor = connection.cursor()\n",
        "\n",
        "# # Create `customers` table\n",
        "# cursor.execute('''\n",
        "#     CREATE TABLE customers (\n",
        "#         customer_id INTEGER PRI\n",
        "#         MARY KEY,\n",
        "#         name TEXT,\n",
        "#         age INTEGER,\n",
        "#         email TEXT\n",
        "#     );\n",
        "# ''')\n",
        "\n",
        "# # Insert data into `customers`\n",
        "# cursor.executemany('''\n",
        "#     INSERT INTO customers (customer_id, name, age, email)\n",
        "#     VALUES (?, ?, ?, ?);\n",
        "# ''', [\n",
        "#     (1, 'Altman', 40, 'Sam@example.com'),\n",
        "#     (2, 'Huang', 62, 'Jensen@example.com'),\n",
        "#     (3, 'Zuckerberg', 41, 'Mark@example.com'),\n",
        "#     (4, 'Musk', 54, 'Elon@example.com'),\n",
        "#     (5, 'Hassabis', 49, 'Demis@example.com'),\n",
        "#     (6, 'Chase', 35, 'Harrison@example.com')\n",
        "# ])\n",
        "\n",
        "# # Create `accounts` table\n",
        "# cursor.execute('''\n",
        "#     CREATE TABLE accounts (\n",
        "#         account_id INTEGER PRIMARY KEY,\n",
        "#         customer_id INTEGER,\n",
        "#         balance REAL,\n",
        "#         FOREIGN KEY (customer_id) REFERENCES customers(customer_id)\n",
        "#     );\n",
        "# ''')\n",
        "\n",
        "# # Insert data into `accounts`\n",
        "# cursor.executemany('''\n",
        "#     INSERT INTO accounts (account_id, customer_id, balance)\n",
        "#     VALUES (?, ?, ?);\n",
        "# ''', [\n",
        "#     (1, 1, 1000.5),\n",
        "#     (2, 2, 2500.75),\n",
        "#     (3, 3, 1500.0),\n",
        "#     (4, 4, 1800.25),\n",
        "#     (5, 5, 2200.6),\n",
        "#     (6, 6, 1750.4)\n",
        "# ])\n",
        "\n",
        "# # Create `transactions` table\n",
        "# cursor.execute('''\n",
        "#     CREATE TABLE transactions (\n",
        "#         transaction_id INTEGER PRIMARY KEY,\n",
        "#         account_id INTEGER,\n",
        "#         amount REAL,\n",
        "#         transaction_date TEXT,\n",
        "#         FOREIGN KEY (account_id) REFERENCES accounts(account_id)\n",
        "#     );\n",
        "# ''')\n",
        "\n",
        "# # Insert data into `transactions`\n",
        "# cursor.executemany('''\n",
        "#     INSERT INTO transactions (transaction_id, account_id, amount, transaction_date)\n",
        "#     VALUES (?, ?, ?, ?);\n",
        "# ''', [\n",
        "#         (1, 1, 74.79, '2024-07-13'),\n",
        "#         (2, 1, -224.1, '2024-05-13'),\n",
        "#         (3, 1, -128.9, '2024-01-25'),\n",
        "#         (4, 1, -314.05, '2024-07-28'),\n",
        "#         (5, 1, -464.0, '2024-04-21'),\n",
        "#         (6, 1, -486.99, '2024-07-04'),\n",
        "#         (7, 1, -318.33, '2024-02-15'),\n",
        "#         (8, 1, 290.23, '2024-04-06'),\n",
        "#         (9, 1, 236.57, '2024-01-01'),\n",
        "#         (10, 1, 321.92, '2024-05-24'),\n",
        "#         (11, 1, 95.75, '2024-01-04'),\n",
        "#         (12, 1, -415.22, '2024-06-10'),\n",
        "#         (13, 1, 318.15, '2024-07-21'),\n",
        "#         (14, 1, 269.66, '2024-01-13'),\n",
        "#         (15, 1, -386.16, '2024-04-13'),\n",
        "#         (16, 1, 164.98, '2024-05-02'),\n",
        "#         (17, 2, -43.13, '2024-07-03'),\n",
        "#         (18, 2, -308.91, '2024-03-15'),\n",
        "#         (19, 2, 347.45, '2024-01-23'),\n",
        "#         (20, 2, -72.35, '2024-02-01'),\n",
        "#         (21, 2, -114.54, '2024-03-30'),\n",
        "#         (22, 2, 273.34, '2024-07-06'),\n",
        "#         (23, 2, 458.16, '2024-06-17'),\n",
        "#         (24, 2, 227.77, '2024-03-14'),\n",
        "#         (25, 2, -51.55, '2024-06-18'),\n",
        "#         (26, 2, 304.99, '2024-02-16'),\n",
        "#         (27, 2, 176.56, '2024-03-30'),\n",
        "#         (28, 2, -147.86, '2024-02-16'),\n",
        "#         (29, 2, -456.95, '2024-07-30'),\n",
        "#         (30, 2, 190.11, '2024-01-23'),\n",
        "#         (31, 2, 222.13, '2024-02-14'),\n",
        "#         (32, 2, -262.09, '2024-07-21'),\n",
        "#         (33, 3, 148.49, '2024-01-09'),\n",
        "#         (34, 3, -289.71, '2024-01-31'),\n",
        "#         (35, 3, -150.71, '2024-05-24'),\n",
        "#         (36, 3, 64.14, '2024-04-08'),\n",
        "#         (37, 3, -373.0, '2024-04-17'),\n",
        "#         (38, 3, 210.42, '2024-06-29'),\n",
        "#         (39, 3, -425.75, '2024-05-08'),\n",
        "#         (40, 3, 266.32, '2024-06-05'),\n",
        "#         (41, 3, 160.99, '2024-02-21'),\n",
        "#         (42, 3, -127.92, '2024-04-04'),\n",
        "#         (43, 3, 457.43, '2024-04-22'),\n",
        "#         (44, 3, 417.64, '2024-03-28'),\n",
        "#         (45, 3, 392.0, '2024-02-19'),\n",
        "#         (46, 3, 221.92, '2024-02-25'),\n",
        "#         (47, 3, -417.7, '2024-02-02'),\n",
        "#         (48, 3, 102.08, '2024-07-07'),\n",
        "#         (49, 4, 489.96, '2024-06-03'),\n",
        "#         (50, 4, 21.06, '2024-04-20'),\n",
        "#         (51, 4, -278.72, '2024-02-18'),\n",
        "#         (52, 4, 58.08, '2024-04-15'),\n",
        "#         (53, 4, 489.45, '2024-03-19'),\n",
        "#         (54, 4, -448.04, '2024-07-16'),\n",
        "#         (55, 4, -272.16, '2024-06-30'),\n",
        "#         (56, 4, -41.19, '2024-03-21'),\n",
        "#         (57, 4, 200.61, '2024-04-10'),\n",
        "#         (58, 4, 431.89, '2024-03-08'),\n",
        "#         (59, 4, 236.82, '2024-01-03'),\n",
        "#         (60, 4, -167.94, '2024-05-31'),\n",
        "#         (61, 4, 273.09, '2024-06-10'),\n",
        "#         (62, 4, 225.16, '2024-03-31'),\n",
        "#         (63, 4, -110.66, '2024-05-23'),\n",
        "#         (64, 4, 329.74, '2024-05-29'),\n",
        "#         (65, 5, -150.66, '2024-02-19'),\n",
        "#         (66, 5, -406.2, '2024-06-16'),\n",
        "#         (67, 5, 360.12, '2024-05-18'),\n",
        "#         (68, 5, -252.19, '2024-06-11'),\n",
        "#         (69, 5, -373.15, '2024-03-12'),\n",
        "#         (70, 5, -361.49, '2024-05-22'),\n",
        "#         (71, 5, -135.04, '2024-04-25'),\n",
        "#         (72, 5, -160.99, '2024-05-31'),\n",
        "#         (73, 5, 399.02, '2024-06-23'),\n",
        "#         (74, 5, -77.75, '2024-05-06'),\n",
        "#         (75, 5, -443.42, '2024-03-28'),\n",
        "#         (76, 5, 202.05, '2024-01-04'),\n",
        "#         (77, 5, -182.5, '2024-04-12'),\n",
        "#         (78, 5, -428.84, '2024-03-10'),\n",
        "#         (79, 5, 311.05, '2024-01-13'),\n",
        "#         (80, 5, 173.89, '2024-01-10'),\n",
        "#         (81, 6, -325.71, '2024-07-15'),\n",
        "#         (82, 6, 127.41, '2024-01-25'),\n",
        "#         (83, 6, -203.54, '2024-05-05'),\n",
        "#         (84, 6, 478.24, '2024-05-07'),\n",
        "#         (85, 6, -27.91, '2024-07-21'),\n",
        "#         (86, 6, 194.06, '2024-01-14'),\n",
        "#         (87, 6, -224.5, '2024-06-15'),\n",
        "#         (88, 6, -394.75, '2024-04-18'),\n",
        "#         (89, 6, 130.54, '2024-03-26'),\n",
        "#         (90, 6, 494.1, '2024-02-23'),\n",
        "#         (91, 6, -136.39, '2024-05-17'),\n",
        "#         (92, 6, 35.12, '2024-04-28'),\n",
        "#         (93, 6, -333.55, '2024-04-25'),\n",
        "#         (94, 6, 170.36, '2024-03-05'),\n",
        "#         (95, 6, 345.4, '2024-03-09'),\n",
        "#         (96, 6, -130.69, '2024-05-24')\n",
        "# ])\n",
        "\n",
        "# connection.commit()\n",
        "# connection.close()"
      ]
    }
  ],
  "metadata": {
    "kernelspec": {
      "display_name": "langchain-opentutorial-BpEVOGYk-py3.11",
      "language": "python",
      "name": "python3"
    },
    "language_info": {
      "codemirror_mode": {
        "name": "ipython",
        "version": 3
      },
      "file_extension": ".py",
      "mimetype": "text/x-python",
      "name": "python",
      "nbconvert_exporter": "python",
      "pygments_lexer": "ipython3",
      "version": "3.11.9"
    }
  },
  "nbformat": 4,
  "nbformat_minor": 2
}
