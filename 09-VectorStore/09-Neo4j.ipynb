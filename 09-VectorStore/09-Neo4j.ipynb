{
 "cells": [
  {
   "cell_type": "markdown",
   "id": "635d8ebb",
   "metadata": {},
   "source": [
    "# Neo4j Vector Index\n",
    "\n",
    "- Author: [Jongho](https://github.com/XaviereKU)\n",
    "- Design: \n",
    "- Peer Review: \n",
    "- This is a part of [LangChain Open Tutorial](https://github.com/LangChain-OpenTutorial/LangChain-OpenTutorial)\n",
    "\n",
    "[![Open in Colab](https://colab.research.google.com/assets/colab-badge.svg)](https://colab.research.google.com/github/LangChain-OpenTutorial/LangChain-OpenTutorial/blob/main/99-TEMPLATE/00-BASE-TEMPLATE-EXAMPLE.ipynb) [![Open in GitHub](https://img.shields.io/badge/Open%20in%20GitHub-181717?style=flat-square&logo=github&logoColor=white)](https://github.com/LangChain-OpenTutorial/LangChain-OpenTutorial/blob/main/99-TEMPLATE/00-BASE-TEMPLATE-EXAMPLE.ipynb)\n",
    "\n",
    "## Overview\n",
    "\n",
    "In this tutorial, we will use **Neo4j** as our vectorstore.\n",
    "\n",
    "Throughout this tutorial, we build our vectorstore with Neo4j vector index(`Neo4jVector`) with `OpenAIEmbeddings`, and use it to retrieve data that we want.\n",
    "\n",
    "To fully utilize Neo4j you need to know how use `Cypher`, declarative query language for Neo4j.\n",
    "\n",
    "We use some Cypher queries but will not go deeply. You can visit Cypher official document web site in References.\n",
    "\n",
    "For more information, visit [Neo4j](https://neo4j.com/).\n",
    "\n",
    "### Table of Contents\n",
    "\n",
    "- [Overview](#overview)\n",
    "- [Environment Setup](#environment-setup)\n",
    "- [Setup Neo4j](#setup-neo4j)\n",
    "- [Load Dataset](#load-dataset)\n",
    "- [Store Dataset from Scratch](#store-dataset-from-scratch)\n",
    "- [Working with Existing Vectorstore](#working-with-existing-vectorstore)\n",
    "- [Manage vector store](#manage-vector-store)\n",
    "- [Query vector store](#query-vector-store)\n",
    "\n",
    "### References\n",
    "\n",
    "- [Cypher](https://neo4j.com/docs/cypher-manual/current/introduction/)\n",
    "- [Neo4j Docker Installation](https://hub.docker.com/_/neo4j)\n",
    "- [Neo4j Official Installation guide](https://neo4j.com/docs/operations-manual/current/installation/)\n",
    "- [Langchain Neo4j document](https://python.langchain.com/docs/integrations/vectorstores/neo4jvector/)\n",
    "----"
   ]
  },
  {
   "cell_type": "markdown",
   "id": "c6c7aba4",
   "metadata": {},
   "source": [
    "## Environment Setup\n",
    "\n",
    "Set up the environment. You may refer to [Environment Setup](https://wikidocs.net/257836) for more details.\n",
    "\n",
    "**[Note]**\n",
    "- `langchain-opentutorial` is a package that provides a set of easy-to-use environment setup, useful functions and utilities for tutorials. \n",
    "- You can checkout the [`langchain-opentutorial`](https://github.com/LangChain-OpenTutorial/langchain-opentutorial-pypi) for more details."
   ]
  },
  {
   "cell_type": "code",
   "execution_count": 1,
   "id": "21943adb",
   "metadata": {},
   "outputs": [],
   "source": [
    "%%capture --no-stderr\n",
    "%pip install langchain-opentutorial"
   ]
  },
  {
   "cell_type": "code",
   "execution_count": 2,
   "id": "3298d8da",
   "metadata": {},
   "outputs": [
    {
     "name": "stdout",
     "output_type": "stream",
     "text": [
      "\u001b[33mWARNING: Running pip as the 'root' user can result in broken permissions and conflicting behaviour with the system package manager, possibly rendering your system unusable.It is recommended to use a virtual environment instead: https://pip.pypa.io/warnings/venv. Use the --root-user-action option if you know what you are doing and want to suppress this warning.\u001b[0m\u001b[33m\n",
      "\u001b[0mNote: you may need to restart the kernel to use updated packages.\n",
      "\u001b[33mWARNING: Running pip as the 'root' user can result in broken permissions and conflicting behaviour with the system package manager, possibly rendering your system unusable.It is recommended to use a virtual environment instead: https://pip.pypa.io/warnings/venv. Use the --root-user-action option if you know what you are doing and want to suppress this warning.\u001b[0m\u001b[33m\n",
      "\u001b[0mNote: you may need to restart the kernel to use updated packages.\n"
     ]
    }
   ],
   "source": [
    "# Pip install necessary package\n",
    "%pip install -qU  neo4j\n",
    "%pip install -qU  langchain-neo4j"
   ]
  },
  {
   "cell_type": "code",
   "execution_count": 3,
   "id": "f25ec196",
   "metadata": {},
   "outputs": [
    {
     "name": "stderr",
     "output_type": "stream",
     "text": [
      "\u001b[33mWARNING: Running pip as the 'root' user can result in broken permissions and conflicting behaviour with the system package manager, possibly rendering your system unusable.It is recommended to use a virtual environment instead: https://pip.pypa.io/warnings/venv. Use the --root-user-action option if you know what you are doing and want to suppress this warning.\u001b[0m\u001b[33m\n",
      "\u001b[0m"
     ]
    }
   ],
   "source": [
    "# Install required packages\n",
    "from langchain_opentutorial import package\n",
    "\n",
    "package.install(\n",
    "    [\n",
    "        \"langsmith\",\n",
    "        \"langchain\",\n",
    "        \"langchain_core\",\n",
    "        \"langchain_community\",\n",
    "        \"langchain_text_splitters\",\n",
    "        \"langchain_openai\",\n",
    "        \"langchain_neo4j\",\n",
    "        \"neo4j\",\n",
    "    ],\n",
    "    verbose=False,\n",
    "    upgrade=False,\n",
    ")"
   ]
  },
  {
   "cell_type": "code",
   "execution_count": 4,
   "id": "7f9065ea",
   "metadata": {},
   "outputs": [
    {
     "name": "stdout",
     "output_type": "stream",
     "text": [
      "Environment variables have been set successfully.\n"
     ]
    }
   ],
   "source": [
    "# Set environment variables\n",
    "from langchain_opentutorial import set_env\n",
    "\n",
    "set_env(\n",
    "    {\n",
    "        \"OPENAI_API_KEY\": \"\",\n",
    "        \"LANGCHAIN_API_KEY\": \"\",\n",
    "        \"LANGCHAIN_TRACING_V2\": \"true\",\n",
    "        \"LANGCHAIN_ENDPOINT\": \"https://api.smith.langchain.com\",\n",
    "        \"LANGCHAIN_PROJECT\": \"Neo4j\",\n",
    "    }\n",
    ")"
   ]
  },
  {
   "cell_type": "markdown",
   "id": "690a9ae0",
   "metadata": {},
   "source": [
    "You can alternatively set API keys such as `OPENAI_API_KEY` in a `.env` file and load them.\n",
    "\n",
    "[Note] This is not necessary if you've already set the required API keys in previous steps."
   ]
  },
  {
   "cell_type": "code",
   "execution_count": 5,
   "id": "4f99b5b6",
   "metadata": {},
   "outputs": [
    {
     "data": {
      "text/plain": [
       "False"
      ]
     },
     "execution_count": 5,
     "metadata": {},
     "output_type": "execute_result"
    }
   ],
   "source": [
    "# Load API keys from .env file\n",
    "from dotenv import load_dotenv\n",
    "\n",
    "load_dotenv(override=True)"
   ]
  },
  {
   "cell_type": "markdown",
   "id": "185d4b05",
   "metadata": {},
   "source": [
    "## Setup Neo4j\n",
    "Neo4j supports Linux, macOS and windows, but in this tutorial we setup `Neo4j` using docker.\n",
    "\n",
    "You can visit **Neo4j Docker installation** reference to check more detailed information and **Neo4j Official Installation guide** reference to check installation for Linux, macOS and windows.\n",
    "\n",
    "To run Neo4j container, we use the following command.\n",
    "```\n",
    "docker run \\\n",
    "    -itd \\\n",
    "    --publish=7474:7474 --publish=7687:7687 \\\n",
    "    --volume=$HOME/neo4j/data:/data \\\n",
    "    --env=NEO4J_AUTH=none \\\n",
    "    --name neo4j \\\n",
    "    neo4j\n",
    "```\n",
    "\n",
    "**[NOTE]**\n",
    "\n",
    "* The env NEO4J_AUTH=none is set as this is just a tutorial, if you want to use Neo4j as a production, **DO NOT** set it to none.\n",
    "* **7474** port is used for HTTP you can access dashboard with your browser by http://localhost:7474\n",
    "* **7687** port is used for bolt access. This is the port we will use in this notebook\n",
    "\n",
    "Now we set neo4j url to be used through this tutorial"
   ]
  },
  {
   "cell_type": "code",
   "execution_count": 6,
   "id": "b58e1514",
   "metadata": {},
   "outputs": [],
   "source": [
    "# set parameters for neo4j\n",
    "\n",
    "url = \"bolt://172.16.16.192:7687\"\n",
    "username = \"neo4j\"\n",
    "password = \"neo4j\"\n",
    "\n",
    "# You can also use environment variables instead of directly passing named parameters\n",
    "# os.environ[\"NEO4J_URI\"] = \"bolt://localhost:7687\"\n",
    "# os.environ[\"NEO4J_USERNAME\"] = \"neo4j\"\n",
    "# os.environ[\"NEO4J_PASSWORD\"] = \"neo4j\""
   ]
  },
  {
   "cell_type": "markdown",
   "id": "445db7bd",
   "metadata": {},
   "source": [
    "If you did not set NEO4J_AUTH environment variable to none, you **MUST** set your credential by open http://localhost:7474 and set password parameter with new credential"
   ]
  },
  {
   "cell_type": "markdown",
   "id": "4c892294",
   "metadata": {},
   "source": [
    "## Load Dataset\n",
    "\n",
    "Prepare your own dataset in **txt** format and place it under data folder."
   ]
  },
  {
   "cell_type": "code",
   "execution_count": 7,
   "id": "a7582201",
   "metadata": {},
   "outputs": [],
   "source": [
    "# Import required packages to load dataset\n",
    "from langchain_community.document_loaders import TextLoader\n",
    "from langchain_core.documents import Document\n",
    "from langchain_openai import OpenAIEmbeddings\n",
    "from langchain_text_splitters import CharacterTextSplitter\n",
    "\n",
    "# Import neo4j related packages\n",
    "from langchain_neo4j import Neo4jVector\n",
    "from langchain_neo4j.vectorstores.utils import DistanceStrategy"
   ]
  },
  {
   "cell_type": "code",
   "execution_count": 8,
   "id": "2f8b4008",
   "metadata": {},
   "outputs": [],
   "source": [
    "# Load data with TextLoader\n",
    "loader = TextLoader(\"data/state_of_the_union.txt\", encoding=\"utf8\")\n",
    "\n",
    "documents = loader.load()\n",
    "\n",
    "# Set textsplitter\n",
    "text_splitter = CharacterTextSplitter(chunk_size=1000, chunk_overlap=0)\n",
    "\n",
    "# Split text\n",
    "docs = text_splitter.split_documents(documents)\n",
    "\n",
    "# Initialize OpenAIEmbeddings\n",
    "embeddings = OpenAIEmbeddings()"
   ]
  },
  {
   "cell_type": "code",
   "execution_count": 9,
   "id": "15f827e2-d001-4ded-b8f9-821446415425",
   "metadata": {},
   "outputs": [
    {
     "name": "stdout",
     "output_type": "stream",
     "text": [
      "Type of docs: <class 'list'>\n",
      "\n",
      "Type of item in docs: <class 'langchain_core.documents.base.Document'>\n",
      "\n",
      "Item in docs: Madam Speaker, Madam Vice President, our First Lady and Second Gentleman. Members of Congress and the Cabinet. Justices of the Supreme Court. My fellow Americans.  \n",
      "\n",
      "Last year COVID-19 kept us apart. \n"
     ]
    }
   ],
   "source": [
    "# check the type of each item in docs array\n",
    "print(\"Type of docs:\", type(docs))\n",
    "print()\n",
    "print(\"Type of item in docs:\", type(docs[0]))\n",
    "print()\n",
    "print(\"Item in docs:\", docs[0].page_content[:200])"
   ]
  },
  {
   "cell_type": "markdown",
   "id": "44d28309",
   "metadata": {},
   "source": [
    "## Store Dataset from Scratch\n",
    "\n",
    "Now we are ready to store our dataset into Neo4j from scratch."
   ]
  },
  {
   "cell_type": "code",
   "execution_count": 10,
   "id": "731f7503",
   "metadata": {},
   "outputs": [],
   "source": [
    "# Initialize database\n",
    "db = Neo4jVector.from_documents(\n",
    "    docs,\n",
    "    embeddings,\n",
    "    url=url,\n",
    "    username=username,\n",
    "    password=password,\n",
    "    index_name=\"Example_cosine\",\n",
    "    node_label=\"Example\",\n",
    ")"
   ]
  },
  {
   "cell_type": "markdown",
   "id": "e2b8ffdb",
   "metadata": {},
   "source": [
    "By default, similarity search will use cosine distance.\n",
    "\n",
    "But if you want to use Euclidean distance, see the following cell"
   ]
  },
  {
   "cell_type": "code",
   "execution_count": 11,
   "id": "5807ebe6",
   "metadata": {},
   "outputs": [],
   "source": [
    "# import DistanceStrategy\n",
    "from langchain_neo4j.vectorstores.utils import DistanceStrategy\n",
    "\n",
    "# Initialize database with EUCLIDEAN_DISTANCE\n",
    "db_euc = Neo4jVector.from_documents(\n",
    "    docs,\n",
    "    embeddings,\n",
    "    url=url,\n",
    "    username=username,\n",
    "    password=password,\n",
    "    distance_strategy=DistanceStrategy.EUCLIDEAN_DISTANCE,\n",
    "    index_name=\"Example_Euc\",\n",
    "    node_label=\"Euclidean\",\n",
    ")"
   ]
  },
  {
   "cell_type": "markdown",
   "id": "58558c95",
   "metadata": {},
   "source": [
    "Now we are ready!"
   ]
  },
  {
   "cell_type": "markdown",
   "id": "9965656a",
   "metadata": {},
   "source": [
    "## Working with Existing Vectorstore\n",
    "We created our first Neo4j vector store from scratch.\n",
    "But what if we want to work with an existing vectorstore?\n",
    "\n",
    "Remember the first Neo4j vector store we created? We set its index_name as Example_cosine?\n",
    "\n",
    "To use it, we just pass index_name = \"Example_cosine\" to `from_existing_index` method"
   ]
  },
  {
   "cell_type": "code",
   "execution_count": 12,
   "id": "4d781fad",
   "metadata": {},
   "outputs": [],
   "source": [
    "# set index_name\n",
    "index_name = \"Example_cosine\"\n",
    "\n",
    "# initialize new db named store from existing index\n",
    "store = Neo4jVector.from_existing_index(\n",
    "    embeddings, url=url, username=username, password=password, index_name=index_name\n",
    ")"
   ]
  },
  {
   "cell_type": "markdown",
   "id": "8954f9ac-02c4-430f-a57d-d68bec6a7c9f",
   "metadata": {},
   "source": [
    "## Manage vector store\n",
    "\n",
    "In this section we will see how to add, update and delete items from vector store"
   ]
  },
  {
   "cell_type": "markdown",
   "id": "546ffcd9",
   "metadata": {},
   "source": [
    "### Add items\n",
    "First we look how to add item to index(Example_cosine) we created.\n",
    "\n",
    "To add items directly, we use `Document` class we imported.\n",
    "\n",
    "But before we add, let's check how many items in Example_cosine index.\n",
    "\n",
    "Note that Neo4j uses node to denote item in vector store."
   ]
  },
  {
   "cell_type": "code",
   "execution_count": 13,
   "id": "979cf3bb-f158-4d6b-9a8f-e4748a366aa1",
   "metadata": {},
   "outputs": [
    {
     "data": {
      "text/plain": [
       "[{'count(*)': 42}]"
      ]
     },
     "execution_count": 13,
     "metadata": {},
     "output_type": "execute_result"
    }
   ],
   "source": [
    "# we use cypher query here. Below returns the number of all items, including null item\n",
    "store.query(\n",
    "    \"\"\"\n",
    " MATCH (n:Example) \n",
    " RETURN count(*)\n",
    " \"\"\"\n",
    ")"
   ]
  },
  {
   "cell_type": "markdown",
   "id": "7c97b1be-5e98-4fa5-9801-dfec1a0eee15",
   "metadata": {},
   "source": [
    "Now we add some items to store"
   ]
  },
  {
   "cell_type": "code",
   "execution_count": 14,
   "id": "4d6e5660-11e7-4351-81ce-81021892115b",
   "metadata": {},
   "outputs": [
    {
     "data": {
      "text/plain": [
       "['e7a6f17b2fa2f355f28fc83977fe61e4', '78c0ff48ad161b68ce52e076e0e4effa']"
      ]
     },
     "execution_count": 14,
     "metadata": {},
     "output_type": "execute_result"
    }
   ],
   "source": [
    "# set documents with Document class\n",
    "new_docs = [\n",
    "    Document(\n",
    "        page_content=\"This is langchain tutorial an open-source project done by langchain-opentutorial group\",\n",
    "        metadata={\"source\": \"\"},\n",
    "    ),\n",
    "    Document(\n",
    "        page_content=\"Now we are adding some documents\",\n",
    "        metadata={\"source\": \"\"},\n",
    "    ),\n",
    "]\n",
    "\n",
    "# add documents to store\n",
    "# this will return ids of the newly added items\n",
    "store.add_documents(new_docs)"
   ]
  },
  {
   "cell_type": "code",
   "execution_count": 15,
   "id": "010ddb58-483c-4382-9ca3-3208839746fa",
   "metadata": {},
   "outputs": [
    {
     "data": {
      "text/plain": [
       "[{'count(*)': 44}]"
      ]
     },
     "execution_count": 15,
     "metadata": {},
     "output_type": "execute_result"
    }
   ],
   "source": [
    "# Count the number of items again\n",
    "store.query(\n",
    "    \"\"\"\n",
    " MATCH (n:Example) \n",
    " RETURN count(*)\n",
    " \"\"\"\n",
    ")"
   ]
  },
  {
   "cell_type": "markdown",
   "id": "ffcee005-3256-47af-b80c-3323205f75bf",
   "metadata": {},
   "source": [
    "As you can see the number of items added to Example_cosine index with node_label Example"
   ]
  },
  {
   "cell_type": "markdown",
   "id": "b599d977-5cef-475f-824d-0302990a7a65",
   "metadata": {},
   "source": [
    "### Update items\n",
    "Now we update items in store.\n",
    "\n",
    "We put metadata-source as empty in above add documents example. Let's set it to 'langchain-opentutorial'"
   ]
  },
  {
   "cell_type": "code",
   "execution_count": 16,
   "id": "eaff7d04-aeb0-453a-a119-ddb98baab0d6",
   "metadata": {},
   "outputs": [
    {
     "data": {
      "text/plain": [
       "['e7a6f17b2fa2f355f28fc83977fe61e4', '78c0ff48ad161b68ce52e076e0e4effa']"
      ]
     },
     "execution_count": 16,
     "metadata": {},
     "output_type": "execute_result"
    }
   ],
   "source": [
    "# set documents with Document class\n",
    "new_docs = [\n",
    "    Document(\n",
    "        page_content=\"This is langchain tutorial an open-source project done by langchain-opentutorial group\",\n",
    "        metadata={\"source\": \"langchain-opentutorial\"},\n",
    "    ),\n",
    "    Document(\n",
    "        page_content=\"Now we are adding some documents\",\n",
    "        metadata={\"source\": \"langchain-opentutorial\"},\n",
    "    ),\n",
    "]\n",
    "\n",
    "# add documents to store\n",
    "# this will return ids of the newly added items\n",
    "store.add_documents(new_docs)"
   ]
  },
  {
   "cell_type": "markdown",
   "id": "19bb2150-3667-47c2-8bd1-f65de7947ca5",
   "metadata": {},
   "source": [
    "Now we update metadata of two newly added documents.\n",
    "\n",
    "The `add_documents` methods also updates the item not just add the item.\n",
    "\n",
    "You can see that the returns, the ids of added documents, are the same as in add documents section.\n",
    "\n",
    "You can pass ids as a kwargs to add_documents to update specific item."
   ]
  },
  {
   "cell_type": "code",
   "execution_count": 17,
   "id": "df446cda-f8a6-47a6-945d-dea54cd407d0",
   "metadata": {},
   "outputs": [
    {
     "data": {
      "text/plain": [
       "['e7a6f17b2fa2f355f28fc83977fe61e4']"
      ]
     },
     "execution_count": 17,
     "metadata": {},
     "output_type": "execute_result"
    }
   ],
   "source": [
    "# Update item but with id\n",
    "store.add_documents(\n",
    "    [\n",
    "        Document(\n",
    "            page_content=\"This is langchain tutorial, an open-source project done by langchain-opentutorial group.\",\n",
    "            metadata={\"source\": \"langchain-opentutorial\", \"method\": \"update_by_id\"},\n",
    "        )\n",
    "    ],\n",
    "    ids=[\"e7a6f17b2fa2f355f28fc83977fe61e4\"],\n",
    ")"
   ]
  },
  {
   "cell_type": "markdown",
   "id": "eb8e3645-baa3-4eec-9c1c-98d8b1e31d5b",
   "metadata": {},
   "source": [
    "### Delete items\n",
    "We can delete items with ids or other criterias.\n",
    "\n",
    "Unfortunately, as of `langchain-neo4j` version 0.2.0, `delete` method is not implemented yet, so we need to use Cypher."
   ]
  },
  {
   "cell_type": "code",
   "execution_count": 18,
   "id": "5733c56f-2a1e-4104-a689-9a765ec7acf1",
   "metadata": {},
   "outputs": [
    {
     "name": "stdout",
     "output_type": "stream",
     "text": [
      "dict_keys(['method', 'id', 'source', 'text', 'embedding'])\n",
      "text: This is langchain tutorial, an open-source project done by langchain-opentutorial group.\n",
      "text: e7a6f17b2fa2f355f28fc83977fe61e4\n"
     ]
    }
   ],
   "source": [
    "# query single item with id\n",
    "query_result = store.query(\n",
    "    \"\"\"\n",
    "    MATCH (n:Example)\n",
    "    WHERE n.id = 'e7a6f17b2fa2f355f28fc83977fe61e4'\n",
    "    Return n\n",
    "    \"\"\"\n",
    ")\n",
    "\n",
    "print(query_result[0][\"n\"].keys())\n",
    "print(\"text:\", query_result[0][\"n\"][\"text\"])\n",
    "print(\"text:\", query_result[0][\"n\"][\"id\"])"
   ]
  },
  {
   "cell_type": "code",
   "execution_count": 19,
   "id": "2eb04ec7-efc2-4d40-a333-527d3688f014",
   "metadata": {},
   "outputs": [
    {
     "data": {
      "text/plain": [
       "[]"
      ]
     },
     "execution_count": 19,
     "metadata": {},
     "output_type": "execute_result"
    }
   ],
   "source": [
    "# delete single item with id\n",
    "store.query(\n",
    "    \"\"\"\n",
    "    MATCH (n:Example)\n",
    "    WHERE n.id = 'e7a6f17b2fa2f355f28fc83977fe61e4'\n",
    "    DELETE n\n",
    "    \"\"\"\n",
    ")"
   ]
  },
  {
   "cell_type": "code",
   "execution_count": 20,
   "id": "c24df353-6bb1-4572-9d5f-cf7a35d769df",
   "metadata": {},
   "outputs": [
    {
     "name": "stdout",
     "output_type": "stream",
     "text": [
      "After deletion: [{'count(*)': 0}]\n"
     ]
    }
   ],
   "source": [
    "# check if item is deleted\n",
    "query_result = store.query(\n",
    "    \"\"\"\n",
    "    MATCH (n:Example)\n",
    "    WHERE n.id = 'e7a6f17b2fa2f355f28fc83977fe61e4'\n",
    "    Return count(*)\n",
    "    \"\"\"\n",
    ")\n",
    "\n",
    "print(\"After deletion:\", query_result)"
   ]
  },
  {
   "cell_type": "code",
   "execution_count": 21,
   "id": "b885a6f3-8574-48d7-abc2-8033a552717f",
   "metadata": {},
   "outputs": [
    {
     "name": "stdout",
     "output_type": "stream",
     "text": [
      "Before deletion: [{'count(*)': 1}]\n",
      "After deletion: [{'count(*)': 0}]\n"
     ]
    }
   ],
   "source": [
    "# query item where source metadata is langchain-opentutorial\n",
    "query_result = store.query(\n",
    "    \"\"\"\n",
    "    MATCH (n:Example)\n",
    "    WHERE n.source = 'langchain-opentutorial'\n",
    "    Return count(*)\n",
    "    \"\"\"\n",
    ")\n",
    "\n",
    "print(\"Before deletion:\", query_result)\n",
    "\n",
    "# delete by metadata\n",
    "store.query(\n",
    "    \"\"\"\n",
    "    MATCH (n:Example)\n",
    "    WHERE n.source = 'langchain-opentutorial'\n",
    "    DELETE n\n",
    "    \"\"\"\n",
    ")\n",
    "\n",
    "# check if item is deleted\n",
    "query_result = store.query(\n",
    "    \"\"\"\n",
    "    MATCH (n:Example)\n",
    "    WHERE n.source = 'langchain-opentutorial'\n",
    "    Return count(*)\n",
    "    \"\"\"\n",
    ")\n",
    "print(\"After deletion:\", query_result)"
   ]
  },
  {
   "cell_type": "markdown",
   "id": "f60b2384-d79e-41f8-8664-e9571a78f36d",
   "metadata": {},
   "source": [
    "You can also delete multiple items, or all data.\n",
    "\n",
    "Let's try it with item with label Example_Euc"
   ]
  },
  {
   "cell_type": "code",
   "execution_count": 22,
   "id": "34e071fc-4c83-4627-ba0f-8d2dcc0834c3",
   "metadata": {},
   "outputs": [
    {
     "name": "stdout",
     "output_type": "stream",
     "text": [
      "[{'count(*)': 42}]\n"
     ]
    }
   ],
   "source": [
    "# query items with node_label Euclidean\n",
    "query_result = store.query(\n",
    "    \"\"\"\n",
    "    MATCH (n:Euclidean)\n",
    "    Return count(*)\n",
    "    \"\"\"\n",
    ")\n",
    "\n",
    "print(query_result)"
   ]
  },
  {
   "cell_type": "code",
   "execution_count": 23,
   "id": "8f1a4225-98de-4c49-a5be-0d84d6af80a9",
   "metadata": {},
   "outputs": [
    {
     "data": {
      "text/plain": [
       "[]"
      ]
     },
     "execution_count": 23,
     "metadata": {},
     "output_type": "execute_result"
    }
   ],
   "source": [
    "# delete all items with node_label Euclidean\n",
    "store.query(\n",
    "    \"\"\"\n",
    "    MATCH (n:Euclidean)\n",
    "    DELETE n\n",
    "    \"\"\"\n",
    ")"
   ]
  },
  {
   "cell_type": "code",
   "execution_count": 24,
   "id": "44f9e25a-8b82-47a8-956f-a818963eb218",
   "metadata": {},
   "outputs": [
    {
     "name": "stdout",
     "output_type": "stream",
     "text": [
      "[{'count(*)': 0}]\n"
     ]
    }
   ],
   "source": [
    "# check if all the items are deleted\n",
    "query_result = store.query(\n",
    "    \"\"\"\n",
    "    MATCH (n:Euclidean)\n",
    "    Return count(*)\n",
    "    \"\"\"\n",
    ")\n",
    "\n",
    "print(query_result)"
   ]
  },
  {
   "cell_type": "markdown",
   "id": "02d23d3c",
   "metadata": {},
   "source": [
    "## Query vector store\n",
    "### Query directly\n",
    "By default, similarity search will use **cosine distance**.\n",
    "\n",
    "But as Neo4j also supports Euclidean distance, you can use it if you want.\n",
    "\n",
    "First, we do similarity search with cosine distance to get 2 documents."
   ]
  },
  {
   "cell_type": "code",
   "execution_count": 25,
   "id": "9aa76180",
   "metadata": {},
   "outputs": [
    {
     "name": "stdout",
     "output_type": "stream",
     "text": [
      "Searched document number : 2\n"
     ]
    }
   ],
   "source": [
    "# Write your query\n",
    "query = \"What did the president say about Ketanji Brown Jackson\"\n",
    "\n",
    "# Do similarity search\n",
    "# Here k means the number of documents we want.\n",
    "docs_only = db.similarity_search(query, k=2)\n",
    "\n",
    "print(\"Searched document number :\", len(docs_only))"
   ]
  },
  {
   "cell_type": "code",
   "execution_count": 26,
   "id": "e167e44f",
   "metadata": {},
   "outputs": [
    {
     "name": "stdout",
     "output_type": "stream",
     "text": [
      "--------------------------------------------------------------------------------\n",
      "Tonight. I call on the Senate to: Pass the Freedom to Vote Act. Pass the John Lewis Voting Rights Act. And while you’re at it, pass the Disclose Act so Americans can know who is funding our elections.\n",
      "--------------------------------------------------------------------------------\n",
      "--------------------------------------------------------------------------------\n",
      "A former top litigator in private practice. A former federal public defender. And from a family of public school educators and police officers. A consensus builder. Since she’s been nominated, she’s r\n",
      "--------------------------------------------------------------------------------\n"
     ]
    }
   ],
   "source": [
    "# print searched docs\n",
    "for doc in docs_only:\n",
    "    print(\"-\" * 80)\n",
    "    print(doc.page_content[:200])\n",
    "    print(\"-\" * 80)"
   ]
  },
  {
   "cell_type": "markdown",
   "id": "d2e00740",
   "metadata": {},
   "source": [
    "Also, you can get similarity scores together with documents."
   ]
  },
  {
   "cell_type": "code",
   "execution_count": 27,
   "id": "e01f4e4d",
   "metadata": {},
   "outputs": [
    {
     "name": "stdout",
     "output_type": "stream",
     "text": [
      "Searched document number : 2\n",
      "--------------------------------------------------------------------------------\n",
      "Score : 0.902435302734375\n",
      "Tonight. I call on the Senate to: Pass the Freedom to Vote Act. Pass the John Lewis Voting Rights Act. And while you’re at it, pass the Disclose Act so Americans can know who is funding our elections.\n",
      "--------------------------------------------------------------------------------\n",
      "--------------------------------------------------------------------------------\n",
      "Score : 0.8859710693359375\n",
      "A former top litigator in private practice. A former federal public defender. And from a family of public school educators and police officers. A consensus builder. Since she’s been nominated, she’s r\n",
      "--------------------------------------------------------------------------------\n"
     ]
    }
   ],
   "source": [
    "# Do similarity search with scores\n",
    "docs_with_scores = db.similarity_search_with_score(query, k=2)\n",
    "\n",
    "print(\"Searched document number :\", len(docs_with_scores))\n",
    "\n",
    "# print searched docs and there cosine similarity score\n",
    "for doc, score in docs_with_scores:\n",
    "    print(\"-\" * 80)\n",
    "    print(\"Score :\", score)\n",
    "    print(doc.page_content[:200])\n",
    "    print(\"-\" * 80)"
   ]
  },
  {
   "cell_type": "code",
   "execution_count": 28,
   "id": "f82c3b2d",
   "metadata": {},
   "outputs": [
    {
     "name": "stdout",
     "output_type": "stream",
     "text": [
      "Searched document number : 0\n"
     ]
    }
   ],
   "source": [
    "# Do similarity search with scores - Euclidean distance\n",
    "euc_docs_with_scores = db_euc.similarity_search_with_score(query, k=2)\n",
    "\n",
    "print(\"Searched document number :\", len(euc_docs_with_scores))\n",
    "\n",
    "# print searched docs and there cosine similarity score\n",
    "for doc, score in euc_docs_with_scores:\n",
    "    print(\"-\" * 80)\n",
    "    print(\"Score :\", score)\n",
    "    print(doc.page_content[:200])\n",
    "    print(\"-\" * 80)"
   ]
  },
  {
   "cell_type": "markdown",
   "id": "b027b66e",
   "metadata": {},
   "source": [
    "As you can see, different distance strategy gives different score.\n",
    "\n",
    "You can check more at [DistanceStrategy](https://python.langchain.com/api_reference/neo4j/vectorstores/langchain_neo4j.vectorstores.utils.DistanceStrategy.html) for Neo4jVector"
   ]
  },
  {
   "cell_type": "markdown",
   "id": "c7df5ab7-8ed1-460f-8012-808dd139615d",
   "metadata": {},
   "source": [
    "### Query by turning into retriever\n",
    "We also can use `as_retriever` method to turn database into retriever.\n",
    "\n",
    "With this method, you can put this into chain and to Retrieval Augmented Generation(RAG)."
   ]
  },
  {
   "cell_type": "code",
   "execution_count": 29,
   "id": "bd248bfe-a9f5-47d9-9eb6-391307dd694e",
   "metadata": {},
   "outputs": [
    {
     "name": "stdout",
     "output_type": "stream",
     "text": [
      "--------------------------------------------------------------------------------\n",
      "Tonight. I call on the Senate to: Pass the Freedom to Vote Act. Pass the John Lewis Voting Rights Act. And while you’re at it, pass the Disclose Act so Americans can know who is funding our elections.\n",
      "--------------------------------------------------------------------------------\n",
      "--------------------------------------------------------------------------------\n",
      "A former top litigator in private practice. A former federal public defender. And from a family of public school educators and police officers. A consensus builder. Since she’s been nominated, she’s r\n",
      "--------------------------------------------------------------------------------\n",
      "--------------------------------------------------------------------------------\n",
      "Tonight, I’m announcing a crackdown on these companies overcharging American businesses and consumers. \n",
      "\n",
      "And as Wall Street firms take over more nursing homes, quality in those homes has gone down and\n",
      "--------------------------------------------------------------------------------\n",
      "--------------------------------------------------------------------------------\n",
      "And for our LGBTQ+ Americans, let’s finally get the bipartisan Equality Act to my desk. The onslaught of state laws targeting transgender Americans and their families is wrong. \n",
      "\n",
      "As I said last year, \n",
      "--------------------------------------------------------------------------------\n"
     ]
    }
   ],
   "source": [
    "# turn db into retirever\n",
    "retriever = store.as_retriever()\n",
    "\n",
    "# invoke retriever to get result\n",
    "results = retriever.invoke(\"What did the president say about Ketanji Brown Jackson\")\n",
    "\n",
    "for result in results:\n",
    "    print(\"-\" * 80)\n",
    "    print(result.page_content[:200])\n",
    "    print(\"-\" * 80)"
   ]
  },
  {
   "cell_type": "markdown",
   "id": "782f0f18-b526-4d57-bd2e-16661052a0cc",
   "metadata": {},
   "source": [
    "`as_retriever` method, as a default, return 4 documents.\n",
    "\n",
    "If you want to retrieve more or less documents you can do the following."
   ]
  },
  {
   "cell_type": "code",
   "execution_count": 30,
   "id": "2a5d031a-9009-4e0e-81df-64af917dbf40",
   "metadata": {},
   "outputs": [
    {
     "name": "stdout",
     "output_type": "stream",
     "text": [
      "--------------------------------------------------------------------------------\n",
      "Tonight. I call on the Senate to: Pass the Freedom to Vote Act. Pass the John Lewis Voting Rights Act. And while you’re at it, pass the Disclose Act so Americans can know who is funding our elections.\n",
      "--------------------------------------------------------------------------------\n",
      "--------------------------------------------------------------------------------\n",
      "A former top litigator in private practice. A former federal public defender. And from a family of public school educators and police officers. A consensus builder. Since she’s been nominated, she’s r\n",
      "--------------------------------------------------------------------------------\n"
     ]
    }
   ],
   "source": [
    "# turn db into retirever to return 2 documents\n",
    "retriever = store.as_retriever(search_kwargs={\"k\": 2})\n",
    "\n",
    "# invoke retriever to get result\n",
    "results = retriever.invoke(\"What did the president say about Ketanji Brown Jackson\")\n",
    "\n",
    "for result in results:\n",
    "    print(\"-\" * 80)\n",
    "    print(result.page_content[:200])\n",
    "    print(\"-\" * 80)"
   ]
  },
  {
   "cell_type": "markdown",
   "id": "164b2ab3-b5f6-4685-9bed-b483aca56a43",
   "metadata": {},
   "source": [
    "If you want to get score also, you can use decorator `@chain`"
   ]
  },
  {
   "cell_type": "code",
   "execution_count": 31,
   "id": "d5736e9a-32da-425d-82f0-e8c8a28c1c30",
   "metadata": {},
   "outputs": [],
   "source": [
    "# import necessary package\n",
    "from langchain_core.runnables import chain\n",
    "\n",
    "\n",
    "# define retriever_with_score with chain decorator\n",
    "@chain\n",
    "def retriever_with_score(query):\n",
    "    docs, scores = zip(*store.similarity_search_with_score(query, k=2))\n",
    "    for doc, score in zip(docs, scores):\n",
    "        doc.metadata[\"score\"] = score\n",
    "\n",
    "    return docs"
   ]
  },
  {
   "cell_type": "code",
   "execution_count": 32,
   "id": "75787779-63b7-41e3-bf6a-2e574e113cb4",
   "metadata": {},
   "outputs": [
    {
     "name": "stdout",
     "output_type": "stream",
     "text": [
      "--------------------------------------------------------------------------------\n",
      "Score : 0.902435302734375\n",
      "Tonight. I call on the Senate to: Pass the Freedom to Vote Act. Pass the John Lewis Voting Rights Act. And while you’re at it, pass the Disclose Act so Americans can know who is funding our elections.\n",
      "--------------------------------------------------------------------------------\n",
      "--------------------------------------------------------------------------------\n",
      "Score : 0.8859710693359375\n",
      "A former top litigator in private practice. A former federal public defender. And from a family of public school educators and police officers. A consensus builder. Since she’s been nominated, she’s r\n",
      "--------------------------------------------------------------------------------\n"
     ]
    }
   ],
   "source": [
    "# invoke retriever_with_score\n",
    "results = retriever_with_score.invoke(\n",
    "    \"What did the president say about Ketanji Brown Jackson\"\n",
    ")\n",
    "\n",
    "# print result\n",
    "# Note that Score is inside the metadata now\n",
    "for result in results:\n",
    "    print(\"-\" * 80)\n",
    "    print(\"Score :\", result.metadata[\"score\"])\n",
    "    print(result.page_content[:200])\n",
    "    print(\"-\" * 80)"
   ]
  }
 ],
 "metadata": {
  "kernelspec": {
   "display_name": "langchain",
   "language": "python",
   "name": "langchain"
  },
  "language_info": {
   "codemirror_mode": {
    "name": "ipython",
    "version": 3
   },
   "file_extension": ".py",
   "mimetype": "text/x-python",
   "name": "python",
   "nbconvert_exporter": "python",
   "pygments_lexer": "ipython3",
   "version": "3.11.11"
  }
 },
 "nbformat": 4,
 "nbformat_minor": 5
}
